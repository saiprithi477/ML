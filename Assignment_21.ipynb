{
 "cells": [
  {
   "cell_type": "code",
   "execution_count": null,
   "id": "22fae957-58ed-4144-903c-62a26c1246c8",
   "metadata": {},
   "outputs": [],
   "source": []
  },
  {
   "cell_type": "code",
   "execution_count": 10,
   "id": "7000d0eb-c735-470e-8edf-1a7276f53e9c",
   "metadata": {},
   "outputs": [
    {
     "data": {
      "text/plain": [
       "'Santhanam, Jayendhran <jayendhran.ms@accenture.com>; Bhattacharjee, Sankalan <s.t.bhattacharjee@accenture.com>; Bansal, Vaishnavi <vaishnavi.a.bansal@accenture.com>; Chandra Shekhar, Pavuluri <p.a.chandra.shekhar@accenture.com>; J Doshi, Hiren <hiren.j.doshi@accenture.com>; Shimoga Prakash, Jeevan <j.shimoga.prakash@accenture.com>; Akhouri, Shreyash <shreyash.akhouri@accenture.com>; Nath, Nupanga <nupanga.nath@accenture.com>; Ponna, Ramesh <r.ponna@accenture.com>; Singhal, Aditya <aditya.d.singhal@accenture.com>; Gorai, Sumit <sumit.gorai@accenture.com>; Valdez, Mariele Dyan Francely <mariele.dyan.valdez@accenture.com>; Cancel, Abigail Kyle <abigail.kyle.cancel@accenture.com>; BONDALAKUNTA, POOJITHA <p.bondalakunta@accenture.com>; priyanka uppala, sai <sai.priyanka.uppala@accenture.com>; Nitin SHINDE, NIKHIL <nikhil.nitin.shinde@accenture.com>; Chidre, Swapna <swapna.chidre@accenture.com>; Sahu, Swastik <s.satyapragyan.sahu@accenture.com>; Sikka, Ankit <ankit.sikka@accenture.com>; Dara, Sai Madhukar <sai.madhukar.dara@accenture.com>; Pattanshetti, Sampreet <s.pattanshetti@accenture.com>; Sharma, Ayush <ayush.ad.sharma@accenture.com>; Latorena, Zairous Jay <zairous.jay.latorena@accenture.com>; Abhimanyu Pradhan, Roshankumar <r.abhimanyu.pradhan@accenture.com>; Jaiswal, Lehar <lehar.jaiswal@accenture.com>; Gupta, Retik <retik.gupta@accenture.com>; Satti, Phanindra Reddy <phanindra.r.satti@accenture.com>; Kumar, Manish <manish.dw.kumar@accenture.com>; Balakrishnan, Devi Priya <devi.p.balakrishnan@accenture.com>; M S, Roshni Priya <roshni.priya.m.s@accenture.com>; Cheerala, Vanaja <vanaja.cheerala@accenture.com>; G D, Chandrashekhar <chandrashekhar.g.d@accenture.com>; Nikhil Reddy, Madithati <m.nikhil.reddy@accenture.com>; Santos, Jeroshelle V. <jeroshelle.v.santos@accenture.com>; Milan, Gerald John <gerald.john.milan@accenture.com>; Gupta, Vivek <vivek.u.gupta@accenture.com>; Mandal, Sumit <s.sunilkumar.mandal@accenture.com>; Prakash Shukla, Ashok <ashok.prakash.shukla@accenture.com>; Naganathan, Siva <sivakumar.naganathan@accenture.com>; GAHLOT, NIKHIL <nikhil.gahlot@accenture.com>; Kanjilal, Sourav <s.a.kanti.kanjilal@accenture.com>; Nallagoni, Omkar <omkar.nallagoni@accenture.com>; Sahajan, Sandra <sandra.sahajan@accenture.com>; Nelluri, Chaitanya <chaitanya.nelluri@accenture.com>'"
      ]
     },
     "execution_count": 10,
     "metadata": {},
     "output_type": "execute_result"
    }
   ],
   "source": [
    "file_location=r'C:\\Users\\saiprithi\\Documents\\naresh it\\datasience ai\\emails.txt'\n",
    "open(file_location).read()"
   ]
  },
  {
   "cell_type": "code",
   "execution_count": 32,
   "id": "527123f9-acf5-4d73-8f28-a14e8b4e9b14",
   "metadata": {},
   "outputs": [
    {
     "name": "stdout",
     "output_type": "stream",
     "text": [
      "First name in email.txt is \n",
      " ['Santhanam', ' Bhattacharjee', ' Bansal', ' Chandra Shekhar', ' J Doshi', ' Shimoga Prakash', ' Akhouri', ' Nath', ' Ponna', ' Singhal', ' Gorai', ' Valdez', ' Cancel', ' BONDALAKUNTA', ' priyanka uppala', ' Nitin SHINDE', ' Chidre', ' Sahu', ' Sikka', ' Dara', ' Pattanshetti', ' Sharma', ' Latorena', ' Abhimanyu Pradhan', ' Jaiswal', ' Gupta', ' Satti', ' Kumar', ' Balakrishnan', ' M S', ' Cheerala', ' G D', ' Nikhil Reddy', ' Santos', ' Milan', ' Gupta', ' Mandal', ' Prakash Shukla', ' Naganathan', ' GAHLOT', ' Kanjilal', ' Nallagoni', ' Sahajan', ' Nelluri']\n",
      "Second name in email.txt is \n",
      " [' Jayendhran ', ' Sankalan ', ' Vaishnavi ', ' Pavuluri ', ' Hiren ', ' Jeevan ', ' Shreyash ', ' Nupanga ', ' Ramesh ', ' Aditya ', ' Sumit ', ' Mariele Dyan Francely ', ' Abigail Kyle ', ' POOJITHA ', ' sai ', ' NIKHIL ', ' Swapna ', ' Swastik ', ' Ankit ', ' Sai Madhukar ', ' Sampreet ', ' Ayush ', ' Zairous Jay ', ' Roshankumar ', ' Lehar ', ' Retik ', ' Phanindra Reddy ', ' Manish ', ' Devi Priya ', ' Roshni Priya ', ' Vanaja ', ' Chandrashekhar ', ' Madithati ', ' Jeroshelle V. ', ' Gerald John ', ' Vivek ', ' Sumit ', ' Ashok ', ' Siva ', ' NIKHIL ', ' Sourav ', ' Omkar ', ' Sandra ', ' Chaitanya ']\n",
      "Email name in email.txt is \n",
      " ['jayendhran.ms@accenture.com>', 's.t.bhattacharjee@accentur', 'vaishnavi.a.bansal@accenture.com', 'p.a.chandra.shekhar@acce', 'hiren.j.doshi@accenture.com>', 'j.shimoga.prakash@accentur', 'shreyash.akhouri@accenture.com>', 'nupanga.nath@accenture.com>', 'r.ponna@accenture.com>', 'aditya.d.singhal@accenture.com>', 'sumit.gorai@accenture.com>', 'mariele.dyan.valdez@', 'abigail.kyle.cancel@accenture', 'p.bondalakunta@accenture.co', 'sai.priyanka.uppala@accenture', 'nikhil.nitin.shinde@accenture', 'swapna.chidre@accenture.com>', 's.satyapragyan.sahu@accenture.com>', 'ankit.sikka@accenture.com>', 'sai.madhukar.dara@accenture.com', 's.pattanshetti@accenture.co', 'ayush.ad.sharma@accenture.com>', 'zairous.jay.latorena@accentu', 'r.abhimanyu.pradhan', 'lehar.jaiswal@accenture.com>', 'retik.gupta@accenture.com>', 'phanindra.r.satti@accenture', 'manish.dw.kumar@accenture.com>', 'devi.p.balakrishnan@accen', 'roshni.priya.m.s@accenture.com>', 'vanaja.cheerala@accenture.com>', 'chandrashekhar.g.d@accenture.c', 'm.nikhil.reddy@accenture.c', 'jeroshelle.v.santos@accentur', 'gerald.john.milan@accenture.com', 'vivek.u.gupta@accenture.com>', 's.sunilkumar.mandal@accenture.com>', 'ashok.prakash.shukla@accentu', 'sivakumar.naganathan@accenture.co', 'nikhil.gahlot@accenture.com>', 's.a.kanti.kanjilal@accenture.com>', 'omkar.nallagoni@accenture.com>', 'sandra.sahajan@accenture.com>', 'chaitanya.nelluri@accenture.com']\n"
     ]
    }
   ],
   "source": [
    "file_location=r'emails.txt'\n",
    "file=open(file_location,mode='r',encoding='utf-8-sig')\n",
    "for index,line in enumerate(file):\n",
    "    l=line.split(';')\n",
    "    fname=[]\n",
    "    sname=[]\n",
    "    email=[]\n",
    "    for i in l:\n",
    "        id1=i.find(',')\n",
    "        id2=i.find('<')\n",
    "        id3-i.find('>')\n",
    "        fname.append(i[:id1])\n",
    "        sname.append(i[id1+1:id2])\n",
    "        email.append(i[id2+1:id3])\n",
    "print(f'First name in email.txt is \\n {fname}')\n",
    "print(f'Second name in email.txt is \\n {sname}')\n",
    "print(f'Email name in email.txt is \\n {email}')"
   ]
  },
  {
   "cell_type": "code",
   "execution_count": 36,
   "id": "bdb863d4-afa4-4283-92e2-050adf50c73c",
   "metadata": {},
   "outputs": [
    {
     "name": "stdout",
     "output_type": "stream",
     "text": [
      "First name in email.txt is \n",
      " ['Santhanam', ' Bhattacharjee', ' Bansal', ' Chandra Shekhar', ' J Doshi', ' Shimoga Prakash', ' Akhouri', ' Nath', ' Ponna', ' Singhal', ' Gorai', ' Valdez', ' Cancel', ' BONDALAKUNTA', ' priyanka uppala', ' Nitin SHINDE', ' Chidre', ' Sahu', ' Sikka', ' Dara', ' Pattanshetti', ' Sharma', ' Latorena', ' Abhimanyu Pradhan', ' Jaiswal', ' Gupta', ' Satti', ' Kumar', ' Balakrishnan', ' M S', ' Cheerala', ' G D', ' Nikhil Reddy', ' Santos', ' Milan', ' Gupta', ' Mandal', ' Prakash Shukla', ' Naganathan', ' GAHLOT', ' Kanjilal', ' Nallagoni', ' Sahajan', ' Nelluri']\n",
      "Second name in email.txt is \n",
      " [' Jayendhran ', ' Sankalan ', ' Vaishnavi ', ' Pavuluri ', ' Hiren ', ' Jeevan ', ' Shreyash ', ' Nupanga ', ' Ramesh ', ' Aditya ', ' Sumit ', ' Mariele Dyan Francely ', ' Abigail Kyle ', ' POOJITHA ', ' sai ', ' NIKHIL ', ' Swapna ', ' Swastik ', ' Ankit ', ' Sai Madhukar ', ' Sampreet ', ' Ayush ', ' Zairous Jay ', ' Roshankumar ', ' Lehar ', ' Retik ', ' Phanindra Reddy ', ' Manish ', ' Devi Priya ', ' Roshni Priya ', ' Vanaja ', ' Chandrashekhar ', ' Madithati ', ' Jeroshelle V. ', ' Gerald John ', ' Vivek ', ' Sumit ', ' Ashok ', ' Siva ', ' NIKHIL ', ' Sourav ', ' Omkar ', ' Sandra ', ' Chaitanya ']\n",
      "Email name in email.txt is \n",
      " ['jayendhran.ms@accenture.com>', 's.t.bhattacharjee@accentur', 'vaishnavi.a.bansal@accenture.com', 'p.a.chandra.shekhar@acce', 'hiren.j.doshi@accenture.com>', 'j.shimoga.prakash@accentur', 'shreyash.akhouri@accenture.com>', 'nupanga.nath@accenture.com>', 'r.ponna@accenture.com>', 'aditya.d.singhal@accenture.com>', 'sumit.gorai@accenture.com>', 'mariele.dyan.valdez@', 'abigail.kyle.cancel@accenture', 'p.bondalakunta@accenture.co', 'sai.priyanka.uppala@accenture', 'nikhil.nitin.shinde@accenture', 'swapna.chidre@accenture.com>', 's.satyapragyan.sahu@accenture.com>', 'ankit.sikka@accenture.com>', 'sai.madhukar.dara@accenture.com', 's.pattanshetti@accenture.co', 'ayush.ad.sharma@accenture.com>', 'zairous.jay.latorena@accentu', 'r.abhimanyu.pradhan', 'lehar.jaiswal@accenture.com>', 'retik.gupta@accenture.com>', 'phanindra.r.satti@accenture', 'manish.dw.kumar@accenture.com>', 'devi.p.balakrishnan@accen', 'roshni.priya.m.s@accenture.com>', 'vanaja.cheerala@accenture.com>', 'chandrashekhar.g.d@accenture.c', 'm.nikhil.reddy@accenture.c', 'jeroshelle.v.santos@accentur', 'gerald.john.milan@accenture.com', 'vivek.u.gupta@accenture.com>', 's.sunilkumar.mandal@accenture.com>', 'ashok.prakash.shukla@accentu', 'sivakumar.naganathan@accenture.co', 'nikhil.gahlot@accenture.com>', 's.a.kanti.kanjilal@accenture.com>', 'omkar.nallagoni@accenture.com>', 'sandra.sahajan@accenture.com>', 'chaitanya.nelluri@accenture.com']\n"
     ]
    }
   ],
   "source": [
    "file_location=r'emails.txt'\n",
    "file=open(file_location,mode='r',encoding='utf-8-sig')\n",
    "with open(file_location,'r') as file:\n",
    "    fname=[]\n",
    "    sname=[]\n",
    "    email=[]\n",
    "    for i in l:\n",
    "        id1=i.find(',')\n",
    "        id2=i.find('<')\n",
    "        id3-i.find('>')\n",
    "        fname.append(i[:id1])\n",
    "        sname.append(i[id1+1:id2])\n",
    "        email.append(i[id2+1:id3])\n",
    "print(f'First name in email.txt is \\n {fname}')\n",
    "print(f'Second name in email.txt is \\n {sname}')\n",
    "print(f'Email name in email.txt is \\n {email}')"
   ]
  },
  {
   "cell_type": "code",
   "execution_count": null,
   "id": "6c4140c7-4e44-448f-8f63-156c7f268e55",
   "metadata": {},
   "outputs": [],
   "source": []
  }
 ],
 "metadata": {
  "kernelspec": {
   "display_name": "Python 3 (ipykernel)",
   "language": "python",
   "name": "python3"
  },
  "language_info": {
   "codemirror_mode": {
    "name": "ipython",
    "version": 3
   },
   "file_extension": ".py",
   "mimetype": "text/x-python",
   "name": "python",
   "nbconvert_exporter": "python",
   "pygments_lexer": "ipython3",
   "version": "3.12.7"
  }
 },
 "nbformat": 4,
 "nbformat_minor": 5
}
