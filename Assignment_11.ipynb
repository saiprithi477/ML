{
 "cells": [
  {
   "cell_type": "code",
   "execution_count": 2,
   "id": "dd41ee22-f879-457d-80e6-b907b5684e75",
   "metadata": {},
   "outputs": [
    {
     "name": "stdout",
     "output_type": "stream",
     "text": [
      "2\n",
      "6\n",
      "10\n"
     ]
    }
   ],
   "source": [
    "# Q4) write a progarm to find the indexes of 'a' in a given string\n",
    "#     str1='ola ola ola'\n",
    "\n",
    "str1='ola ola ola'\n",
    "for i in range(len(str1)):\n",
    "    if str1[i] == 'a':\n",
    "        print(i)"
   ]
  },
  {
   "cell_type": "code",
   "execution_count": 4,
   "id": "c2cc5a2f-8f24-47a3-8521-750012ffb811",
   "metadata": {},
   "outputs": [
    {
     "name": "stdout",
     "output_type": "stream",
     "text": [
      "2\n",
      "6\n",
      "10\n",
      "the num of indexes: 18\n",
      "the count of indexes : 18\n"
     ]
    }
   ],
   "source": [
    "# Q5) write a program to find the sum of all indexes of 'a' in a given string\n",
    "#    str1='ola ola ola'\n",
    "\n",
    "str1='ola ola ola'\n",
    "summ=0\n",
    "count=0\n",
    "for i in range(len(str1)):\n",
    "    if str1[i] == 'a':\n",
    "        print(i)\n",
    "        summ=summ+i\n",
    "        count=count+i\n",
    "print(f'the num of indexes:',summ)\n",
    "print(f'the count of indexes :',count)"
   ]
  },
  {
   "cell_type": "code",
   "execution_count": 6,
   "id": "93ca1f27-733f-4e3a-9e25-1bf1bfea7ab5",
   "metadata": {},
   "outputs": [
    {
     "name": "stdout",
     "output_type": "stream",
     "text": [
      "2\n",
      "6\n",
      "10\n",
      "the count of indexes : 3\n"
     ]
    }
   ],
   "source": [
    "# Q6) write a progarm to find the number of 'a' in a given string\n",
    "#    str1='ola ola ola'\n",
    "str1='ola ola ola'\n",
    "count=0\n",
    "for i in range(len(str1)):\n",
    "    if str1[i] == 'a':\n",
    "        print(i)\n",
    "        count=count+1\n",
    "print(f'the count of indexes :',count)"
   ]
  },
  {
   "cell_type": "code",
   "execution_count": 9,
   "id": "edea1c0b-5956-4204-962e-a245417de731",
   "metadata": {},
   "outputs": [
    {
     "name": "stdout",
     "output_type": "stream",
     "text": [
      "a\n",
      "i\n",
      "o\n",
      "a\n",
      "e\n",
      "o\n",
      "u\n",
      "the count : 7\n"
     ]
    }
   ],
   "source": [
    "# Q7) write a progarm to find the vowels and its count in a given string\n",
    "#    str1='hai how are you'\n",
    "\n",
    "str1='hai how are you'\n",
    "s1='aeiou'\n",
    "count=0\n",
    "for i in str1:\n",
    "    if i in s1:\n",
    "        print(i)\n",
    "        count=count+1\n",
    "print('the count :',count)"
   ]
  },
  {
   "cell_type": "code",
   "execution_count": 15,
   "id": "34c4ee05-3017-4067-b2ef-4e51882e3e27",
   "metadata": {},
   "outputs": [
    {
     "name": "stdout",
     "output_type": "stream",
     "text": [
      "a\n",
      "e\n"
     ]
    }
   ],
   "source": [
    "# Q8) write a progarm to find the vowels which are repaeting then print only \n",
    "#     one time \n",
    "#     example: helleo  \n",
    "#      e is coming two times but we want to print only one time\n",
    "\n",
    "str2='aae'\n",
    "s1=''\n",
    "for i in str2:\n",
    "    if i in 'aeiou' and  i not in s1:\n",
    "        print(i)\n",
    "        s1=s1+i"
   ]
  },
  {
   "cell_type": "code",
   "execution_count": null,
   "id": "50166fdf-cfa6-49e9-a61f-0447932afe20",
   "metadata": {},
   "outputs": [],
   "source": []
  }
 ],
 "metadata": {
  "kernelspec": {
   "display_name": "Python 3 (ipykernel)",
   "language": "python",
   "name": "python3"
  },
  "language_info": {
   "codemirror_mode": {
    "name": "ipython",
    "version": 3
   },
   "file_extension": ".py",
   "mimetype": "text/x-python",
   "name": "python",
   "nbconvert_exporter": "python",
   "pygments_lexer": "ipython3",
   "version": "3.12.7"
  }
 },
 "nbformat": 4,
 "nbformat_minor": 5
}
