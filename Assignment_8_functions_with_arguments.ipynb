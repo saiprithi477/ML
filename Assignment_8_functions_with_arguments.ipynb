{
 "cells": [
  {
   "cell_type": "markdown",
   "id": "f2532313-f8bb-4dd4-993b-51edcb23a7ab",
   "metadata": {},
   "source": [
    "**Function with arguments**"
   ]
  },
  {
   "cell_type": "code",
   "execution_count": 20,
   "id": "db35aa16-0150-4e98-8234-b9b665de7a8f",
   "metadata": {},
   "outputs": [
    {
     "name": "stdout",
     "output_type": "stream",
     "text": [
      "n1: 200\n",
      "n2: 300\n"
     ]
    },
    {
     "name": "stdin",
     "output_type": "stream",
     "text": [
      "enter a n3: 300\n"
     ]
    },
    {
     "name": "stdout",
     "output_type": "stream",
     "text": [
      "the verage of200,300and300 is: 266.67\n"
     ]
    }
   ],
   "source": [
    "# 1)wap ask the user enter 3 random numbers n1,n2,n3 from ketboard\n",
    "# calculate average\n",
    "\n",
    "def AVG2(n1,n2):\n",
    "    try:\n",
    "        print('n1:',n1)\n",
    "        print('n2:',n2)\n",
    "        n3=eval(input('enter a n3:'))\n",
    "        avg=(n1+n2+n3)/3\n",
    "        avg1=round(avg,2)\n",
    "        print(f'the verage of{n1},{n2}and{n3} is: {avg1}')\n",
    "    except Exception as e:\n",
    "        print(e)\n",
    "AVG2(200,300)"
   ]
  },
  {
   "cell_type": "code",
   "execution_count": 19,
   "id": "f37b78a6-755d-4f42-9ca3-92d0b447978f",
   "metadata": {},
   "outputs": [
    {
     "name": "stdout",
     "output_type": "stream",
     "text": [
      "d sai\n",
      "e: 23\n",
      "f: hyd\n",
      "my name is sai, im 23 years old and came from hyd\n"
     ]
    }
   ],
   "source": [
    "# 2)wap ask the user enter name \n",
    "#      random age  and  city using input\n",
    "# print my name is python im 10 years old and came from hyd\n",
    "import random\n",
    "def AGE(d,e,f):\n",
    "    try:\n",
    "        print('d',d)\n",
    "        print('e:',e)\n",
    "        print('f:',f)\n",
    "        \n",
    "        print(f\"my name is {d}, im {e} years old and came from {f}\")\n",
    "    except Exception as e:\n",
    "        print(e)\n",
    "\n",
    "\n",
    "AGE('sai',23,'hyd')"
   ]
  },
  {
   "cell_type": "code",
   "execution_count": 4,
   "id": "4047f32f-c663-45aa-90d8-56f50de4e281",
   "metadata": {},
   "outputs": [
    {
     "name": "stdout",
     "output_type": "stream",
     "text": [
      "v: 12\n",
      "radius: 34\n",
      "pi: 3.14\n",
      " area of circleis 3629.84\n"
     ]
    }
   ],
   "source": [
    "# 3)wap ask the user to enter random radidus of a circle calculate area of the circle\n",
    "# var: radidus  var: pi=3.14\n",
    "# formuale: pi*radius*radius\n",
    "# print the answers using f string and format\n",
    "\n",
    "import math\n",
    "import random\n",
    "def VAR(v,radius,pi):\n",
    "        try:\n",
    "            print('v:',v)\n",
    "            print('radius:',radius)\n",
    "            print('pi:',pi)\n",
    "            area=pi*radius*radius\n",
    "            print(f\" area of circleis {area}\")\n",
    "        except Eeception as e:\n",
    "            print(e)\n",
    "VAR(12,34,3.14)"
   ]
  },
  {
   "cell_type": "code",
   "execution_count": 5,
   "id": "a6dd5f29-d0f7-402e-bab1-56d6e33363b0",
   "metadata": {},
   "outputs": [
    {
     "name": "stdout",
     "output_type": "stream",
     "text": [
      "n1: 12\n",
      "n2: 13\n",
      "name 'num1' is not defined\n"
     ]
    }
   ],
   "source": [
    "# 4)wap ask the user enter breadth and height of a right angle triangle\n",
    "# calculate the area\n",
    "# var1: bredath  var2: height\n",
    "# formuale : 0.5*breadth*heigh\n",
    "def AREA(n1,n2):\n",
    "    try: \n",
    "        print('n1:',n1)\n",
    "        print('n2:',n2)\n",
    "        b=random.choice(num1)\n",
    "        h=random.choice(num2)\n",
    "        a=0.5*b*h\n",
    "        print(f\"area of triangle {a}\")\n",
    "    except Exception as e:\n",
    "        print(e)\n",
    "\n",
    "AREA(12,13)"
   ]
  },
  {
   "cell_type": "code",
   "execution_count": 9,
   "id": "87bbc5c3-2940-419a-8ba1-40cc6486a102",
   "metadata": {},
   "outputs": [
    {
     "name": "stdout",
     "output_type": "stream",
     "text": [
      "bill: 200\n",
      "tip: 20\n",
      "total amoun is 220\n"
     ]
    }
   ],
   "source": [
    "# 5)wap ask the user the bill amount and tip amount\n",
    "#   calculate total bill\n",
    "#   var1: bill amount var2: tip amount\n",
    "#   formuale\n",
    "def BILL(bill,tip):\n",
    "    try:\n",
    "        print('bill:',bill)\n",
    "        print('tip:',tip)\n",
    "        \n",
    "        total=bill+tip\n",
    "        print(f\"total amoun is {total}\")\n",
    "    except Exception as e:\n",
    "        print(e)\n",
    "BILL(200,20)\n"
   ]
  },
  {
   "cell_type": "code",
   "execution_count": 10,
   "id": "cc048460-ec49-4460-bb54-6fa1793982f9",
   "metadata": {},
   "outputs": [
    {
     "name": "stdout",
     "output_type": "stream",
     "text": [
      "bill_amount: 200\n",
      "tip_amount: 37\n",
      " the bill amount is 200 and tip is 37, hence percentage of total bill amount is 274.0\n",
      "the  bill_amountis 200 and tip_amount is 37total bill amount is274.0\n"
     ]
    }
   ],
   "source": [
    "# 6)wap ask the user the bill amount and tip percentage\n",
    "#    take tip percentage as 10\n",
    "#   calculate total bill= bill amount+ bill amount*tip per/100\n",
    "#   var1: bill amount var2: tip amount\n",
    "#    formuale\n",
    "import math\n",
    "def AMOUNT(bill_amount,tip_amount):\n",
    "    try:\n",
    "        print('bill_amount:',bill_amount) \n",
    "        print('tip_amount:',tip_amount)\n",
    "        total=bill_amount+(bill_amount*tip_amount/100)\n",
    "        print(f\" the bill amount is {bill_amount} and tip is {tip_amount}, hence percentage of total bill amount is {total}\")\n",
    "    except Exception as e:\n",
    "        print(e)\n",
    "\n",
    "AMOUNT(200,37)\n"
   ]
  },
  {
   "cell_type": "code",
   "execution_count": 12,
   "id": "1a23cf6b-e728-4018-ad35-e3bc18b627a3",
   "metadata": {},
   "outputs": [
    {
     "name": "stdout",
     "output_type": "stream",
     "text": [
      "v1: 12\n",
      "v2: 13\n",
      "area of rectangle 156\n",
      "the length is 12 and breadth is 13 the area of rectangle is 156\n"
     ]
    }
   ],
   "source": [
    "# 7)wap ask the length and breadth of a rectangle calculate area\n",
    "#   var1: length  var2: breadth\n",
    "#   formulae: length * breadth\n",
    "\n",
    "def RAC(v1,v2):\n",
    "    try:\n",
    "        print('v1:',v1)\n",
    "        print('v2:',v2)\n",
    "        \n",
    "        area=v1*v2\n",
    "        print(f\"area of rectangle {area}\")\n",
    "        print(\"the length is {} and breadth is {} the area of rectangle is {}\".format(v1,v2,area))\n",
    "    except Exception as e:\n",
    "        print(e)\n",
    "RAC(12,13)"
   ]
  },
  {
   "cell_type": "code",
   "execution_count": 4,
   "id": "f9587dc0-34fc-442d-ba2d-7f55251973b6",
   "metadata": {},
   "outputs": [
    {
     "name": "stdout",
     "output_type": "stream",
     "text": [
      "r1: 23\n",
      "pi: 3.14\n",
      "volume of sphere is 38204.38\n"
     ]
    }
   ],
   "source": [
    "# 8) wap ask the user take the random radius and calculate volume of sphere\n",
    "#   formulae: pi*r**3(pi*r*r*r)\n",
    "def VOL(r1,pi):\n",
    "    print('r1:',r1)\n",
    "    print('pi:',pi)\n",
    "\n",
    "    sphere=pi*r1*r1*r1\n",
    "    print(f\"volume of sphere is {sphere}\")\n",
    "    math.ceil(sphere)\n",
    "VOL(23,3.14)"
   ]
  },
  {
   "cell_type": "code",
   "execution_count": null,
   "id": "fe229608-151d-4cc3-87d7-2e33e2968ac4",
   "metadata": {},
   "outputs": [],
   "source": []
  },
  {
   "cell_type": "code",
   "execution_count": 21,
   "id": "c7017804-5575-4dc4-a32f-d2cab0efe7b7",
   "metadata": {},
   "outputs": [
    {
     "name": "stdout",
     "output_type": "stream",
     "text": [
      "D1: 12\n",
      "amount_in_dollars: 85\n",
      "conversion_rate: 23\n",
      " amount in dollars convert to rupees 1955\n"
     ]
    }
   ],
   "source": [
    "# 9) wap ask the user enter amount in dollars convert into rupees\n",
    "#     1$=85rs\n",
    "import random\n",
    "import math\n",
    "def DOLL(D1,amount_in_dollars,conversion_rate):\n",
    "    try:\n",
    "        print('D1:',D1)\n",
    "        print('amount_in_dollars:',amount_in_dollars)\n",
    "        print('conversion_rate:',conversion_rate)\n",
    "        amount_in_rupees=amount_in_dollars*conversion_rate\n",
    "        print(f\" amount in dollars convert to rupees {amount_in_rupees}\")\n",
    "    except Exception as e:\n",
    "        print(e)\n",
    "DOLL(12,85,23)\n",
    "\n"
   ]
  },
  {
   "cell_type": "code",
   "execution_count": 13,
   "id": "4833b955-06dd-4faa-b193-7f08ebccd67e",
   "metadata": {},
   "outputs": [
    {
     "name": "stdout",
     "output_type": "stream",
     "text": [
      "w1: 12\n",
      "w2: 23\n",
      " weight in kgs conver into pounds 50.6\n"
     ]
    }
   ],
   "source": [
    "# 10)wap ask the user enter random weight in kgs convert into pounds\n",
    "#    1kg= 2.2pounds\n",
    "\n",
    "def weight(w1,w2,):\n",
    "    try:\n",
    "        print('w1:',w1)\n",
    "        print('w2:',w2)\n",
    "        weight_pounds=w2*2.2\n",
    "        print(f\" weight in kgs conver into pounds {weight_pounds}\")\n",
    "    except Exception as e:\n",
    "        print(e)\n",
    "weight(12,23)"
   ]
  },
  {
   "cell_type": "code",
   "execution_count": null,
   "id": "2f5a260d-3119-4873-9552-903e01d44b45",
   "metadata": {},
   "outputs": [],
   "source": []
  }
 ],
 "metadata": {
  "kernelspec": {
   "display_name": "Python 3 (ipykernel)",
   "language": "python",
   "name": "python3"
  },
  "language_info": {
   "codemirror_mode": {
    "name": "ipython",
    "version": 3
   },
   "file_extension": ".py",
   "mimetype": "text/x-python",
   "name": "python",
   "nbconvert_exporter": "python",
   "pygments_lexer": "ipython3",
   "version": "3.12.7"
  }
 },
 "nbformat": 4,
 "nbformat_minor": 5
}
