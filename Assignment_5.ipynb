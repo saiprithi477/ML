{
 "cells": [
  {
   "cell_type": "code",
   "execution_count": 4,
   "id": "e935ebf6-fe1e-47ab-90b5-ce405eb83957",
   "metadata": {},
   "outputs": [
    {
     "name": "stdin",
     "output_type": "stream",
     "text": [
      "enter the ramesh salary: 9000\n"
     ]
    },
    {
     "name": "stdout",
     "output_type": "stream",
     "text": [
      "Ramesh's gross salary is: 14400.0\n"
     ]
    }
   ],
   "source": [
    "#1. Ramesh’s basic salary is input through the keyboard. His dearness allowance is 40% of basic salary, and\n",
    "#    house rent allowance is 20% of basic salary. Write a program to calculate his gross salary.\n",
    "\n",
    "try:\n",
    "    basic_salary=eval(input('enter the ramesh salary:'))\n",
    "    dearness_salary=0.4*basic_salary\n",
    "    rent_allowance=0.2*basic_salary\n",
    "    gross_salary=dearness_salary+rent_allowance+basic_salary\n",
    "    print(f\"Ramesh's gross salary is: {gross_salary}\")\n",
    "\n",
    "except Exception as e:\n",
    "    print(e)"
   ]
  },
  {
   "cell_type": "code",
   "execution_count": 7,
   "id": "7661ab31-5858-4e32-9bf0-7cde4af97d02",
   "metadata": {},
   "outputs": [
    {
     "name": "stdin",
     "output_type": "stream",
     "text": [
      "enter current city: miyapur\n",
      "enter going city: ameerpet\n",
      "enter the distance: 16.6\n"
     ]
    },
    {
     "name": "stdout",
     "output_type": "stream",
     "text": [
      "Distance in meters: 16600.0 meters\n",
      "Distance in feet: 54461.94400000001 feet\n",
      "Distance in inches: 653543.66 inches\n",
      "Distance in centimeters: 1660000.0000000002 centimeters\n"
     ]
    }
   ],
   "source": [
    "# 2. The distance between two cities (in km.) is input through the keyboard. Write a program to convert and\n",
    "# print this distance in meters, feet, inches and centimeters.\n",
    "try:\n",
    "    city1=input('enter current city:')  \n",
    "    city2=input('enter going city:')\n",
    "    distance=eval(input('enter the distance:'))\n",
    "#1 kilometer = 1000 meters\n",
    "#1 kilometer = 3280.84 feet\n",
    "#1 kilometer = 39370.1 inches\n",
    "#1 kilometer = 100,000 centimeters\n",
    "    distance_meters=distance*1000\n",
    "    distance_feet=distance*3280.84\n",
    "    distance_inches=distance*39370.1\n",
    "    distance_centimeters=distance*100000\n",
    "    # Print the distance in all units\n",
    "    print(f\"Distance in meters: {distance_meters} meters\")\n",
    "    print(f\"Distance in feet: {distance_feet} feet\")\n",
    "    print(f\"Distance in inches: {distance_inches} inches\")\n",
    "    print(f\"Distance in centimeters: {distance_centimeters} centimeters\")\n",
    "except Exception as e:\n",
    "    print(e)\n"
   ]
  },
  {
   "cell_type": "code",
   "execution_count": 2,
   "id": "d6a33f03-f0de-4701-aece-dcfb971fe99a",
   "metadata": {},
   "outputs": [
    {
     "name": "stdin",
     "output_type": "stream",
     "text": [
      "enter the telugu marks: 45\n",
      "enter the hindi marks: 56\n",
      "enter the english marks: 67\n",
      "enter the maths marks: 78\n",
      "enter the science marks: 89\n",
      "enter the social marks: 68\n"
     ]
    },
    {
     "name": "stdout",
     "output_type": "stream",
     "text": [
      "aggregate of 403\n",
      "67.16666666666666\n"
     ]
    }
   ],
   "source": [
    "#3. If the marks obtained by a student in five different subjects are input through the keyboard, find out the\n",
    "# aggregate marks and percentage marks obtained by the student. Assume that the maximum marks that\n",
    "#  can be obtained by a student in each subject is 100.\n",
    "\n",
    "\n",
    "import random\n",
    "import math\n",
    "\n",
    "try:\n",
    "    s1=eval(input('enter the telugu marks:'))\n",
    "    s2=eval(input('enter the hindi marks:'))\n",
    "    s3=eval(input('enter the english marks:'))\n",
    "    s4=eval(input('enter the maths marks:'))\n",
    "    s5=eval(input('enter the science marks:'))\n",
    "    s6=eval(input('enter the social marks:'))\n",
    "    aggregate=s1+s2+s3+s4+s5+s6\n",
    "    print(f'aggregate of {aggregate}')\n",
    "    total_marks=600\n",
    "    percentage=(aggregate/total_marks)*100\n",
    "    print(percentage)\n",
    "except Exception as e:\n",
    "    print(e)\n",
    "\n"
   ]
  },
  {
   "cell_type": "code",
   "execution_count": 11,
   "id": "97738cee-da81-408a-ba6d-2cc0bca517f1",
   "metadata": {},
   "outputs": [
    {
     "name": "stdin",
     "output_type": "stream",
     "text": [
      "enter the temperature: 56\n"
     ]
    },
    {
     "name": "stdout",
     "output_type": "stream",
     "text": [
      "fahrenheit temperature conver to centigrade:13.333333333333334°c\n"
     ]
    }
   ],
   "source": [
    "# 4. Temperature of a city in Fahrenheit degrees is input through the keyboard. Write a program to convert this\n",
    "# temperature into Centigrade degrees.\n",
    "\n",
    "try:\n",
    "    Fahrenheit=eval(input('enter the temperature:'))\n",
    "    centigrade = (5/9) * (Fahrenheit - 32)\n",
    "    print(f'fahrenheit temperature conver to centigrade:{centigrade}°c')# hold Alt+0176 is centegrade symble\n",
    "except Exception as e:\n",
    "    print(e)"
   ]
  },
  {
   "cell_type": "code",
   "execution_count": 14,
   "id": "ae273bc8-6e61-49b2-9e96-b362b4f97e21",
   "metadata": {},
   "outputs": [
    {
     "name": "stdin",
     "output_type": "stream",
     "text": [
      "enter the length: 12\n",
      "enter the breadth: 13\n",
      "enter the radius: 4.5\n"
     ]
    },
    {
     "name": "stdout",
     "output_type": "stream",
     "text": [
      "area of rectangle is:25\n",
      "area of perameter is:50\n",
      "area of circleis:63.61725123519331\n",
      "area of circumfrence is:28.274333882308138\n"
     ]
    }
   ],
   "source": [
    "# 5. The length & breadth of a rectangle and radius of a circle are input through the keyboard. Write a program\n",
    "# to calculate the area & perimeter of the rectangle, and the area & circumference of the circle.\n",
    "import math\n",
    "\n",
    "try:\n",
    "    l1=eval(input('enter the length:')) #length\n",
    "    b1=eval(input('enter the breadth:')) #breadth\n",
    "    area_rectangle=l1+b1\n",
    "    area_perameter=2*(l1+b1)\n",
    "    r1=eval(input('enter the radius:'))# radius\n",
    "    area_circle=math.pi*r1*r1\n",
    "    area_circumfrence=2*math.pi*r1\n",
    "    print(f'area of rectangle is:{area_rectangle}')\n",
    "    print(f'area of perameter is:{area_perameter}')\n",
    "    print(f'area of circleis:{area_circle}')\n",
    "    print(f'area of circumfrence is:{area_circumfrence}')\n",
    "\n",
    "except Exception as e:\n",
    "    print(e)"
   ]
  },
  {
   "cell_type": "code",
   "execution_count": 3,
   "id": "d5066610-b892-45da-aa77-782f515a6fc5",
   "metadata": {},
   "outputs": [
    {
     "name": "stdin",
     "output_type": "stream",
     "text": [
      "enter the first valu: 11\n",
      "enter the second value: 12\n"
     ]
    },
    {
     "name": "stdout",
     "output_type": "stream",
     "text": [
      "After swapping:\n",
      "C = 12\n",
      "D = 11\n"
     ]
    }
   ],
   "source": [
    "#6. Two numbers are input through the keyboard into two locations C and D. Write a program to interchange\n",
    "# the contents of C and D.\n",
    "\n",
    "try:\n",
    "    C=eval(input('enter the first valu:'))\n",
    "    D=eval(input('enter the second value:'))\n",
    "    C,D=D,C\n",
    "    print(f\"After swapping:\")\n",
    "    print(f\"C = {C}\")\n",
    "    print(f\"D = {D}\")\n",
    "except Exception as e:\n",
    "    print(e)"
   ]
  },
  {
   "cell_type": "code",
   "execution_count": 20,
   "id": "a4a2b824-78b5-4c76-9a9a-977eb8542856",
   "metadata": {},
   "outputs": [
    {
     "name": "stdin",
     "output_type": "stream",
     "text": [
      "enter the five digit number: 245542\n"
     ]
    },
    {
     "name": "stdout",
     "output_type": "stream",
     "text": [
      "the reverse number is:245542\n"
     ]
    }
   ],
   "source": [
    "# 7. If a five-digit number is input through the keyboard, write a program to reverse the number.\n",
    "try:\n",
    "     number=int(input('enter the five digit number:'))\n",
    "     reverse_number=int(str(number)[::-1])\n",
    "     print(f'the reverse number is:{reverse_number}')\n",
    "\n",
    "except Exception as e:\n",
    "    print(e)"
   ]
  },
  {
   "cell_type": "code",
   "execution_count": 22,
   "id": "61e60bbc-9064-467f-bf9e-379c8cf005a8",
   "metadata": {},
   "outputs": [
    {
     "name": "stdin",
     "output_type": "stream",
     "text": [
      "enter the four digit number: 2345\n"
     ]
    },
    {
     "name": "stdout",
     "output_type": "stream",
     "text": [
      "the sum of first and last digit number is:7\n"
     ]
    }
   ],
   "source": [
    "# 8. If a four-digit number is input through the keyboard, write a program to obtain the sum of the first and last\n",
    "# digit of this number.\n",
    "\n",
    "try:\n",
    "    number=int(input('enter the four digit number:'))\n",
    "    first_digit = number // 1000\n",
    "    last_digit = number % 10\n",
    "    sum_digit=first_digit+last_digit\n",
    "    print(f'the sum of first and last digit number is:{sum_digit}')\n",
    "except Exception as e:\n",
    "    print(e)"
   ]
  },
  {
   "cell_type": "code",
   "execution_count": 33,
   "id": "8da7f255-8a7d-4dd9-a758-f2f50f6cf3b6",
   "metadata": {},
   "outputs": [
    {
     "name": "stdin",
     "output_type": "stream",
     "text": [
      "enter the total population: 800000\n",
      "enter the percentage of men: 0.52\n",
      "enter the percentage of literacy: 0.48\n",
      "enter the percentage literate of men: 0.35\n"
     ]
    },
    {
     "name": "stdout",
     "output_type": "stream",
     "text": [
      "total men:416000.0\n",
      "total women:384000.0\n",
      "literate men:280000.0\n",
      "literate women:104000.0\n",
      "total illiterate men: 136000.0\n",
      "total illiterate women: 280000.0\n"
     ]
    }
   ],
   "source": [
    "# 9. In a town, the percentage of men is 52. The percentage of total literacy is 48. If total percentage of literate\n",
    "# men is 35 of the total population, write a program to find the total number of illiterate men and women if\n",
    "# the population of the town is 80,000.\n",
    "\n",
    "try:\n",
    "    total_population=eval(input('enter the total population:'))#80000\n",
    "    percentage_men=eval(input('enter the percentage of men:'))#52%\n",
    "    percentage_literacy=eval(input('enter the percentage of literacy:')) #48%\n",
    "    percentage_literate_men=eval(input('enter the percentage literate of men:')) #35%\n",
    "    total_men=total_population*percentage_men\n",
    "    total_women=total_population-total_men\n",
    "    literate_men=total_population*percentage_literate_men\n",
    "    literate_women=total_population*percentage_literacy-literate_men\n",
    "    illiterate_men=total_men-literate_men\n",
    "    illiterate_women=total_women-literate_women\n",
    "    print(f'total men:{total_men}')\n",
    "    print(f'total women:{total_women}')\n",
    "    print(f'literate men:{literate_men}')\n",
    "    print(f'literate women:{literate_women}')\n",
    "    print(f'total illiterate men: {illiterate_men}')\n",
    "    print(f'total illiterate women: {illiterate_women}')\n",
    "except Exception as e:\n",
    "    print(e)"
   ]
  },
  {
   "cell_type": "code",
   "execution_count": 4,
   "id": "c6b20c00-ba1f-4748-85c5-c6dcb6f2b2ca",
   "metadata": {},
   "outputs": [
    {
     "name": "stdin",
     "output_type": "stream",
     "text": [
      "enter the withdrawn amount: 4000\n"
     ]
    },
    {
     "name": "stdout",
     "output_type": "stream",
     "text": [
      "number of 100 denomination notes:4000\n",
      "number of 50 denomination notes:0\n",
      "number of 10 denomenation notes:0\n"
     ]
    }
   ],
   "source": [
    "# 10. A cashier has currency notes of denominations 10, 50 and 100. If the amount to be withdrawn is input\n",
    "# through the keyboard in hundreds, find the total number of currency notes of each denomination the\n",
    "#  cashier will have to give to the withdrawer.\n",
    "\n",
    "\n",
    "try:\n",
    "    amount=int(input('enter the withdrawn amount:'))\n",
    "    total_amount=amount*100\n",
    "    hund_notes=total_amount//100\n",
    "    remaining_amount=total_amount % 100\n",
    "    fifty_notes=remaining_amount//50\n",
    "    remaining_amount=remaining_amount%50\n",
    "    ten_notes=remaining_amount//10\n",
    "    print(f'number of 100 denomination notes:{hund_notes}')\n",
    "    print(f'number of 50 denomination notes:{fifty_notes}')\n",
    "    print(f'number of 10 denomenation notes:{ten_notes}')\n",
    "except Exception as e:\n",
    "    print(e)"
   ]
  },
  {
   "cell_type": "code",
   "execution_count": null,
   "id": "991283ed-39a5-455f-b829-86118480d141",
   "metadata": {},
   "outputs": [],
   "source": []
  }
 ],
 "metadata": {
  "kernelspec": {
   "display_name": "Python 3 (ipykernel)",
   "language": "python",
   "name": "python3"
  },
  "language_info": {
   "codemirror_mode": {
    "name": "ipython",
    "version": 3
   },
   "file_extension": ".py",
   "mimetype": "text/x-python",
   "name": "python",
   "nbconvert_exporter": "python",
   "pygments_lexer": "ipython3",
   "version": "3.12.7"
  }
 },
 "nbformat": 4,
 "nbformat_minor": 5
}
