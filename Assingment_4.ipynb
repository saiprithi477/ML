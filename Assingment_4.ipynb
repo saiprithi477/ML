{
 "cells": [
  {
   "cell_type": "code",
   "execution_count": null,
   "id": "39446e41-2e3b-48d0-b95f-bcb65bfe43bd",
   "metadata": {},
   "outputs": [],
   "source": [
    "Posted Yesterday (Edited Yesterday)\n",
    "Assigned\n",
    "Complete all if-else questions using try-except method\n",
    "# wap ask the user take two numbers\n",
    "# num1 and num2\n",
    "# if both numbers are matched then print we are won\n",
    "# otherwise print we lost\n",
    "\n",
    "# step-1: n1=eval(input('en'))\n",
    "# step-2: n2=eval(input('en'))\n",
    "# step-3: if <condition>:\n",
    "# step-4:      print('we won')\n",
    "# step-5: else:\n",
    "# step-6:     print('we lost')\n",
    "#############################################################################\n",
    "# wap ask the user take one number\n",
    "# another number comes as random integer between 1 to 10\n",
    "# num1 and num2\n",
    "# if both numbers are matched then print we are won\n",
    "# otherwise print we lost\n",
    "\n",
    "# step-1: n1=<random number>\n",
    "# step-2: n2=eval(input('en'))\n",
    "# step-3: if <condition>:\n",
    "# step-4:      print('we won')\n",
    "# step-5: else:\n",
    "# step-6:     print('we lost')\n",
    "##############################################################################\n",
    "#wap ask the user enter a number\n",
    "# print if the number is even or odd\n",
    "\n",
    "# idea == reminder should be zero\n",
    "# step-1: num=eval(input())\n",
    "# step-2: if <con>:\n",
    "# step-3:   print (the given number is even)\n",
    "# step-4: else:\n",
    "# step-5:   print(the given number is odd)\n",
    "################################################################################\n",
    "# wap ask the user enter distance\n",
    "# if distance greater than 25\n",
    "#      ask the charge\n",
    "#      calculate the charge other than25km distance\n",
    "# elseev\n",
    "#    print free ride\n",
    "\n",
    "# step-1: distance= al(input(''))\n",
    "# step-2: if <>:\n",
    "# step-3:    charge=eval(input(''))\n",
    "# step-4:    total charge= (d-25)*\n",
    "# step-5: else:\n",
    "# step-6:    print free ride\n",
    "##############################################################################\n",
    "# wap ask the user take two numbers\n",
    "# print which is greater number\n",
    "\n",
    "# step-1: n1= eval(input())\n",
    "# step-2: n2= eval(input())\n",
    "# step-3: if <cond>:\n",
    "# step-4:    print()\n",
    "# step-5: else:\n",
    "# step-6:    print()\n",
    "###################################################################################\n",
    "# wap ask the user\n",
    "# enter the course name\n",
    "# enter the institute name\n",
    "# if course name equal to data science\n",
    "# and institute name equal to naresh it\n",
    "# then print we are good\n",
    "# else print not good\n",
    "\n",
    "# step-1: course_name=input()\n",
    "# step-2: inst_name=input()\n",
    "# step-3: if <c1> and <c2>:\n",
    "# step-4:    print\n",
    "# step-5: else:\n",
    "# step-6:    print"
   ]
  },
  {
   "cell_type": "code",
   "execution_count": 2,
   "id": "fc540015-efcb-47a2-8f56-71a7dba565d7",
   "metadata": {},
   "outputs": [
    {
     "name": "stdin",
     "output_type": "stream",
     "text": [
      "enter the first number 3\n",
      "enter the second number 3\n"
     ]
    },
    {
     "name": "stdout",
     "output_type": "stream",
     "text": [
      "we won\n"
     ]
    }
   ],
   "source": [
    "# wap ask the user take two numbers\n",
    "# num1 and num2\n",
    "# if both numbers are matched then print we are won\n",
    "# otherwise print we lost\n",
    "\n",
    "# step-1: n1=eval(input('en'))\n",
    "# step-2: n2=eval(input('en'))\n",
    "# step-3: if <condition>:\n",
    "# step-4:      print('we won')\n",
    "# step-5: else:\n",
    "# step-6:     print('we lost')\n",
    "\n",
    "try:\n",
    "    n1=eval(input('enter the first number'))\n",
    "    n2=eval(input('enter the second number'))\n",
    "    if n1==n2:\n",
    "        print('we won')\n",
    "    else:\n",
    "        print('we lost')\n",
    "except Exception as e:\n",
    "    print(e)"
   ]
  },
  {
   "cell_type": "code",
   "execution_count": 4,
   "id": "9ff2f4f3-d0af-46ea-b980-29559b4b558a",
   "metadata": {},
   "outputs": [
    {
     "name": "stdin",
     "output_type": "stream",
     "text": [
      "enter the number 4\n"
     ]
    },
    {
     "name": "stdout",
     "output_type": "stream",
     "text": [
      "we loss\n"
     ]
    }
   ],
   "source": [
    "# wap ask the user take one number\n",
    "# another number comes as random integer between 1 to 10\n",
    "# num1 and num2\n",
    "# if both numbers are matched then print we are won\n",
    "# otherwise print we lost\n",
    "\n",
    "# step-1: n1=<random number>\n",
    "# step-2: n2=eval(input('en'))\n",
    "# step-3: if <condition>:\n",
    "# step-4:      print('we won')\n",
    "# step-5: else:\n",
    "# step-6:     print('we lost')\n",
    "import random\n",
    "try:\n",
    "    n1=random.randint(1,10)\n",
    "    n2=eval(input('enter the number'))\n",
    "    if n1==n2:\n",
    "        print('we won')\n",
    "    else:\n",
    "        print('we loss')\n",
    "except Exception as e:\n",
    "    print(e)"
   ]
  },
  {
   "cell_type": "code",
   "execution_count": 1,
   "id": "7017ef27-740a-4153-b82e-52feece45bd2",
   "metadata": {},
   "outputs": [
    {
     "name": "stdin",
     "output_type": "stream",
     "text": [
      "enter the number 4\n"
     ]
    },
    {
     "name": "stdout",
     "output_type": "stream",
     "text": [
      "4the given num is even\n"
     ]
    }
   ],
   "source": [
    "#wap ask the user enter a number\n",
    "# print if the number is even or odd\n",
    "\n",
    "# idea == reminder should be zero\n",
    "# step-1: num=eval(input())\n",
    "# step-2: if <con>:\n",
    "# step-3:   print (the given number is even)\n",
    "# step-4: else:\n",
    "# step-5:   print(the given number is odd)\n",
    "\n",
    "try:\n",
    "    n1=eval(input('enter the number'))\n",
    "    if n1%2==0:\n",
    "        print(f\"{n1}the given num is even\")\n",
    "    else:\n",
    "        print(f\"{n1}the given num is odd\")\n",
    "except Exception as e:\n",
    "    print(e)"
   ]
  },
  {
   "cell_type": "code",
   "execution_count": 2,
   "id": "1a81f5c1-b20f-4d3d-8545-d9d4f6ec5c3f",
   "metadata": {},
   "outputs": [
    {
     "name": "stdin",
     "output_type": "stream",
     "text": [
      "enter distance 34\n",
      "enter the charge 5\n"
     ]
    },
    {
     "name": "stdout",
     "output_type": "stream",
     "text": [
      "45\n"
     ]
    }
   ],
   "source": [
    "# wap ask the user enter distance\n",
    "# if distance greater than 25\n",
    "#      ask the charge\n",
    "#      calculate the charge other than25km distance\n",
    "# else\n",
    "#    print free ride\n",
    "\n",
    "# step-1: distance= eval(input(''))\n",
    "# step-2: if <>:\n",
    "# step-3:    charge=eval(input(''))\n",
    "# step-4:    total charge= (d-25)*charge\n",
    "# step-5: else:\n",
    "# step-6:    print free ride\n",
    "\n",
    "\n",
    "try:\n",
    "    dis=eval(input('enter distance'))\n",
    "    if dis>25:\n",
    "        charge=eval(input('enter the charge'))\n",
    "        total_charge=(dis-25)*charge\n",
    "        print(total_charge)\n",
    "    else:\n",
    "        print('free ride')\n",
    "except Exception as e:\n",
    "    print(e)"
   ]
  },
  {
   "cell_type": "code",
   "execution_count": 17,
   "id": "02f1e1d5-1da7-408b-a7bc-6918f3bfb320",
   "metadata": {},
   "outputs": [
    {
     "name": "stdin",
     "output_type": "stream",
     "text": [
      "enter the first num 45\n",
      "enter the second num 34\n"
     ]
    },
    {
     "name": "stdout",
     "output_type": "stream",
     "text": [
      "n1 is greater then n2\n"
     ]
    }
   ],
   "source": [
    "# wap ask the user take two numbers\n",
    "# print which is greater number\n",
    "\n",
    "# step-1: n1= eval(input())\n",
    "# step-2: n2= eval(input())\n",
    "# step-3: if <cond>:\n",
    "# step-4:    print()\n",
    "# step-5: else:\n",
    "# step-6:    print()\n",
    "\n",
    "\n",
    "try:\n",
    "    n1=eval(input('enter the first num'))\n",
    "    n2=eval(input('enter the second num'))\n",
    "    if n1>n2:\n",
    "        print('n1 is greater then n2')\n",
    "    else:\n",
    "        print('n2 is greater then n1')\n",
    "except Exceptoin as e:\n",
    "    prinbt(e)"
   ]
  },
  {
   "cell_type": "code",
   "execution_count": 6,
   "id": "e6d1c5e7-9ad8-4211-936e-fb5c23d501ae",
   "metadata": {},
   "outputs": [
    {
     "name": "stdin",
     "output_type": "stream",
     "text": [
      "enter the course name data science\n",
      "enter the inst name naresh it\n"
     ]
    },
    {
     "name": "stdout",
     "output_type": "stream",
     "text": [
      "we are good\n"
     ]
    }
   ],
   "source": [
    "# wap ask the user\n",
    "# enter the course name\n",
    "# enter the institute name\n",
    "# if course name equal to data science\n",
    "# and institute name equal to naresh it\n",
    "# then print we are good\n",
    "# else print not good\n",
    "\n",
    "# step-1: course_name=input()\n",
    "# step-2: inst_name=input()\n",
    "# step-3: if <c1> and <c2>:\n",
    "# step-4:    print\n",
    "# step-5: else:\n",
    "# step-6:    print\n",
    "\n",
    "\n",
    "try:\n",
    "    course_name=input(\"enter the course name\")\n",
    "    inst_name=input(\"enter the inst name\")\n",
    "    if course_name=='data science' and inst_name=='naresh it':\n",
    "        print('we are good')\n",
    "    else:\n",
    "        print('we are not good')\n",
    "except Exception as e:\n",
    "    print(e)"
   ]
  },
  {
   "cell_type": "code",
   "execution_count": null,
   "id": "dab80dc6-c7bf-49a7-822c-cd6492a1632c",
   "metadata": {},
   "outputs": [],
   "source": []
  }
 ],
 "metadata": {
  "kernelspec": {
   "display_name": "Python 3 (ipykernel)",
   "language": "python",
   "name": "python3"
  },
  "language_info": {
   "codemirror_mode": {
    "name": "ipython",
    "version": 3
   },
   "file_extension": ".py",
   "mimetype": "text/x-python",
   "name": "python",
   "nbconvert_exporter": "python",
   "pygments_lexer": "ipython3",
   "version": "3.12.7"
  }
 },
 "nbformat": 4,
 "nbformat_minor": 5
}
