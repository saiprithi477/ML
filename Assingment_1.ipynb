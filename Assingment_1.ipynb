{
 "cells": [
  {
   "cell_type": "code",
   "execution_count": 10,
   "id": "de006f5d-0bbe-471d-8930-3103b48e5a64",
   "metadata": {},
   "outputs": [
    {
     "name": "stdin",
     "output_type": "stream",
     "text": [
      "enter a value: 4\n",
      "enter b value: 6\n",
      "enter c value: 8\n"
     ]
    },
    {
     "name": "stdout",
     "output_type": "stream",
     "text": [
      "the a,b,c values of :avg\n",
      "the 4,6,8 valuse of:6.0\n",
      "the avg of 4,6,8 is:6.0\n"
     ]
    }
   ],
   "source": [
    "# 1)wap ask the user enter 3 numbers n1,n2,n3 from ketboard\n",
    "# calculate average\n",
    "a=eval(input('enter a value:'))\n",
    "b=eval(input('enter b value:'))\n",
    "c=eval(input('enter c value:'))\n",
    "avg=(a+b+c)/3\n",
    "print(f'the a,b,c values of :avg')\n",
    "print(f'the {a},{b},{c} valuse of:{avg}')\n",
    "print('the avg of {},{},{} is:{}'.format(a,b,c,avg))"
   ]
  },
  {
   "cell_type": "code",
   "execution_count": 1,
   "id": "4606877e-40ae-4a0c-9fe9-fb0b253616a9",
   "metadata": {},
   "outputs": [
    {
     "name": "stdin",
     "output_type": "stream",
     "text": [
      "enter name: python\n",
      "enter age: 10\n",
      "enter city: hyd\n"
     ]
    },
    {
     "name": "stdout",
     "output_type": "stream",
     "text": [
      "my name is python im 10 years old and came from hyd\n"
     ]
    }
   ],
   "source": [
    "# 2)wap ask the user enter name age city\n",
    "# print my name is python im 10 years old and came from hyd\n",
    "name=input('enter name:')\n",
    "age=int(input('enter age:'))\n",
    "city=input('enter city:')\n",
    "print(\"my name is\",name,\"im\",age,\"years old and came from\",city)"
   ]
  },
  {
   "cell_type": "code",
   "execution_count": 12,
   "id": "a91b5c20-4aa8-4bcf-975f-9519694815cf",
   "metadata": {},
   "outputs": [
    {
     "name": "stdin",
     "output_type": "stream",
     "text": [
      "enter the radius: 40\n",
      "enter the pie value: 3.14\n"
     ]
    },
    {
     "name": "stdout",
     "output_type": "stream",
     "text": [
      "area of the circle: 5024.0\n",
      "area of the circle with radius40,pi3.14is:5024.0\n"
     ]
    }
   ],
   "source": [
    "# 3)wap ask the user to enter radidus of a circle calculate area of the circle\n",
    "# var: radidus  var: pi=3.14\n",
    "# formuale: pi*radius*radius\n",
    "# print the answers using f string and format\n",
    "radius=eval(input('enter the radius:'))\n",
    "pi=eval(input('enter the pie value:'))\n",
    "area=pi*radius*radius\n",
    "print(f'area of the circle:',area)\n",
    "print('area of the circle with radius{},pi{}is:{}'.format(radius,pi,area))\n",
    "                                             "
   ]
  },
  {
   "cell_type": "code",
   "execution_count": 19,
   "id": "c8e7ec7d-23cb-4696-890f-6823786cabc6",
   "metadata": {},
   "outputs": [
    {
     "name": "stdin",
     "output_type": "stream",
     "text": [
      "enter the breadth: 30\n",
      "enter the height: 40\n"
     ]
    },
    {
     "name": "stdout",
     "output_type": "stream",
     "text": [
      "the area of right angle traiangle:600.0\n",
      "the are of right angle traiangle with breadth30height40:area is600.0\n"
     ]
    }
   ],
   "source": [
    "# 4)wap ask the user enter breadth and height of a right angle triangle\n",
    "# calculate the area\n",
    "# var1: bredath  var2: height\n",
    "# formuale : 0.5*breadth*heigh\n",
    "breadth=eval(input('enter the breadth:'))\n",
    "height=eval(input('enter the height:'))\n",
    "area=0.5*breadth*height\n",
    "print(f'the area of right angle traiangle:{area}')\n",
    "print('the are of right angle traiangle with breadth{}height{}:area is{}'.format(breadth,height,area))"
   ]
  },
  {
   "cell_type": "code",
   "execution_count": 23,
   "id": "c3c59820-101c-4adb-be5c-50083e625e41",
   "metadata": {},
   "outputs": [
    {
     "name": "stdin",
     "output_type": "stream",
     "text": [
      "enter the bill amount: 400\n",
      "enter the tip amount: 30\n"
     ]
    },
    {
     "name": "stdout",
     "output_type": "stream",
     "text": [
      "the total amont is:430\n",
      "tha bill amount400 and tip amount30 is total amount:430\n"
     ]
    }
   ],
   "source": [
    "# 5)wap ask the user the bill amount and tip amount\n",
    "#   calculate total bill\n",
    "#   var1: bill amount var2: tip amount\n",
    "#   formuale\n",
    "bill_amount=eval(input('enter the bill amount:'))\n",
    "tip_amount=eval(input('enter the tip amount:'))\n",
    "totall_amount=bill_amount+tip_amount\n",
    "print(f'the total amont is:{totall_amount}')\n",
    "print('tha bill amount{} and tip amount{} is total amount:{}'.format(bill_amount,tip_amount,totall_amount))"
   ]
  },
  {
   "cell_type": "code",
   "execution_count": 31,
   "id": "0e55284e-e9fc-4055-af8f-cae9e9daa526",
   "metadata": {},
   "outputs": [
    {
     "name": "stdin",
     "output_type": "stream",
     "text": [
      "enter the bill amount: 400\n",
      "enter the tip percentage: 10\n"
     ]
    },
    {
     "name": "stdout",
     "output_type": "stream",
     "text": [
      "the total bill amount:440.0\n",
      "the bill amount400 and tip percentage10 is total bill:440.0\n"
     ]
    }
   ],
   "source": [
    "# 6)wap ask the user the bill amount and tip percentage\n",
    "#    take tip percentage as 10\n",
    "#   calculate total bill= bill amount+ bill amount*tip per/100\n",
    "#   var1: bill amount var2: tip amount\n",
    "#    formuale\n",
    "bill_amount=eval(input('enter the bill amount:'))\n",
    "tip_percentage=eval(input('enter the tip percentage:'))\n",
    "total_bill= bill_amount+ (bill_amount*tip_percentage)/100\n",
    "print(f'the total bill amount:{total_bill}')\n",
    "print('the bill amount{} and tip percentage{} is total bill:{}'.format(bill_amount,tip_percentage,total_bill))"
   ]
  },
  {
   "cell_type": "code",
   "execution_count": 33,
   "id": "7d8da746-9ec6-4d01-b8a0-f4ef9836786e",
   "metadata": {},
   "outputs": [
    {
     "name": "stdin",
     "output_type": "stream",
     "text": [
      "enter the length: 30\n",
      "enter the breadth: 40\n"
     ]
    },
    {
     "name": "stdout",
     "output_type": "stream",
     "text": [
      "the are of rectangle:1200\n"
     ]
    }
   ],
   "source": [
    "# 7)wap ask the length and breadth of a rectangle calculate area\n",
    "#   var1: length  var2: breadth\n",
    "#   formulae: length * breadth\n",
    "l=eval(input('enter the length:'))\n",
    "b=eval(input('enter the breadth:'))\n",
    "area=l*b\n",
    "print(f'the are of rectangle:{area}')"
   ]
  },
  {
   "cell_type": "code",
   "execution_count": 37,
   "id": "f378b42e-b814-4971-b183-1ae051d94812",
   "metadata": {},
   "outputs": [
    {
     "name": "stdin",
     "output_type": "stream",
     "text": [
      "enter the radius: 4\n"
     ]
    },
    {
     "name": "stdout",
     "output_type": "stream",
     "text": [
      "the valume of sphere:267.94666666666666\n"
     ]
    }
   ],
   "source": [
    "# 8) wap ask the user take the radius and calculate volume of sphere\n",
    "#   formulae: pi*r**3(pi*r*r*r)\n",
    "r=eval(input('enter the radius:'))\n",
    "pi=3.14\n",
    "sphere=(4/3)*pi*r*r*r\n",
    "print(f\"the valume of sphere:{sphere}\")"
   ]
  },
  {
   "cell_type": "code",
   "execution_count": 39,
   "id": "ce4ac1e5-879a-4c57-b065-f2a261ea2285",
   "metadata": {},
   "outputs": [
    {
     "name": "stdin",
     "output_type": "stream",
     "text": [
      "enter the amount in dollars: 30\n"
     ]
    },
    {
     "name": "stdout",
     "output_type": "stream",
     "text": [
      "tha amount in dollars convert to rupees:2550.0\n"
     ]
    }
   ],
   "source": [
    "# 9) wap ask the user enter amount in dollars convert into rupees\n",
    "#     1$=85rs\n",
    "conversion_rate=85.0\n",
    "dollars=eval(input('enter the amount in dollars:'))\n",
    "amount_in_ruppes=conversion_rate*dollars\n",
    "print(f'tha amount in dollars convert to rupees:{amount_in_ruppes}')"
   ]
  },
  {
   "cell_type": "code",
   "execution_count": 40,
   "id": "2ade4a4a-1f96-49fc-aec0-0ab27385bfc5",
   "metadata": {},
   "outputs": [
    {
     "name": "stdin",
     "output_type": "stream",
     "text": [
      "enter your weight in kilograms: 56.89\n"
     ]
    },
    {
     "name": "stdout",
     "output_type": "stream",
     "text": [
      "weight in pounds:125.15800000000002\n"
     ]
    }
   ],
   "source": [
    "# 10)wap ask the user enter weight in kgs convert into pounds\n",
    "#    1kg= 2.2pounds\n",
    "weight_in_kgs=eval(input('enter your weight in kilograms:'))\n",
    "weight_pounds=weight_in_kgs*2.2\n",
    "print(f'weight in pounds:{weight_pounds}')"
   ]
  },
  {
   "cell_type": "code",
   "execution_count": null,
   "id": "c8b474cc-8cc6-456d-9f5c-1959fd159822",
   "metadata": {},
   "outputs": [],
   "source": []
  }
 ],
 "metadata": {
  "kernelspec": {
   "display_name": "Python 3 (ipykernel)",
   "language": "python",
   "name": "python3"
  },
  "language_info": {
   "codemirror_mode": {
    "name": "ipython",
    "version": 3
   },
   "file_extension": ".py",
   "mimetype": "text/x-python",
   "name": "python",
   "nbconvert_exporter": "python",
   "pygments_lexer": "ipython3",
   "version": "3.12.7"
  }
 },
 "nbformat": 4,
 "nbformat_minor": 5
}
