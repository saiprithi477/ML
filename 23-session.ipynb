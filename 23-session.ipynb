{
 "cells": [
  {
   "cell_type": "code",
   "execution_count": null,
   "id": "bd252615-de5f-44fd-b318-ead7139728a0",
   "metadata": {},
   "outputs": [],
   "source": [
    "d={'criterion':[\"gini\",\"entropy\",\"log_loss\"], # 3\n",
    "   'splitter':['best','random'],# 2\n",
    "   'max_depth':[3,4,5,6,7,8]} #6\n",
    "\n",
    "# 36 combination 36 dt will develo: gridsearchCV\n",
    "# random search cv"
   ]
  },
  {
   "cell_type": "code",
   "execution_count": null,
   "id": "d45dfdd1-460a-4e26-b33a-be3ebe6cef3e",
   "metadata": {},
   "outputs": [],
   "source": [
    "cross validation (CV)\n",
    "\n",
    "1000 samples\n",
    "CV=5 data 5 parts random\n",
    "each part 200 samples\n",
    "p1 p2 p3 p4 p5\n",
    "\n",
    "case-1:p1+p2+p3+p4 train(800)\n",
    "           p5 test 200\n",
    "           acc pr rc f1 36\n",
    "case-2:p1+p2+p3+p5 train(800)\n",
    "           p4 test 200\n",
    "           acc pr rc f1 36\n",
    "case-3:p1+p2+p4+p5 train(800)\n",
    "           p3 test 200\n",
    "           acc pr rc f1 36\n",
    "case-4:p1+p3+p4+p5 train(800)\n",
    "           p2 test 200\n",
    "           acc pr rc f1 36\n",
    "case-5:+p2+p3+p4+p5 train(800)\n",
    "           p1 test 200\n",
    "           acc pr rc f1 36   ============total 36*5=180"
   ]
  },
  {
   "cell_type": "code",
   "execution_count": null,
   "id": "e00cdbea-c80a-4d4a-a6a3-716cd574b0ce",
   "metadata": {},
   "outputs": [],
   "source": [
    "i want to develop a model diffrent difrent chnages\n",
    "we need to identify the good perameter"
   ]
  },
  {
   "cell_type": "code",
   "execution_count": null,
   "id": "054c8f35-e032-49d5-8b92-6d29026a485e",
   "metadata": {},
   "outputs": [],
   "source": [
    "**Hyper parameter "
   ]
  }
 ],
 "metadata": {
  "kernelspec": {
   "display_name": "Python 3 (ipykernel)",
   "language": "python",
   "name": "python3"
  },
  "language_info": {
   "codemirror_mode": {
    "name": "ipython",
    "version": 3
   },
   "file_extension": ".py",
   "mimetype": "text/x-python",
   "name": "python",
   "nbconvert_exporter": "python",
   "pygments_lexer": "ipython3",
   "version": "3.12.7"
  }
 },
 "nbformat": 4,
 "nbformat_minor": 5
}
