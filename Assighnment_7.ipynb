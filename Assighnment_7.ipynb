{
 "cells": [
  {
   "cell_type": "code",
   "execution_count": 1,
   "id": "c5dd0f24-e16a-4c29-b70a-df600ddbca42",
   "metadata": {},
   "outputs": [
    {
     "name": "stdin",
     "output_type": "stream",
     "text": [
      "enter a n1: 23\n",
      "enter a n2: 34\n",
      "enter a n3: 45\n"
     ]
    },
    {
     "name": "stdout",
     "output_type": "stream",
     "text": [
      "thezverage of23,34and45 is: 34.0\n"
     ]
    }
   ],
   "source": [
    "# 1)wap ask the user enter 3 numbers n1,n2,n3 from ketboard\n",
    "# calculate average\n",
    "\n",
    "\n",
    "def AVG():\n",
    "    try:\n",
    "        n1=eval(input('enter a n1:'))\n",
    "        n2=eval(input('enter a n2:'))\n",
    "        n3=eval(input('enter a n3:'))\n",
    "        avg=(n1+n2+n3)/3\n",
    "        avg1=round(avg,2)\n",
    "        print(f'thezverage of{n1},{n2}and{n3} is: {avg1}')\n",
    "    except Exception as e:\n",
    "        print(e)\n",
    "AVG()"
   ]
  },
  {
   "cell_type": "code",
   "execution_count": 2,
   "id": "313273e0-3d58-4409-b380-def36de59287",
   "metadata": {},
   "outputs": [
    {
     "name": "stdout",
     "output_type": "stream",
     "text": [
      "my name is prithi, im 13 years old and came from nandigama\n"
     ]
    }
   ],
   "source": [
    "# 2)wap ask the user enter name age city\n",
    "# print my name is python im 10 years old and came from hyd\n",
    "import random\n",
    "def AGE():\n",
    "    try:\n",
    "        d=('sai','prithi','chirumamilla')\n",
    "        e=(23,13,25)\n",
    "        f=('nandigama','vij','hyd')\n",
    "        name=random.choice(d)\n",
    "        age=random.choice(e)\n",
    "        city=random.choice(f)\n",
    "        print(f\"my name is {name}, im {age} years old and came from {city}\")\n",
    "    except Exception as e:\n",
    "        print(e)\n",
    "AGE()"
   ]
  },
  {
   "cell_type": "code",
   "execution_count": 3,
   "id": "0dbb1ce3-4861-48a2-986d-012f1cbff4e1",
   "metadata": {},
   "outputs": [
    {
     "name": "stdout",
     "output_type": "stream",
     "text": [
      " area of circleis 19113.4497044403\n"
     ]
    }
   ],
   "source": [
    "# 3)wap ask the user to enter radidus of a circle calculate area of the circle\n",
    "# var: radidus  var: pi=3.14\n",
    "# formuale: pi*radius*radius\n",
    "# print the answers using f string and format\n",
    "import math\n",
    "import random\n",
    "def VAR():\n",
    "        try:\n",
    "            v1=(12,38,78)\n",
    "            radius=random.choice(v1)\n",
    "            pi=math.pi\n",
    "            area=pi*radius*radius\n",
    "            print(f\" area of circleis {area}\")\n",
    "        except Eeception as e:\n",
    "            print(e)\n",
    "VAR()"
   ]
  },
  {
   "cell_type": "code",
   "execution_count": 4,
   "id": "a1598a49-b675-4ccd-8529-32c11ac95c05",
   "metadata": {},
   "outputs": [
    {
     "name": "stdout",
     "output_type": "stream",
     "text": [
      "area of triangle 22.5\n"
     ]
    }
   ],
   "source": [
    "# 4)wap ask the user enter breadth and height of a right angle triangle\n",
    "# calculate the area\n",
    "# var1: bredath  var2: height\n",
    "# formuale : 0.5*breadth*heigh\n",
    "def AREA():\n",
    "    try: \n",
    "        num1=(2,3,5)\n",
    "        num2=(7,8,9)\n",
    "        b=random.choice(num1)\n",
    "        h=random.choice(num2)\n",
    "        a=0.5*b*h\n",
    "        print(f\"area of triangle {a}\")\n",
    "    except Exception as e:\n",
    "        print(e)\n",
    "\n",
    "AREA()"
   ]
  },
  {
   "cell_type": "code",
   "execution_count": 5,
   "id": "c20b3523-4b8b-49e6-b762-5416dfb554bf",
   "metadata": {},
   "outputs": [
    {
     "name": "stdout",
     "output_type": "stream",
     "text": [
      "total amoun is 400\n"
     ]
    }
   ],
   "source": [
    "# 5)wap ask the user the bill amount and tip amount\n",
    "#   calculate total bill\n",
    "#   var1: bill amount var2: tip amount\n",
    "#   formuale\n",
    "def BILL():\n",
    "    try:\n",
    "        bill=(200,300,400)\n",
    "        tip=(50,100,150)\n",
    "        bill_amount=random.choice(bill)\n",
    "        tip_amount=random.choice(tip)\n",
    "        total=bill_amount+tip_amount\n",
    "        print(f\"total amoun is {total}\")\n",
    "    except Exception as e:\n",
    "        print(e)\n",
    "BILL()\n"
   ]
  },
  {
   "cell_type": "code",
   "execution_count": 6,
   "id": "bf410d46-ceec-42cd-a77f-e31b0be6502d",
   "metadata": {},
   "outputs": [
    {
     "name": "stdout",
     "output_type": "stream",
     "text": [
      " the bill amount is 300 and tip is 10, hence percentage of total bill amount is 330.0\n",
      "the  bill_amountis 300 and tip_amount is 10total bill amount is330.0\n"
     ]
    }
   ],
   "source": [
    "# 6)wap ask the user the bill amount and tip percentage\n",
    "#    take tip percentage as 10\n",
    "#   calculate total bill= bill amount+ bill amount*tip per/100\n",
    "#   var1: bill amount var2: tip amount\n",
    "#    formuale\n",
    "import math\n",
    "def AMOUNT():\n",
    "    try:\n",
    "        bill=(200,300,400)\n",
    "        tip_percentage=(10,20,30)    #\n",
    "        \n",
    "        bill_amount=random.choice(bill)\n",
    "        tip_amount=random.choice(tip_percentage)    \n",
    "        \n",
    "        total=bill_amount+(bill_amount*tip_amount/100)\n",
    "        print(f\" the bill amount is {bill_amount} and tip is {tip_amount}, hence percentage of total bill amount is {total}\")\n",
    "        print(\"the  bill_amountis {} and tip_amount is {}total bill amount is{}\".format(bill_amount,tip_amount,total))\n",
    "    except Exception as e:\n",
    "        print(e)\n",
    "\n",
    "AMOUNT()\n"
   ]
  },
  {
   "cell_type": "code",
   "execution_count": 7,
   "id": "b97244aa-501c-43c4-a775-36337fca9639",
   "metadata": {},
   "outputs": [
    {
     "name": "stdout",
     "output_type": "stream",
     "text": [
      "area of rectangle 48\n",
      "the length is 14 and breadth is 34 the area of rectangle is 48\n"
     ]
    }
   ],
   "source": [
    "# 7)wap ask the length and breadth of a rectangle calculate area\n",
    "#   var1: length  var2: breadth\n",
    "#   formulae: length * breadth\n",
    "\n",
    "def RAC():\n",
    "    try:\n",
    "        v1=(12,13,14)\n",
    "        v2=(23,34,45)\n",
    "        \n",
    "        length=random.choice(v1)\n",
    "        breadth=random.choice(v2)\n",
    "        \n",
    "        area=length+breadth\n",
    "        print(f\"area of rectangle {area}\")\n",
    "        print(\"the length is {} and breadth is {} the area of rectangle is {}\".format(length,breadth,area))\n",
    "    except Exception as e:\n",
    "        print(e)\n",
    "RAC()"
   ]
  },
  {
   "cell_type": "code",
   "execution_count": 2,
   "id": "05ff6b66-5c86-48cc-8e97-5af5f88babef",
   "metadata": {},
   "outputs": [
    {
     "name": "stdout",
     "output_type": "stream",
     "text": [
      " amount in dollars convert to rupees 3825\n",
      "amount in dollars is45 to convert rupees3825\n"
     ]
    }
   ],
   "source": [
    "# 9) wap ask the user enter amount in dollars convert into rupees\n",
    "#     1$=85rs\n",
    "import random\n",
    "def KGS():\n",
    "    try:\n",
    "        D1=(23,45,67)\n",
    "        amount_in_dollars=random.choice(D1)\n",
    "        conversion_rate=85\n",
    "        amount_in_rupees=amount_in_dollars*conversion_rate\n",
    "        print(f\" amount in dollars convert to rupees {amount_in_rupees}\")\n",
    "        print(\"amount in dollars is{} to convert rupees{}\".format(amount_in_dollars,amount_in_rupees))\n",
    "    except Exception as e:\n",
    "        print(e)\n",
    "KGS()\n",
    " \n"
   ]
  },
  {
   "cell_type": "code",
   "execution_count": 4,
   "id": "6023fc75-7c93-4f61-ae99-dffd7e2b85a2",
   "metadata": {},
   "outputs": [
    {
     "name": "stdout",
     "output_type": "stream",
     "text": [
      " weight in kgs conver into pounds 66.0\n",
      "weight_in_kgs 30 to convert pounds 66.0\n"
     ]
    }
   ],
   "source": [
    "# 10)wap ask the user enter weight in kgs convert into pounds\n",
    "#    1kg= 2.2pounds\n",
    "\n",
    "import random\n",
    "def weight():\n",
    "    try:\n",
    "        weight=(20,30,40)\n",
    "        weight_in_kgs=random.choice(weight)\n",
    "        weight_pounds=weight_in_kgs*2.2\n",
    "        print(f\" weight in kgs conver into pounds {weight_pounds}\")\n",
    "        print(\"weight_in_kgs {} to convert pounds {}\".format(weight_in_kgs,weight_pounds))\n",
    "    except Exception as e:\n",
    "        print(e)\n",
    "weight()"
   ]
  },
  {
   "cell_type": "code",
   "execution_count": 3,
   "id": "a9f876e5-86a7-4181-bb01-c34e6de2cf85",
   "metadata": {},
   "outputs": [
    {
     "name": "stdout",
     "output_type": "stream",
     "text": [
      "volume of sphere is 5428.672105403162\n"
     ]
    }
   ],
   "source": [
    "# 8) wap ask the user take the random radius and calculate volume of sphere\n",
    "#   formulae: pi*r**3(pi*r*r*r)\n",
    "\n",
    "\n",
    "import random\n",
    "import math\n",
    "def sphere():\n",
    "    try:\n",
    "        r1=(12,23,45)\n",
    "        r1=random.choice(r1)\n",
    "        pi=math.pi\n",
    "        sphere=pi*r1*r1*r1\n",
    "        print(f\"volume of sphere is {sphere}\")\n",
    "        math.ceil(sphere)\n",
    "    except Exception as e:\n",
    "        print(e)\n",
    "sphere()\n"
   ]
  },
  {
   "cell_type": "code",
   "execution_count": null,
   "id": "0c0dbfcc-45a7-4a1a-a208-fb9e0b399a59",
   "metadata": {},
   "outputs": [],
   "source": []
  }
 ],
 "metadata": {
  "kernelspec": {
   "display_name": "Python 3 (ipykernel)",
   "language": "python",
   "name": "python3"
  },
  "language_info": {
   "codemirror_mode": {
    "name": "ipython",
    "version": 3
   },
   "file_extension": ".py",
   "mimetype": "text/x-python",
   "name": "python",
   "nbconvert_exporter": "python",
   "pygments_lexer": "ipython3",
   "version": "3.12.7"
  }
 },
 "nbformat": 4,
 "nbformat_minor": 5
}
