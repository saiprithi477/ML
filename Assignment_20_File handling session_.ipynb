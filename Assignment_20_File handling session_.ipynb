{
 "cells": [
  {
   "cell_type": "code",
   "execution_count": null,
   "id": "de936914-41ad-4ffe-b99b-a6e1cf5393ec",
   "metadata": {},
   "outputs": [],
   "source": [
    "#'r' open for reading (default)\n",
    "#'w' open for writing, truncating the file first\n",
    "#'x' create a new file and open it for writing\n",
    "#'a' open for writing, appending to the end of the file if it exists\n",
    "#'b' binary mode\n",
    "#'t' text mode (default)\n",
    "#'+' open a disk file for updating (reading and writing)\n"
   ]
  },
  {
   "cell_type": "code",
   "execution_count": null,
   "id": "10b09234-957e-4ab0-b7f3-871f9b52cce5",
   "metadata": {},
   "outputs": [],
   "source": []
  }
 ],
 "metadata": {
  "kernelspec": {
   "display_name": "Python 3 (ipykernel)",
   "language": "python",
   "name": "python3"
  },
  "language_info": {
   "codemirror_mode": {
    "name": "ipython",
    "version": 3
   },
   "file_extension": ".py",
   "mimetype": "text/x-python",
   "name": "python",
   "nbconvert_exporter": "python",
   "pygments_lexer": "ipython3",
   "version": "3.12.7"
  }
 },
 "nbformat": 4,
 "nbformat_minor": 5
}
