{
 "cells": [
  {
   "cell_type": "code",
   "execution_count": 2,
   "id": "02086fd0-1443-47fb-8824-7208ab720f46",
   "metadata": {},
   "outputs": [],
   "source": [
    "# list1=[10,20,2,5,75]\n",
    "# in the interview sort the list without sorted function\n",
    "# find the max value without max function\n",
    "# find the min value without min fun\n",
    "# reverse the elements without reverse fun\n",
    "# sum the elements without using sum function\n",
    "# find the second min second max\n"
   ]
  },
  {
   "cell_type": "code",
   "execution_count": 3,
   "id": "66e35673-0275-4ad5-825e-aebd6373e16f",
   "metadata": {},
   "outputs": [
    {
     "data": {
      "text/plain": [
       "[2, 5, 10, 20, 75]"
      ]
     },
     "execution_count": 3,
     "metadata": {},
     "output_type": "execute_result"
    }
   ],
   "source": [
    "list1=[10,20,2,5,75]\n",
    "sorted(list1)"
   ]
  },
  {
   "cell_type": "code",
   "execution_count": 4,
   "id": "082b1b40-cfd3-4ba3-b520-c0ecc65d7ad1",
   "metadata": {},
   "outputs": [
    {
     "data": {
      "text/plain": [
       "[2, 5, 10, 20, 75]"
      ]
     },
     "execution_count": 4,
     "metadata": {},
     "output_type": "execute_result"
    }
   ],
   "source": [
    "list(sorted(list1))"
   ]
  },
  {
   "cell_type": "code",
   "execution_count": 9,
   "id": "272d2d60-8632-4d68-963e-3f1679e0c2fd",
   "metadata": {},
   "outputs": [
    {
     "name": "stdout",
     "output_type": "stream",
     "text": [
      "10 20 2 5 75 "
     ]
    }
   ],
   "source": [
    "for i in list1:\n",
    "    print(i,end=' ')"
   ]
  },
  {
   "cell_type": "code",
   "execution_count": 65,
   "id": "c8476c53-35b1-4c16-be8c-c0b2e5efd2f7",
   "metadata": {},
   "outputs": [
    {
     "name": "stdout",
     "output_type": "stream",
     "text": [
      "[10, 20, 2, 5, 75]\n",
      "sorted value is [2, 5, 10, 20, 75]\n"
     ]
    }
   ],
   "source": [
    "#1)list1=[10,20,2,5,75]\n",
    "print(list1)\n",
    "for i in range(0,5):\n",
    "        for j in range(i+1,5):\n",
    "            if list1[i]>=list1[j]:\n",
    "                temp=list1[i]\n",
    "                list1[i]=list1[j]\n",
    "                list1[j]=temp\n",
    "print('sorted value is', list1)            "
   ]
  },
  {
   "cell_type": "code",
   "execution_count": 24,
   "id": "fe79ec60-efe1-4748-a6ef-bc96fb774d2a",
   "metadata": {},
   "outputs": [
    {
     "data": {
      "text/plain": [
       "5"
      ]
     },
     "execution_count": 24,
     "metadata": {},
     "output_type": "execute_result"
    }
   ],
   "source": [
    "list1=[10,20,2,5,75]\n",
    "len(list1)"
   ]
  },
  {
   "cell_type": "code",
   "execution_count": 75,
   "id": "8d618f2f-5f3b-4980-9ee9-61bfab1607c8",
   "metadata": {},
   "outputs": [
    {
     "name": "stdout",
     "output_type": "stream",
     "text": [
      "75\n"
     ]
    }
   ],
   "source": [
    "#2) find the max value without max function(largest)\n",
    "list1=[10,20,2,5,75]\n",
    "max=list1[0]\n",
    "for i in list1:\n",
    "    if i > max:\n",
    "        max=i\n",
    "print(max)"
   ]
  },
  {
   "cell_type": "code",
   "execution_count": 86,
   "id": "721b6209-eb06-4ed1-bada-de932dded097",
   "metadata": {},
   "outputs": [
    {
     "name": "stdout",
     "output_type": "stream",
     "text": [
      "2\n"
     ]
    }
   ],
   "source": [
    "#3) find the min value without min fun\n",
    "list1=[10,20,2,5,75]\n",
    "min=list1[0]\n",
    "for i in list1:\n",
    "    if i<min:\n",
    "        min=i\n",
    "print(min)"
   ]
  },
  {
   "cell_type": "code",
   "execution_count": 4,
   "id": "c5e4a08e-fc90-4e79-9718-a66b5e14c5c8",
   "metadata": {},
   "outputs": [
    {
     "data": {
      "text/plain": [
       "[75, 5, 2, 20, 10]"
      ]
     },
     "execution_count": 4,
     "metadata": {},
     "output_type": "execute_result"
    }
   ],
   "source": [
    "#4) reverse the elements without reverse fun\n",
    "list1=[10,20,2,5,75]\n",
    "reversed=list1[::-1]\n",
    "#print(list1)\n",
    "reversed"
   ]
  },
  {
   "cell_type": "code",
   "execution_count": 44,
   "id": "c7ed2519-dab8-4c93-abc5-bd4361b1a17c",
   "metadata": {},
   "outputs": [
    {
     "name": "stdout",
     "output_type": "stream",
     "text": [
      "[10, 20, 2, 5, 75]\n",
      "sorted value is [2, 5, 10, 20, 75]\n",
      "list2=[2, 5, 10, 20, 75]\n",
      "[75, 20, 10, 5, 2]\n"
     ]
    }
   ],
   "source": [
    "#4)\n",
    "list1=[10,20,2,5,75]\n",
    "\n",
    "print(list1)\n",
    "for i in range(0,5):\n",
    "        for j in range(i+1,5):\n",
    "            if list1[i]>=list1[j]:\n",
    "                temp=list1[i]\n",
    "                list1[i]=list1[j]\n",
    "                list1[j]=temp\n",
    "\n",
    "print('sorted value is', list1)   \n",
    "print(f'list2={list1}')\n",
    "list2=[2,5,10,20,75]\n",
    "size=len(list2)\n",
    "m=int(size/2)\n",
    "for i in range(m):\n",
    "    temp=list2[i]\n",
    "    list2[i]=list2[size-i-1]\n",
    "    list2[size-i-1]=temp\n",
    "print(list2)"
   ]
  },
  {
   "cell_type": "code",
   "execution_count": 3,
   "id": "0f822744-79fd-49ce-9b8c-a5b8108bbb75",
   "metadata": {},
   "outputs": [
    {
     "name": "stdout",
     "output_type": "stream",
     "text": [
      "[75, 5, 2, 20, 10]=[75, 5, 2, 20, 10]\n"
     ]
    }
   ],
   "source": [
    "list1=[10,20,2,5,75]\n",
    "list2=[75,5,2,20,10]\n",
    "list1=list2\n",
    "print(f'{list1}={list2}')"
   ]
  },
  {
   "cell_type": "code",
   "execution_count": 20,
   "id": "aa7093a5-5127-4064-8ee0-5debd0e9e582",
   "metadata": {},
   "outputs": [
    {
     "data": {
      "text/plain": [
       "5"
      ]
     },
     "execution_count": 20,
     "metadata": {},
     "output_type": "execute_result"
    }
   ],
   "source": [
    "list1=[10,20,2,5,75]\n",
    "len(list1)"
   ]
  },
  {
   "cell_type": "code",
   "execution_count": 57,
   "id": "25c00c46-f19a-41de-9fb7-152a69446153",
   "metadata": {},
   "outputs": [
    {
     "name": "stdout",
     "output_type": "stream",
     "text": [
      "10\n",
      "30\n",
      "32\n",
      "37\n",
      "112\n"
     ]
    }
   ],
   "source": [
    "#5) sum the elements without using sum function\n",
    "list1=[10,20,2,5,75]\n",
    "n=len(list1)\n",
    "summ=0\n",
    "for i in range(0,n):\n",
    "    if i <5:\n",
    "        summ+=list1[i]\n",
    "        print(summ)"
   ]
  },
  {
   "cell_type": "code",
   "execution_count": 31,
   "id": "19cb0979-287a-4b3a-a7e3-13a63fff099b",
   "metadata": {},
   "outputs": [
    {
     "name": "stdout",
     "output_type": "stream",
     "text": [
      "5\n"
     ]
    }
   ],
   "source": [
    "#6) find the second min \n",
    "list1=[10,20,2,5,75]\n",
    "s=len(list1)\n",
    "for i in range (s):\n",
    "    for j in range (s):\n",
    "        max_=list1[i]\n",
    "        if list1[i]<list1[j]:\n",
    "            max_=list1[j]\n",
    "sec_min=max_\n",
    "for i in range (s):\n",
    "    for j in range (s):\n",
    "        if list1[i]>list1[j] and list1[i]<sec_min:\n",
    "            sec_min=list1[i]\n",
    "print(sec_min) "
   ]
  },
  {
   "cell_type": "code",
   "execution_count": 32,
   "id": "c2562b79-bc2d-4044-85b0-9c303d6a143f",
   "metadata": {},
   "outputs": [
    {
     "name": "stdout",
     "output_type": "stream",
     "text": [
      "20\n"
     ]
    }
   ],
   "source": [
    "# second max\n",
    "list1=[10,20,2,5,75]\n",
    "s=len(list1)\n",
    "min_=list1[i]\n",
    "for i in range (s):\n",
    "    if list1[i]<min_:\n",
    "            min_=list1[i]\n",
    "sec_max=min_\n",
    "for i in range (s):\n",
    "    for j in range (s):\n",
    "        if list1[i]<list1[j] and list1[i]>sec_min:\n",
    "            sec_max=list1[i]\n",
    "print(sec_max) "
   ]
  },
  {
   "cell_type": "code",
   "execution_count": null,
   "id": "ea9a8e49-343d-4991-89c1-946065bbf363",
   "metadata": {},
   "outputs": [],
   "source": []
  }
 ],
 "metadata": {
  "kernelspec": {
   "display_name": "Python 3 (ipykernel)",
   "language": "python",
   "name": "python3"
  },
  "language_info": {
   "codemirror_mode": {
    "name": "ipython",
    "version": 3
   },
   "file_extension": ".py",
   "mimetype": "text/x-python",
   "name": "python",
   "nbconvert_exporter": "python",
   "pygments_lexer": "ipython3",
   "version": "3.12.7"
  }
 },
 "nbformat": 4,
 "nbformat_minor": 5
}
