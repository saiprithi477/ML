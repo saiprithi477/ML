{
 "cells": [
  {
   "cell_type": "code",
   "execution_count": 1,
   "id": "4b1d3dce-a056-4253-a585-a2f227af5e44",
   "metadata": {},
   "outputs": [
    {
     "data": {
      "text/plain": [
       "'sai prithi'"
      ]
     },
     "execution_count": 1,
     "metadata": {},
     "output_type": "execute_result"
    }
   ],
   "source": [
    "name='sai prithi'\n",
    "name"
   ]
  },
  {
   "cell_type": "code",
   "execution_count": 5,
   "id": "f3006420-75ac-4417-94b4-5bbc9604a43d",
   "metadata": {},
   "outputs": [
    {
     "name": "stdout",
     "output_type": "stream",
     "text": [
      "hii! \"sai prithi\"\n"
     ]
    }
   ],
   "source": [
    "name='hii! \"sai prithi\"'\n",
    "print(name)"
   ]
  },
  {
   "cell_type": "code",
   "execution_count": 6,
   "id": "e511cbd7-68b9-422f-a606-f8cd671e7223",
   "metadata": {},
   "outputs": [
    {
     "data": {
      "text/plain": [
       "10"
      ]
     },
     "execution_count": 6,
     "metadata": {},
     "output_type": "execute_result"
    }
   ],
   "source": [
    "name='sai prithi'\n",
    "len(name)"
   ]
  },
  {
   "cell_type": "code",
   "execution_count": 7,
   "id": "dbde6e52-03cf-414e-85a1-8cfbd6a78e83",
   "metadata": {},
   "outputs": [
    {
     "data": {
      "text/plain": [
       "'t'"
      ]
     },
     "execution_count": 7,
     "metadata": {},
     "output_type": "execute_result"
    }
   ],
   "source": [
    "name='sai prithi'\n",
    "max(name)"
   ]
  },
  {
   "cell_type": "code",
   "execution_count": 14,
   "id": "844f5d93-5d41-4a58-9f85-8460ce9920a3",
   "metadata": {},
   "outputs": [
    {
     "data": {
      "text/plain": [
       "'sai prithi'"
      ]
     },
     "execution_count": 14,
     "metadata": {},
     "output_type": "execute_result"
    }
   ],
   "source": [
    "name1='sai '\n",
    "name2='prithi'\n",
    "name1+name2\n"
   ]
  },
  {
   "cell_type": "code",
   "execution_count": 8,
   "id": "5ebfeea4-e38d-4264-8e2c-9f10b74244aa",
   "metadata": {},
   "outputs": [
    {
     "data": {
      "text/plain": [
       "' '"
      ]
     },
     "execution_count": 8,
     "metadata": {},
     "output_type": "execute_result"
    }
   ],
   "source": [
    "name='sai prithi'\n",
    "min(name)"
   ]
  },
  {
   "cell_type": "code",
   "execution_count": 9,
   "id": "c742efb4-ca1c-4c4b-8709-458f25d5fab1",
   "metadata": {},
   "outputs": [
    {
     "data": {
      "text/plain": [
       "[' ', 'a', 'h', 'i', 'i', 'i', 'p', 'r', 's', 't']"
      ]
     },
     "execution_count": 9,
     "metadata": {},
     "output_type": "execute_result"
    }
   ],
   "source": [
    "sorted('sai prithi')\n"
   ]
  },
  {
   "cell_type": "code",
   "execution_count": 10,
   "id": "ebefdbb0-5f10-42cc-8a1e-43388bf0af66",
   "metadata": {},
   "outputs": [
    {
     "data": {
      "text/plain": [
       "['t', 's', 'r', 'p', 'i', 'i', 'i', 'h', 'a', ' ']"
      ]
     },
     "execution_count": 10,
     "metadata": {},
     "output_type": "execute_result"
    }
   ],
   "source": [
    "sorted('sai prithi',reverse=True)\n"
   ]
  },
  {
   "cell_type": "code",
   "execution_count": 11,
   "id": "7935d244-68c1-4d01-8a3e-7bbeed7c9099",
   "metadata": {},
   "outputs": [
    {
     "data": {
      "text/plain": [
       "['i', 'h', 't', 'e', 'e', 'r', 'p']"
      ]
     },
     "execution_count": 11,
     "metadata": {},
     "output_type": "execute_result"
    }
   ],
   "source": [
    "name=reversed('preethi')\n",
    "list(name)"
   ]
  },
  {
   "cell_type": "code",
   "execution_count": 21,
   "id": "bbff6eb9-04f6-42ab-a749-df9778246477",
   "metadata": {},
   "outputs": [
    {
     "name": "stdout",
     "output_type": "stream",
     "text": [
      "i h t e e r p "
     ]
    }
   ],
   "source": [
    "name=reversed('preethi')\n",
    "for i in name:\n",
    "    print(i,end=' ')"
   ]
  },
  {
   "cell_type": "code",
   "execution_count": 13,
   "id": "3290adc9-f166-41ef-a224-e81e2815f43c",
   "metadata": {},
   "outputs": [
    {
     "data": {
      "text/plain": [
       "'sai prithi'"
      ]
     },
     "execution_count": 13,
     "metadata": {},
     "output_type": "execute_result"
    }
   ],
   "source": [
    "first_name='sai'\n",
    "last_name='prithi'\n",
    "first_name+' '+last_name"
   ]
  },
  {
   "cell_type": "code",
   "execution_count": 15,
   "id": "195de7b1-72d9-4c7b-a4da-f3572f1754a8",
   "metadata": {},
   "outputs": [
    {
     "ename": "TypeError",
     "evalue": "unsupported operand type(s) for -: 'str' and 'str'",
     "output_type": "error",
     "traceback": [
      "\u001b[1;31m---------------------------------------------------------------------------\u001b[0m",
      "\u001b[1;31mTypeError\u001b[0m                                 Traceback (most recent call last)",
      "Cell \u001b[1;32mIn[15], line 3\u001b[0m\n\u001b[0;32m      1\u001b[0m first_name\u001b[38;5;241m=\u001b[39m\u001b[38;5;124m'\u001b[39m\u001b[38;5;124msai\u001b[39m\u001b[38;5;124m'\u001b[39m\n\u001b[0;32m      2\u001b[0m last_name\u001b[38;5;241m=\u001b[39m\u001b[38;5;124m'\u001b[39m\u001b[38;5;124mprithi\u001b[39m\u001b[38;5;124m'\u001b[39m\n\u001b[1;32m----> 3\u001b[0m first_name\u001b[38;5;241m-\u001b[39mlast_name\n",
      "\u001b[1;31mTypeError\u001b[0m: unsupported operand type(s) for -: 'str' and 'str'"
     ]
    }
   ],
   "source": [
    "\n",
    "first_name='sai'\n",
    "last_name='prithi'\n",
    "first_name-last_name"
   ]
  },
  {
   "cell_type": "code",
   "execution_count": 16,
   "id": "083ad783-8d82-4753-8d20-92a53ca4f228",
   "metadata": {},
   "outputs": [
    {
     "ename": "TypeError",
     "evalue": "can't multiply sequence by non-int of type 'str'",
     "output_type": "error",
     "traceback": [
      "\u001b[1;31m---------------------------------------------------------------------------\u001b[0m",
      "\u001b[1;31mTypeError\u001b[0m                                 Traceback (most recent call last)",
      "Cell \u001b[1;32mIn[16], line 3\u001b[0m\n\u001b[0;32m      1\u001b[0m first_name\u001b[38;5;241m=\u001b[39m\u001b[38;5;124m'\u001b[39m\u001b[38;5;124msai\u001b[39m\u001b[38;5;124m'\u001b[39m\n\u001b[0;32m      2\u001b[0m last_name\u001b[38;5;241m=\u001b[39m\u001b[38;5;124m'\u001b[39m\u001b[38;5;124mprithi\u001b[39m\u001b[38;5;124m'\u001b[39m\n\u001b[1;32m----> 3\u001b[0m first_name\u001b[38;5;241m*\u001b[39mlast_name\n",
      "\u001b[1;31mTypeError\u001b[0m: can't multiply sequence by non-int of type 'str'"
     ]
    }
   ],
   "source": [
    "first_name='sai'\n",
    "last_name='prithi'\n",
    "first_name*last_name"
   ]
  },
  {
   "cell_type": "code",
   "execution_count": 17,
   "id": "8548776c-5200-45b3-aea8-a3dba79047f9",
   "metadata": {},
   "outputs": [
    {
     "ename": "TypeError",
     "evalue": "unsupported operand type(s) for /: 'str' and 'str'",
     "output_type": "error",
     "traceback": [
      "\u001b[1;31m---------------------------------------------------------------------------\u001b[0m",
      "\u001b[1;31mTypeError\u001b[0m                                 Traceback (most recent call last)",
      "Cell \u001b[1;32mIn[17], line 3\u001b[0m\n\u001b[0;32m      1\u001b[0m first_name\u001b[38;5;241m=\u001b[39m\u001b[38;5;124m'\u001b[39m\u001b[38;5;124msai\u001b[39m\u001b[38;5;124m'\u001b[39m\n\u001b[0;32m      2\u001b[0m last_name\u001b[38;5;241m=\u001b[39m\u001b[38;5;124m'\u001b[39m\u001b[38;5;124mprithi\u001b[39m\u001b[38;5;124m'\u001b[39m\n\u001b[1;32m----> 3\u001b[0m first_name\u001b[38;5;241m/\u001b[39mlast_name\n",
      "\u001b[1;31mTypeError\u001b[0m: unsupported operand type(s) for /: 'str' and 'str'"
     ]
    }
   ],
   "source": [
    "first_name='sai'\n",
    "last_name='prithi'\n",
    "first_name/last_name"
   ]
  },
  {
   "cell_type": "code",
   "execution_count": 20,
   "id": "31c15269-92e5-41c3-ae7d-9b45b30d252d",
   "metadata": {},
   "outputs": [
    {
     "data": {
      "text/plain": [
       "'saisai'"
      ]
     },
     "execution_count": 20,
     "metadata": {},
     "output_type": "execute_result"
    }
   ],
   "source": [
    "name='sai'\n",
    "name*2"
   ]
  },
  {
   "cell_type": "code",
   "execution_count": null,
   "id": "e9d97f1c-671d-4ea6-8d2d-7bce47e1fcec",
   "metadata": {},
   "outputs": [],
   "source": []
  }
 ],
 "metadata": {
  "kernelspec": {
   "display_name": "Python 3 (ipykernel)",
   "language": "python",
   "name": "python3"
  },
  "language_info": {
   "codemirror_mode": {
    "name": "ipython",
    "version": 3
   },
   "file_extension": ".py",
   "mimetype": "text/x-python",
   "name": "python",
   "nbconvert_exporter": "python",
   "pygments_lexer": "ipython3",
   "version": "3.12.7"
  }
 },
 "nbformat": 4,
 "nbformat_minor": 5
}
