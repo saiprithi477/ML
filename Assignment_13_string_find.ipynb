{
 "cells": [
  {
   "cell_type": "markdown",
   "id": "78ccbf64-436c-470e-b222-3f0047156c11",
   "metadata": {},
   "source": [
    "**count**"
   ]
  },
  {
   "cell_type": "code",
   "execution_count": 1,
   "id": "672bde63-3d36-42e3-8ba9-30eaa31c88dd",
   "metadata": {},
   "outputs": [
    {
     "name": "stdout",
     "output_type": "stream",
     "text": [
      "5\n"
     ]
    }
   ],
   "source": [
    "str1='saiprithi chirumamilla'\n",
    "count=0\n",
    "for i in str1:\n",
    "    if i =='i':\n",
    "        count=count+1\n",
    "print(count)"
   ]
  },
  {
   "cell_type": "code",
   "execution_count": 2,
   "id": "be1a7dd4-9813-4027-ad58-e1fbdfce1966",
   "metadata": {},
   "outputs": [
    {
     "data": {
      "text/plain": [
       "5"
      ]
     },
     "execution_count": 2,
     "metadata": {},
     "output_type": "execute_result"
    }
   ],
   "source": [
    "# case-1\n",
    "str1='saiprithi chirumamilla'\n",
    "str1.count('i')"
   ]
  },
  {
   "cell_type": "code",
   "execution_count": 6,
   "id": "6987a6f4-5033-45d6-ba88-a476a7a25e0b",
   "metadata": {},
   "outputs": [
    {
     "data": {
      "text/plain": [
       "4"
      ]
     },
     "execution_count": 6,
     "metadata": {},
     "output_type": "execute_result"
    }
   ],
   "source": [
    "# case-2\n",
    "str2='saiprithi chirumamilla'\n",
    "str2.count('i',5)\n"
   ]
  },
  {
   "cell_type": "code",
   "execution_count": 5,
   "id": "92638c1d-c9b9-42e9-a632-20c50d2ecb9d",
   "metadata": {},
   "outputs": [
    {
     "data": {
      "text/plain": [
       "2"
      ]
     },
     "execution_count": 5,
     "metadata": {},
     "output_type": "execute_result"
    }
   ],
   "source": [
    "str1.count('i',11)"
   ]
  },
  {
   "cell_type": "markdown",
   "id": "25ffe0a6-2b2e-459a-976d-b045487ab088",
   "metadata": {},
   "source": [
    "**replace**"
   ]
  },
  {
   "cell_type": "code",
   "execution_count": 7,
   "id": "34e7ed9c-f349-49d9-896d-eff678d9ee9b",
   "metadata": {},
   "outputs": [
    {
     "data": {
      "text/plain": [
       "'saIprIthI chIrumamIlla'"
      ]
     },
     "execution_count": 7,
     "metadata": {},
     "output_type": "execute_result"
    }
   ],
   "source": [
    "str2='saiprithi chirumamilla'\n",
    "str2.replace('i','I')"
   ]
  },
  {
   "cell_type": "code",
   "execution_count": 14,
   "id": "87cdd894-4904-41c2-ade7-19c970e4d2c2",
   "metadata": {},
   "outputs": [
    {
     "data": {
      "text/plain": [
       "'saIprIthI chIrumamIlla'"
      ]
     },
     "execution_count": 14,
     "metadata": {},
     "output_type": "execute_result"
    }
   ],
   "source": [
    "str2='saiprithi chirumamilla'   #   s a i p r i t h i     c  h  i  r  u  m  a  m  i  l  l  a\n",
    "str2.replace('i','I',-1)          # 0 1 2 3 4 5 6 7 8 9   10 11 12 13 14 15 16 17 18 19 20 21  "
   ]
  },
  {
   "cell_type": "code",
   "execution_count": 27,
   "id": "680e40b3-c8c1-4bca-acf1-6da9035196ec",
   "metadata": {},
   "outputs": [
    {
     "data": {
      "text/plain": [
       "'saiprethi chirumamilla'"
      ]
     },
     "execution_count": 27,
     "metadata": {},
     "output_type": "execute_result"
    }
   ],
   "source": [
    "str2='saiprithi chirumamilla'\n",
    "s1=str2[0:4] #'saipr'\n",
    "s2=str2[4:] #'ithi' #'chirumamilla'\n",
    "s4=s2.replace('i','e',1)\n",
    "s1+s4\n"
   ]
  },
  {
   "cell_type": "markdown",
   "id": "f243fe84-815e-4276-b580-fec26631eaad",
   "metadata": {},
   "source": [
    "**index**"
   ]
  },
  {
   "cell_type": "code",
   "execution_count": 35,
   "id": "5c286fd7-a75d-447a-ba86-2514d8405a93",
   "metadata": {},
   "outputs": [
    {
     "name": "stdout",
     "output_type": "stream",
     "text": [
      "2 5 8 12 18\n"
     ]
    }
   ],
   "source": [
    "str2='saiprithi chirumamilla'\n",
    "i1=str2.index('i')\n",
    "i2=str2.index('i',i1+1)\n",
    "i3=str2.index('i',i2+1)\n",
    "i4=str2.index('i',i3+1)\n",
    "i5=str2.index('i',i4+1)\n",
    "print(i1,i2,i3,i4,i5)"
   ]
  },
  {
   "cell_type": "markdown",
   "id": "f742dd3b-809d-4aa5-ae9c-2fc836e2e015",
   "metadata": {},
   "source": [
    "**find**"
   ]
  },
  {
   "cell_type": "code",
   "execution_count": 38,
   "id": "369f0ece-1a4a-4574-bdbe-44e516a37a84",
   "metadata": {},
   "outputs": [
    {
     "data": {
      "text/plain": [
       "2"
      ]
     },
     "execution_count": 38,
     "metadata": {},
     "output_type": "execute_result"
    }
   ],
   "source": [
    "str2='saiprithi chirumamilla'\n",
    "str2.find('i')"
   ]
  },
  {
   "cell_type": "code",
   "execution_count": 39,
   "id": "6ef376a6-bc40-4888-a286-86f66c1dd71f",
   "metadata": {},
   "outputs": [
    {
     "data": {
      "text/plain": [
       "-1"
      ]
     },
     "execution_count": 39,
     "metadata": {},
     "output_type": "execute_result"
    }
   ],
   "source": [
    "str2='saiprithi chirumamilla'\n",
    "str2.find('i',22)"
   ]
  },
  {
   "cell_type": "code",
   "execution_count": null,
   "id": "23911e0c-e1d5-4cc7-bcad-93d0f192678e",
   "metadata": {},
   "outputs": [],
   "source": []
  }
 ],
 "metadata": {
  "kernelspec": {
   "display_name": "Python 3 (ipykernel)",
   "language": "python",
   "name": "python3"
  },
  "language_info": {
   "codemirror_mode": {
    "name": "ipython",
    "version": 3
   },
   "file_extension": ".py",
   "mimetype": "text/x-python",
   "name": "python",
   "nbconvert_exporter": "python",
   "pygments_lexer": "ipython3",
   "version": "3.12.7"
  }
 },
 "nbformat": 4,
 "nbformat_minor": 5
}
