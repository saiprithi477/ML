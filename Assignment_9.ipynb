{
 "cells": [
  {
   "cell_type": "code",
   "execution_count": 3,
   "id": "7f839e7e-6d51-4122-8638-d037e372de5a",
   "metadata": {},
   "outputs": [
    {
     "name": "stdout",
     "output_type": "stream",
     "text": [
      "the squar root of 1 is 1\n",
      "the squar root of 2 is 4\n",
      "the squar root of 3 is 9\n",
      "the squar root of 4 is 16\n",
      "the squar root of 5 is 25\n",
      "the squar root of 6 is 36\n"
     ]
    }
   ],
   "source": [
    "#Q1) wap ask the user print the square first 5 number\n",
    "# square of 1 is 1\n",
    "# square of 2 is 4\n",
    "# so on\n",
    "i=1\n",
    "while i<=6:\n",
    "    #num=eval(input('enter the number'))\n",
    "    print(f'the squar root of {i} is {i*i}')\n",
    "    i+=1\n",
    "    \n",
    "    \n",
    "        \n",
    "            "
   ]
  },
  {
   "cell_type": "code",
   "execution_count": 1,
   "id": "6220ecaf-e0cd-441a-91d5-2f18f800c050",
   "metadata": {},
   "outputs": [
    {
     "name": "stdout",
     "output_type": "stream",
     "text": [
      "7x1=7\n",
      "7x2=14\n",
      "7x3=21\n",
      "7x4=28\n",
      "7x5=35\n",
      "7x6=42\n",
      "7x7=49\n",
      "7x8=56\n",
      "7x9=63\n",
      "7x10=70\n",
      "7x11=77\n"
     ]
    }
   ],
   "source": [
    "#Q2) print the 7th table              (only equal to)\n",
    "# 7*1=7\n",
    "# 7*2=14\n",
    "i=1\n",
    "while i <=11:\n",
    "    num=7\n",
    "    print(f\"{num}x{i}={num*i}\")\n",
    "    i+=1"
   ]
  },
  {
   "cell_type": "code",
   "execution_count": 16,
   "id": "c01fb34f-27e0-41bf-890e-0f2a3a30fb12",
   "metadata": {},
   "outputs": [
    {
     "name": "stdout",
     "output_type": "stream",
     "text": [
      "1 is a number of divisor:75\n",
      "3 is a number of divisor:75\n",
      "5 is a number of divisor:75\n",
      "15 is a number of divisor:75\n",
      "25 is a number of divisor:75\n",
      "75 is a number of divisor:75\n"
     ]
    }
   ],
   "source": [
    "#Q3) find number of divisors of 75\n",
    "# if you divide 75 with any number the reminder\n",
    "# 75%1==0\n",
    "# 75%2==0\n",
    "i=1\n",
    "num=75\n",
    "while i<=num:\n",
    "    if num%i==0:\n",
    "        print(f\"{i} is a number of divisor:{num}\")\n",
    "    i=i+1\n"
   ]
  },
  {
   "cell_type": "code",
   "execution_count": 5,
   "id": "a4b971a9-bd25-4e57-a175-ed0625d7a033",
   "metadata": {},
   "outputs": [
    {
     "name": "stdout",
     "output_type": "stream",
     "text": [
      "the natural numbers of 55\n"
     ]
    }
   ],
   "source": [
    "# Q4) sum of first 10 natural numbers\n",
    "# natural: starts from 1 \n",
    "# 1+2+3+4+5+6+7+8+9+10=55\n",
    "# n(n+1)/2\n",
    "# 0+1=1\n",
    "#1+2=2\n",
    "\n",
    "i=1\n",
    "num=10\n",
    "summ=0\n",
    "while i<=num:\n",
    "    summ+=i\n",
    "    i=i+1\n",
    "print(f'the natural numbers of {summ}')        \n",
    "    "
   ]
  },
  {
   "cell_type": "code",
   "execution_count": 1,
   "id": "30147be1-3cfa-4cc4-97e7-cc0f3f36ca79",
   "metadata": {},
   "outputs": [
    {
     "name": "stdout",
     "output_type": "stream",
     "text": [
      "summ is 124\n"
     ]
    }
   ],
   "source": [
    "# Q5) find the sum of divisors of 75\n",
    "# 75: 1,3,5,15,25,75\n",
    "#   1+3+5+15+25+75\n",
    "summ=0\n",
    "num=75\n",
    "i=1\n",
    "while i<=num:\n",
    "    if num%i==0:\n",
    "        summ=summ+i\n",
    "    i=i+1\n",
    "print('summ is',summ )"
   ]
  },
  {
   "cell_type": "code",
   "execution_count": 4,
   "id": "74719373-9b20-4854-a4e0-18cbfcebd540",
   "metadata": {},
   "outputs": [
    {
     "name": "stdout",
     "output_type": "stream",
     "text": [
      "count is: 6\n"
     ]
    }
   ],
   "source": [
    "# Q6) find the sum of divisors of 75\n",
    "count=0\n",
    "num=75\n",
    "i=1\n",
    "while i<=num:\n",
    "    if num%i==0:\n",
    "        count=count+1\n",
    "    i=i+1\n",
    "print('count is:',count)"
   ]
  },
  {
   "cell_type": "code",
   "execution_count": 5,
   "id": "9e2af15f-1235-4bb6-b27a-48684810a9ee",
   "metadata": {},
   "outputs": [
    {
     "name": "stdout",
     "output_type": "stream",
     "text": [
      "8 is an even\n",
      "96 is an even\n",
      "5 is an odd\n",
      "68 is an even\n",
      "87 is an odd\n",
      "3\n",
      "172\n",
      "2\n",
      "92\n"
     ]
    }
   ],
   "source": [
    "# Q7)\n",
    "\n",
    "# ask the get 5 random numbers\n",
    "# means you need a get a random number inside for loop\n",
    "# the loop should run 5 times\n",
    "# now perform the even and odd opeation\n",
    "# 1) even count #2) sum of even numbers 3) odd count 4) sum of add numbers\n",
    "import random\n",
    "even_count=0\n",
    "odd_count=0\n",
    "summ_even=0\n",
    "summ_odd=0\n",
    "i=1\n",
    "while i <= 5:\n",
    "    num=random.randint(1,100)\n",
    "    if num%2==0:\n",
    "        print(f\"{num} is an even\")\n",
    "        even_count=even_count+1\n",
    "        summ_even=summ_even+num\n",
    "    else:\n",
    "        print(f\"{num} is an odd\")\n",
    "        odd_count=odd_count+1\n",
    "        summ_odd=summ_odd+num\n",
    "    i=i+1    \n",
    "print( even_count)\n",
    "print(summ_even)\n",
    "print(odd_count)\n",
    "print(summ_odd)"
   ]
  },
  {
   "cell_type": "code",
   "execution_count": 7,
   "id": "99324e62-a5c8-44f3-838b-fafb4527e8a0",
   "metadata": {},
   "outputs": [
    {
     "name": "stdin",
     "output_type": "stream",
     "text": [
      "enter the num 6\n"
     ]
    },
    {
     "name": "stdout",
     "output_type": "stream",
     "text": [
      "better the next time\n"
     ]
    },
    {
     "name": "stdin",
     "output_type": "stream",
     "text": [
      "enter the num 8\n"
     ]
    },
    {
     "name": "stdout",
     "output_type": "stream",
     "text": [
      "better the next time\n"
     ]
    },
    {
     "name": "stdin",
     "output_type": "stream",
     "text": [
      "enter the num 8\n"
     ]
    },
    {
     "name": "stdout",
     "output_type": "stream",
     "text": [
      "you won\n"
     ]
    }
   ],
   "source": [
    "# Q8) Game program\n",
    "# user enter one num\n",
    "# another number will generate randomly\n",
    "# if both numbers are equal then you won\n",
    "# otherwise you lost\n",
    "# i want to give 3 chances\n",
    "\n",
    "# while loop\n",
    "#   num1=random\n",
    "#   num2= user keybaord\n",
    "#   if num1==num2\n",
    "#     print won\n",
    "#  else\n",
    "#    print fail\n",
    "\n",
    "i=1\n",
    "while i <=3 :\n",
    "    n1=random.randint(1,10)\n",
    "    n2=eval(input('enter the num'))\n",
    "    if n1==n2:\n",
    "        print('you won')\n",
    "        break\n",
    "    else:\n",
    "        print('better the next time')\n",
    "    i=i+1\n"
   ]
  },
  {
   "cell_type": "code",
   "execution_count": null,
   "id": "232a4d27-8ea3-41cb-9c4f-9ff2705fe0d1",
   "metadata": {},
   "outputs": [],
   "source": []
  }
 ],
 "metadata": {
  "kernelspec": {
   "display_name": "Python 3 (ipykernel)",
   "language": "python",
   "name": "python3"
  },
  "language_info": {
   "codemirror_mode": {
    "name": "ipython",
    "version": 3
   },
   "file_extension": ".py",
   "mimetype": "text/x-python",
   "name": "python",
   "nbconvert_exporter": "python",
   "pygments_lexer": "ipython3",
   "version": "3.12.7"
  }
 },
 "nbformat": 4,
 "nbformat_minor": 5
}
