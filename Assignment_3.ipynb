{
 "cells": [
  {
   "cell_type": "code",
   "execution_count": null,
   "id": "9a4e741a-129e-4218-8654-8344a6d43232",
   "metadata": {},
   "outputs": [],
   "source": [
    "1.Take all numbers using random package randint method between 1 to 100\n",
    "2. use math.ceil for round off the values\n",
    "3. while printing multiple statemennts add time.sleep wherever required\n",
    "\n",
    "\n",
    "\n",
    "\n",
    "# 1)wap ask the user enter 3 random numbers n1,n2,n3 from ketboard\n",
    "# calculate average\n",
    "\n",
    "# 2)wap ask the user enter name \n",
    "#      random age  and  city using input\n",
    "# print my name is python im 10 years old and came from hyd\n",
    "\n",
    "# 3)wap ask the user to enter random radidus of a circle calculate area of the circle\n",
    "# var: radidus  var: pi=3.14\n",
    "# formuale: pi*radius*radius\n",
    "# print the answers using f string and format\n",
    "\n",
    "# 4)wap ask the user enter random breadth and height of a right angle triangle\n",
    "# calculate the area\n",
    "# var1: bredath  var2: height\n",
    "# formuale : 0.5*breadth*heigh\n",
    "\n",
    "# 5)wap ask the user the random bill amount and tip amount\n",
    "#   calculate total bill\n",
    "#   var1: bill amount var2: tip amount\n",
    "#   formuale\n",
    "\n",
    "# 6)wap ask the user the random bill amount and tip percentage\n",
    "#    take tip percentage as 10\n",
    "#   calculate total bill= bill amount+ bill amount*tip per/100\n",
    "#   var1: bill amount var2: tip amount\n",
    "#    formuale\n",
    "\n",
    "# 7)wap ask the random length and breadth of a rectangle calculate area\n",
    "#   var1: length  var2: breadth\n",
    "#   formulae: length * breadth\n",
    "\n",
    "# 8) wap ask the user take the random radius and calculate volume of sphere\n",
    "#   formulae: pi*r**3(pi*r*r*r)\n",
    "\n",
    "# 9) wap ask the user enter random  amount in dollars convert into rupees\n",
    "#     1$=85rs\n",
    "\n",
    "# 10)wap ask the user enter random weight in kgs convert into pounds\n",
    "#    1kg= 2.2pounds"
   ]
  },
  {
   "cell_type": "code",
   "execution_count": 2,
   "id": "a81cc031-5459-490a-a785-219515cc0851",
   "metadata": {},
   "outputs": [
    {
     "name": "stdout",
     "output_type": "stream",
     "text": [
      "the average of 4,5 and 9 is:6\n"
     ]
    }
   ],
   "source": [
    "# 1)wap ask the user enter 3 random numbers n1,n2,n3 from ketboard\n",
    "# calculate average\n",
    "\n",
    "import random\n",
    "import math\n",
    "n1=random.randint(1,5)\n",
    "n2=random.randint(5,6)\n",
    "n3=random.randint(8,9)\n",
    "avg=(n1+n2+n3)/3\n",
    "avg1=math.ceil(avg)\n",
    "print(f\"the average of {n1},{n2} and {n3} is:{avg1}\")"
   ]
  },
  {
   "cell_type": "code",
   "execution_count": 12,
   "id": "fa856e5b-8218-46d9-ac37-ca25f8c215dc",
   "metadata": {},
   "outputs": [
    {
     "name": "stdout",
     "output_type": "stream",
     "text": [
      "my name is chirumamilla, im 25 years old and came from vij\n"
     ]
    }
   ],
   "source": [
    "# 2)wap ask the user enter name \n",
    "#      random age  and  city using input\n",
    "# print my name is python im 10 years old and came from hyd\n",
    "import random\n",
    "d=('sai','prithi','chirumamilla')\n",
    "e=(23,13,25)\n",
    "f=('nandigama','vij','hyd')\n",
    "name=random.choice(d)\n",
    "age=random.choice(e)\n",
    "city=random.choice(f)\n",
    "print(f\"my name is {name}, im {age} years old and came from {city}\")"
   ]
  },
  {
   "cell_type": "code",
   "execution_count": 3,
   "id": "3c289126-e667-49e0-b428-9a146b9c6f9b",
   "metadata": {},
   "outputs": [
    {
     "name": "stdout",
     "output_type": "stream",
     "text": [
      " area of circleis 4536.459791783661\n"
     ]
    }
   ],
   "source": [
    "# 3)wap ask the user to enter random radidus of a circle calculate area of the circle\n",
    "# var: radidus  var: pi=3.14\n",
    "# formuale: pi*radius*radius\n",
    "# print the answers using f string and format\n",
    "\n",
    "import math\n",
    "import random\n",
    "v1=(12,38,78)\n",
    "radius=random.choice(v1)\n",
    "pi=math.pi\n",
    "area=pi*radius*radius\n",
    "print(f\" area of circleis {area}\")"
   ]
  },
  {
   "cell_type": "code",
   "execution_count": 19,
   "id": "5625db11-9c81-45c5-b377-6fc8789b531e",
   "metadata": {},
   "outputs": [
    {
     "name": "stdout",
     "output_type": "stream",
     "text": [
      "area of triangle 8.0\n"
     ]
    }
   ],
   "source": [
    "\n",
    "# 4)wap ask the user enter random breadth and height of a right angle triangle\n",
    "# calculate the area\n",
    "# var1: bredath  var2: height\n",
    "# formuale : 0.5*breadth*heigh\n",
    "\n",
    "\n",
    "num1=(2,3,5)\n",
    "num2=(7,8,9)\n",
    "b=random.choice(num1)\n",
    "h=random.choice(num2)\n",
    "a=0.5*b*h\n",
    "print(f\"area of triangle {a}\")"
   ]
  },
  {
   "cell_type": "code",
   "execution_count": 21,
   "id": "0dda8c9f-3cd7-408b-ae70-06851f97f003",
   "metadata": {},
   "outputs": [
    {
     "name": "stdout",
     "output_type": "stream",
     "text": [
      "total amoun is 250\n"
     ]
    }
   ],
   "source": [
    "\n",
    "# 5)wap ask the user the random bill amount and tip amount\n",
    "#   calculate total bill\n",
    "#   var1: bill amount var2: tip amount\n",
    "#   formuale\n",
    "\n",
    "\n",
    "bill=(200,300,400)\n",
    "tip=(50,100,150)\n",
    "bill_amount=random.choice(bill)\n",
    "tip_amount=random.choice(tip)\n",
    "total=bill_amount+tip_amount\n",
    "print(f\"total amoun is {total}\")"
   ]
  },
  {
   "cell_type": "code",
   "execution_count": 37,
   "id": "b4c6ba43-8353-4086-a180-59228e53b99a",
   "metadata": {},
   "outputs": [
    {
     "name": "stdout",
     "output_type": "stream",
     "text": [
      " the bill amount is 400 and tip is 20, hence percentage of total bill amount is 480.0\n",
      "the  bill_amountis 400 and tip_amount is 20total bill amount is480.0\n"
     ]
    }
   ],
   "source": [
    "\n",
    "# 6)wap ask the user the random bill amount and tip percentage\n",
    "#    take tip percentage as 10\n",
    "#   calculate total bill= bill amount+ bill amount*tip per/100\n",
    "#   var1: bill amount var2: tip amount\n",
    "#    formuale\n",
    "\n",
    "import math\n",
    "bill=(200,300,400)\n",
    "tip_percentage=(10,20,30)    #\n",
    "\n",
    "bill_amount=random.choice(bill)\n",
    "tip_amount=random.choice(tip_percentage)    \n",
    "\n",
    "total=bill_amount+(bill_amount*tip_amount/100)\n",
    "print(f\" the bill amount is {bill_amount} and tip is {tip_amount}, hence percentage of total bill amount is {total}\")\n",
    "print(\"the  bill_amountis {} and tip_amount is {}total bill amount is{}\".format(bill_amount,tip_amount,total))\n"
   ]
  },
  {
   "cell_type": "code",
   "execution_count": 42,
   "id": "66c40515-dfd8-4ea3-9a21-c0b7a5c99aff",
   "metadata": {},
   "outputs": [
    {
     "name": "stdout",
     "output_type": "stream",
     "text": [
      "area of rectangle 47\n",
      "the length is 13 and breadth is 34 the area of rectangle is 47\n"
     ]
    }
   ],
   "source": [
    "# 7)wap ask the random length and breadth of a rectangle calculate area\n",
    "#   var1: length  var2: breadth\n",
    "#   formulae: length * breadth\n",
    "\n",
    "v1=(12,13,14)\n",
    "v2=(23,34,45)\n",
    "\n",
    "length=random.choice(v1)\n",
    "breadth=random.choice(v2)\n",
    "\n",
    "area=length+breadth\n",
    "print(f\"area of rectangle {area}\")\n",
    "print(\"the length is {} and breadth is {} the area of rectangle is {}\".format(length,breadth,area))"
   ]
  },
  {
   "cell_type": "code",
   "execution_count": 3,
   "id": "6cfeb9e0-2336-40fb-b5ce-5c642745124b",
   "metadata": {},
   "outputs": [
    {
     "name": "stdout",
     "output_type": "stream",
     "text": [
      "volume of sphere is 38223.757816227015\n"
     ]
    },
    {
     "data": {
      "text/plain": [
       "38224"
      ]
     },
     "execution_count": 3,
     "metadata": {},
     "output_type": "execute_result"
    }
   ],
   "source": [
    "# 8) wap ask the user take the random radius and calculate volume of sphere\n",
    "#   formulae: pi*r**3(pi*r*r*r)\n",
    "import random\n",
    "import math\n",
    "r1=(12,23,45)\n",
    "r1=random.choice(r1)\n",
    "pi=math.pi\n",
    "sphere=pi*r1*r1*r1\n",
    "print(f\"volume of sphere is {sphere}\")\n",
    "math.ceil(sphere)\n"
   ]
  },
  {
   "cell_type": "code",
   "execution_count": 58,
   "id": "18046721-515d-47f9-a685-68c74891b6fb",
   "metadata": {},
   "outputs": [
    {
     "name": "stdout",
     "output_type": "stream",
     "text": [
      " amount in dollars convert to rupees 3825\n",
      "amount in dollars is45 to convert rupees3825\n"
     ]
    }
   ],
   "source": [
    "# 9) wap ask the user enter random  amount in dollars convert into rupees\n",
    "#     1$=85rs\n",
    "\n",
    "D1=(23,45,67)\n",
    "amount_in_dollars=random.choice(D1)\n",
    "conversion_rate=85\n",
    "amount_in_rupees=amount_in_dollars*conversion_rate\n",
    "print(f\" amount in dollars convert to rupees {amount_in_rupees}\")\n",
    "print(\"amount in dollars is{} to convert rupees{}\".format(amount_in_dollars,amount_in_rupees))\n"
   ]
  },
  {
   "cell_type": "code",
   "execution_count": 61,
   "id": "20f5c637-0e27-4910-9972-356fe2feeae5",
   "metadata": {},
   "outputs": [
    {
     "name": "stdout",
     "output_type": "stream",
     "text": [
      " weight in kgs conver into pounds 66.0\n",
      "weight_in_kgs 30 to convert pounds 66.0\n"
     ]
    }
   ],
   "source": [
    "#10)wap ask the user enter random weight in kgs convert into pounds\n",
    "#    1kg= 2.2pounds# \n",
    "\n",
    "weight=(20,30,40)\n",
    "weight_in_kgs=random.choice(weight)\n",
    "weight_pounds=weight_in_kgs*2.2\n",
    "print(f\" weight in kgs conver into pounds {weight_pounds}\")\n",
    "print(\"weight_in_kgs {} to convert pounds {}\".format(weight_in_kgs,weight_pounds))"
   ]
  },
  {
   "cell_type": "code",
   "execution_count": null,
   "id": "18a8da92-0b5d-4bb1-8880-4dbefef87975",
   "metadata": {},
   "outputs": [
    {
     "name": "stdin",
     "output_type": "stream",
     "text": [
      " hi papa son\n",
      " hi beta father\n",
      "im going to school son\n",
      "okay beta, i heared your results came out fatre\n"
     ]
    }
   ],
   "source": [
    "# story between papa and son\n",
    "\n",
    "# son: hi papa\n",
    "# fa : hi beta\n",
    "# son: im going to school\n",
    "# fa: okay beta, i heared your results came out\n",
    "# son: yes papa\n",
    "# fa: then what about the result\n",
    "# son: lets play a game i will give the marks you tell me the perce\n",
    "# fa: exited\n",
    "# Telugu= random\n",
    "# hindi\n",
    "# eng\n",
    "# maths\n",
    "# sci\n",
    "# soc\n",
    "# avg\n",
    "# display the avg\n",
    "import random\n",
    "import math\n",
    "import time\n",
    "son:input(\" hi papa\")                     #print(\"son:hi papa\")\n",
    "fa:input(\" hi beta\")                      #time.sleep(2)\n",
    "son:input(\"im going to school\")\n",
    "fa:input(\"okay beta, i heared your results came out\")\n",
    "son:input(\"yes papa\")\n",
    "fa:input(\" then what about the result\")\n",
    "son:input(\"lets play a game i will give the marks you tell me the perce\")\n",
    "fa:input(\"exited\")\n",
    "t1=random.randint(68,78)\n",
    "print(\"telugu\",t1)\n",
    "t2=random.randint(45,67)\n",
    "print(\"hindi\",t2)\n",
    "t3=random.randint(67,68)\n",
    "print(\"english\",t3)\n",
    "t4=random.randint(47,67)\n",
    "print(\"social\",t4)\n",
    "t5=random.randint(34,52)\n",
    "print\n",
    "t6=random.randint(67,68)\n",
    "avg=(t1+t2+t3+t4+t5+t6)/6\n",
    "avg1=math.ceil(avg)\n",
    "\n",
    "print(f\" the total subjects is {t1},{t2},{t3},{t4},{t5},{t6} and the avg is:{avg1}\")\n",
    "percentage=avg/600\n",
    "print(percentage)"
   ]
  },
  {
   "cell_type": "code",
   "execution_count": null,
   "id": "96435d7e-63c1-4d0c-92d0-3ece08ff85be",
   "metadata": {},
   "outputs": [],
   "source": []
  }
 ],
 "metadata": {
  "kernelspec": {
   "display_name": "Python 3 (ipykernel)",
   "language": "python",
   "name": "python3"
  },
  "language_info": {
   "codemirror_mode": {
    "name": "ipython",
    "version": 3
   },
   "file_extension": ".py",
   "mimetype": "text/x-python",
   "name": "python",
   "nbconvert_exporter": "python",
   "pygments_lexer": "ipython3",
   "version": "3.12.7"
  }
 },
 "nbformat": 4,
 "nbformat_minor": 5
}
