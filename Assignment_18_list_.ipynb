{
 "cells": [
  {
   "cell_type": "code",
   "execution_count": 20,
   "id": "845f048c-722a-4906-9f09-38448e1e34fb",
   "metadata": {},
   "outputs": [
    {
     "name": "stdout",
     "output_type": "stream",
     "text": [
      "total number of items: 5\n",
      "the last item in the last: 50\n",
      "the list in reverse order: [50, 40, 30, 20, 10]\n",
      "No\n",
      "the number of fives in the list: 0\n",
      "modified sorted list: [20, 30, 40]\n",
      "count less then five: 0\n"
     ]
    }
   ],
   "source": [
    "#1. List Operations with User Input\n",
    "#Write a program that asks the user to enter a list of integers. Perform the following tasks:\n",
    "#(a) Print the total number of items in the list.\n",
    "#(b) Print the last item in the list.\n",
    "#(c) Print the list in reverse order.\n",
    "#(d) Print \"Yes\" if the list contains a 5 and \"No\" otherwise.\n",
    "#(e) Print the number of fives in the list.\n",
    "#(f) Remove the first and last items from the list, sort the remaining items, and print the result.\n",
    "#(g) Print how many integers in the list are less than 5.\n",
    "\n",
    "\n",
    "numbers=[10,20,30,40,50]\n",
    "#(a)\n",
    "print(\"total number of items:\",len(numbers))\n",
    "#(b)\n",
    "if numbers:\n",
    "    print(\"the last item in the list:\",numbers[-1])\n",
    "else:\n",
    "    print(\"the list is empty:\") \n",
    "#(c)\n",
    "print('the list in reverse order:',numbers[::-1])\n",
    "#(d)\n",
    "if 5 in numbers:\n",
    "    print('yes')\n",
    "else:\n",
    "    print('No')\n",
    "#(e)\n",
    "print('the number of fives in the list:',numbers.count(5))\n",
    "\n",
    "#(f)\n",
    "if len(numbers)>2:\n",
    "    modified_list=sorted(numbers[1:-1])\n",
    "    print('modified sorted list:',modified_list)\n",
    "else:\n",
    "    print('not enough elements to perform')\n",
    "#(g)\n",
    "count_lessthen_five=sum(1 for num in numbers if num < 5 )\n",
    "print('count less then five:',count_lessthen_five)"
   ]
  },
  {
   "cell_type": "code",
   "execution_count": 28,
   "id": "9db8e676-27f8-4d97-aada-6f714a5da431",
   "metadata": {},
   "outputs": [
    {
     "name": "stdout",
     "output_type": "stream",
     "text": [
      "[12, 43, 3, 26, 15, 28, 82, 14, 50, 28, 63, 38, 44, 68, 90, 54, 77, 14, 25, 61]\n",
      "the average of the elements in the list: 41.75\n",
      "the largest value in list: 90\n",
      "the smallest value in list: 3\n",
      "second largest in the list: 82\n",
      "second smallest in the list: 12\n",
      "count of even numbers: 13\n"
     ]
    }
   ],
   "source": [
    "#2. Random Number List Analysis\n",
    "#Write a program that generates a list of 20 random numbers between 1 and 100. Perform the\n",
    "#following tasks:\n",
    "#(a) Print the list.\n",
    "#(b) Print the average of the elements in the list.\n",
    "#(c) Print the largest and smallest values in the list.\n",
    "#(d) Print the second largest and second smallest entries in the list.\n",
    "#(e) Print how many even numbers are in the list.\n",
    "\n",
    "import random\n",
    "list=[random.randint(1,100) for num in range(20)]\n",
    "#(a)\n",
    "print(list)\n",
    "#(b)\n",
    "avg=sum(list)/len(list)\n",
    "print('the average of the elements in the list:',avg)\n",
    "#(c)\n",
    "largest=max(list)\n",
    "smallest=min(list)\n",
    "print('the largest value in list:',largest)\n",
    "print('the smallest value in list:',smallest)\n",
    "#(d)\n",
    "sorted_list=sorted(set(list))\n",
    "if len(sorted_list)>1:\n",
    "    second_largest=sorted_list[-2]\n",
    "    second_smallest=sorted_list[1]\n",
    "print('second largest in the list:',second_largest)\n",
    "print('second smallest in the list:',second_smallest)\n",
    "#(e)\n",
    "even_count=sum(1 for num in list if num%2==0)\n",
    "print('count of even numbers:',even_count)"
   ]
  },
  {
   "cell_type": "code",
   "execution_count": 6,
   "id": "de0f13be-8e75-462c-9073-ad40bc1aad26",
   "metadata": {},
   "outputs": [
    {
     "name": "stdout",
     "output_type": "stream",
     "text": [
      "[8, 17, 10]\n",
      "[17, 10, 4, 5, 6]\n",
      "[4, 5, 6, 10, 17]\n",
      "[4, 5, 6, 10, 17, 4, 5, 6, 10, 17]\n",
      "the final list: [4, 5, 6, 25, 10, 17, 4, 5, 6, 10, 17]\n"
     ]
    }
   ],
   "source": [
    "#3. Modify and Transform a Predefined List\n",
    "#Start with the list [8, 9, 10]. Perform the following tasks:\n",
    "#(a) Set the second entry (index 1) to 17.\n",
    "#(b) Add 4, 5, and 6 to the end of the list.\n",
    "#(c) Remove the first entry from the list.\n",
    "#(d) Sort the list.\n",
    "#(e) Double the list.\n",
    "#(f) Insert 25 at index 3.\n",
    "#The final list should equal [4, 5, 6, 25, 10, 17, 4, 5, 6, 10, 17].\n",
    "list=[8,9,10]\n",
    "#(a)\n",
    "list[1]=17\n",
    "print(list)\n",
    "#(b)\n",
    "list.extend([4,5,6])\n",
    "list\n",
    "#(c)\n",
    "del list[0]\n",
    "print(list)\n",
    "#(d)\n",
    "list.sort()\n",
    "print(list)\n",
    "#(e)\n",
    "list *=2\n",
    "print(list)\n",
    "#(f)\n",
    "list.insert(3,25)\n",
    "print('the final list:',list)"
   ]
  },
  {
   "cell_type": "code",
   "execution_count": 1,
   "id": "262beeda-db10-4efb-b352-51bced31b01d",
   "metadata": {},
   "outputs": [
    {
     "name": "stdin",
     "output_type": "stream",
     "text": [
      "enter the list of numbers b/w 1 and 12 separated by spaceces: 1 2 3 4 5 6 7 8 9 10 11\n"
     ]
    },
    {
     "name": "stdout",
     "output_type": "stream",
     "text": [
      "modified list: [1, 2, 3, 4, 5, 6, 7, 8, 9, 10, 10]\n"
     ]
    }
   ],
   "source": [
    "#4. Replace Numbers Greater than 10\n",
    "#Ask the user to enter a list containing numbers between 1 and 12. Replace all entries in the list that\n",
    "#are greater than 10 with 10.\n",
    "user_input=input('enter the list of numbers b/w 1 and 12 separated by spaceces:')\n",
    "list=list(map(int,user_input.split()))\n",
    "list=[10 if num > 10 else num for num in list]\n",
    "print('modified list:',list)"
   ]
  },
  {
   "cell_type": "code",
   "execution_count": 3,
   "id": "ed4ead97-e944-4825-8ab9-daa4db33291a",
   "metadata": {},
   "outputs": [
    {
     "name": "stdin",
     "output_type": "stream",
     "text": [
      "enetr a list of strings saperated by spaceces: sai prithi chirumamilla\n"
     ]
    },
    {
     "name": "stdout",
     "output_type": "stream",
     "text": [
      "modified list: ['ai', 'rithi', 'hirumamilla']\n"
     ]
    }
   ],
   "source": [
    "#5. Modify Strings in a List\n",
    "#Ask the user to enter a list of strings. Create a new list that consists of those strings with their first\n",
    "#characters removed.\n",
    "\n",
    "user_input=input('enetr a list of strings saperated by spaceces:')\n",
    "strings=user_input.split()\n",
    "modified_string=[s[1:] if len(s)>0 else '' for s in strings]\n",
    "print('modified list:',modified_string)"
   ]
  },
  {
   "cell_type": "code",
   "execution_count": 6,
   "id": "d8044f9d-4fec-4cb4-ad33-09ad69d7388e",
   "metadata": {},
   "outputs": [
    {
     "name": "stdout",
     "output_type": "stream",
     "text": [
      "the list: [0, 1, 2, 3, 4, 5, 6, 7, 8, 9, 10, 11, 12, 13, 14, 15, 16, 17, 18, 19, 20, 21, 22, 23, 24, 25, 26, 27, 28, 29, 30, 31, 32, 33, 34, 35, 36, 37, 38, 39, 40, 41, 42, 43, 44, 45, 46, 47, 48, 49]\n",
      "the squares of the integers: [1, 4, 9, 16, 25, 36, 49, 64, 81, 100, 121, 144, 169, 196, 225, 256, 289, 324, 361, 400, 441, 484, 529, 576, 625, 676, 729, 784, 841, 900, 961, 1024, 1089, 1156, 1225, 1296, 1369, 1444, 1521, 1600, 1681, 1764, 1849, 1936, 2025, 2116, 2209, 2304, 2401, 2500]\n",
      "the list: ['a', 'bb', 'ccc', 'dddd', 'eeeee', 'ffffff', 'ggggggg', 'hhhhhhhh', 'iiiiiiiii', 'jjjjjjjjjj', 'kkkkkkkkkkk', 'llllllllllll', 'mmmmmmmmmmmmm', 'nnnnnnnnnnnnnn', 'ooooooooooooooo', 'pppppppppppppppp', 'qqqqqqqqqqqqqqqqq', 'rrrrrrrrrrrrrrrrrr', 'sssssssssssssssssss', 'tttttttttttttttttttt', 'uuuuuuuuuuuuuuuuuuuuu', 'vvvvvvvvvvvvvvvvvvvvvv', 'wwwwwwwwwwwwwwwwwwwwwww', 'xxxxxxxxxxxxxxxxxxxxxxxx', 'yyyyyyyyyyyyyyyyyyyyyyyyy', 'zzzzzzzzzzzzzzzzzzzzzzzzzz']\n"
     ]
    }
   ],
   "source": [
    "#6. Create Lists Using Loops\n",
    "#Using a for loop, create the following lists:\n",
    "#(a) A list consisting of the integers 0 through 49.\n",
    "#(b) A list containing the squares of the integers 1 through 50.\n",
    "#(c) The list ['a', 'bb', 'ccc', 'dddd', ...] that ends with 26 copies of the letter z.\n",
    "\n",
    "#(a)\n",
    "list_a=[i for i in range(50)]\n",
    "print('the list:',list_a)\n",
    "#(b)\n",
    "list_b=[i**2 for i in range(1,51)]\n",
    "print('the squares of the integers:',list_b)\n",
    "#(c)\n",
    "list_c=[chr(97+i)*(i+1) for i in range(26)]\n",
    "print('the list:',list_c)"
   ]
  },
  {
   "cell_type": "code",
   "execution_count": 31,
   "id": "1a57b38a-b57b-47f8-8a00-b2a23e2eeb21",
   "metadata": {},
   "outputs": [
    {
     "name": "stdout",
     "output_type": "stream",
     "text": [
      "[4, 6, 13]\n"
     ]
    }
   ],
   "source": [
    "#7. Element-wise Sum of Two Lists\n",
    "#Write a program that takes any two lists L and M of the same size and adds their elements together\n",
    "#to form a new list N whose elements are the sums of the corresponding elements in L and M.\n",
    "#For instance, if L = [3, 1, 4] and M = [1, 5, 9], then N should equal [4, 6, 13].\n",
    "L = [3, 1, 4]\n",
    "M = [1, 5, 9]\n",
    "if len(L) !=len(M):\n",
    "    print('error:lists must be of same size')\n",
    "else:\n",
    "    N=[L[i]+M[i] for i in range(len(L))]\n",
    "print(N)"
   ]
  },
  {
   "cell_type": "code",
   "execution_count": 2,
   "id": "0e49f8d0-1942-4ec0-a9d4-58a19718c1e1",
   "metadata": {},
   "outputs": [
    {
     "name": "stdin",
     "output_type": "stream",
     "text": [
      "enetr a integer: 36\n"
     ]
    },
    {
     "name": "stdout",
     "output_type": "stream",
     "text": [
      "the factors of 36 are:\n",
      "1\n",
      "2\n",
      "3\n",
      "4\n",
      "6\n",
      "9\n",
      "12\n",
      "18\n",
      "36\n"
     ]
    }
   ],
   "source": [
    "#8. List of Factors\n",
    "#Write a program that asks the user for an integer and creates a list that consists of the factors of that\n",
    "#integer.\n",
    "num=int(input('enetr a integer:'))\n",
    "print('the factors of',num,'are:')\n",
    "for i in range(1,num+1):\n",
    "        if num % i==0:\n",
    "            print(i)"
   ]
  },
  {
   "cell_type": "code",
   "execution_count": 4,
   "id": "2a2697e0-be85-47a5-a913-6bfa9b734b4c",
   "metadata": {},
   "outputs": [
    {
     "name": "stdout",
     "output_type": "stream",
     "text": [
      "sum\tprobability(%)\n",
      "2 \t2.83%\n",
      "3 \t5.71%\n",
      "4 \t8.90%\n",
      "5 \t11.04%\n",
      "6 \t13.75%\n",
      "7 \t16.59%\n",
      "8 \t13.92%\n",
      "9 \t11.17%\n",
      "10 \t8.22%\n",
      "11 \t5.44%\n",
      "12 \t2.43%\n"
     ]
    }
   ],
   "source": [
    "#9. Dice Roll Probabilities\n",
    "#Write a program to simulate rolling two dice about 10,000 times and compute the percentage of\n",
    "#rolls that result in sums of 2, 3, 4, ..., 12.\n",
    "\n",
    "import random\n",
    "num_rolls=10000\n",
    "result={i:0 for i in range (2,13)}\n",
    "for i in range(num_rolls):\n",
    "    die1=random.randint(1,6)\n",
    "    die2=random.randint(1,6)\n",
    "    total=die1+die2\n",
    "    result[total]+=1\n",
    "print('sum\\tprobability(%)')\n",
    "for total in range(2,13):\n",
    "    probability=(result[total]/num_rolls)*100\n",
    "    print(f'{total} \\t{probability:.2f}%')"
   ]
  },
  {
   "cell_type": "code",
   "execution_count": 7,
   "id": "da7948d1-d84d-440f-81b6-3177d95b90f6",
   "metadata": {},
   "outputs": [
    {
     "name": "stdout",
     "output_type": "stream",
     "text": [
      "original list: [1, 2, 3, 4, 5]\n",
      "rotated list: [5, 1, 2, 3, 4]\n"
     ]
    }
   ],
   "source": [
    "#10. Rotate a List\n",
    "#Write a program that rotates the elements of a list so that the element at the first index moves to\n",
    "#the second index, the element in the second index moves to the third index, and the element in the\n",
    "#last index moves to the first index.\n",
    "\n",
    "l=[1,2,3,4,5]\n",
    "print('original list:',l)\n",
    "if l:\n",
    "    l.insert(0,l.pop())\n",
    "    print('rotated list:',l)"
   ]
  },
  {
   "cell_type": "code",
   "execution_count": 8,
   "id": "c70cb7da-eaa9-417d-8604-a03872c7ce9a",
   "metadata": {},
   "outputs": [
    {
     "name": "stdout",
     "output_type": "stream",
     "text": [
      "[1]\n",
      "[1, 1, 0]\n",
      "[1, 1, 0, 1, 0, 0]\n",
      "[1, 1, 0, 1, 0, 0, 1, 0, 0, 0]\n",
      "[1, 1, 0, 1, 0, 0, 1, 0, 0, 0, 1, 0, 0, 0, 0]\n",
      "[1, 1, 0, 1, 0, 0, 1, 0, 0, 0, 1, 0, 0, 0, 0, 1, 0, 0, 0, 0, 0]\n",
      "[1, 1, 0, 1, 0, 0, 1, 0, 0, 0, 1, 0, 0, 0, 0, 1, 0, 0, 0, 0, 0, 1, 0, 0, 0, 0, 0, 0]\n",
      "[1, 1, 0, 1, 0, 0, 1, 0, 0, 0, 1, 0, 0, 0, 0, 1, 0, 0, 0, 0, 0, 1, 0, 0, 0, 0, 0, 0, 1, 0, 0, 0, 0, 0, 0, 0]\n",
      "[1, 1, 0, 1, 0, 0, 1, 0, 0, 0, 1, 0, 0, 0, 0, 1, 0, 0, 0, 0, 0, 1, 0, 0, 0, 0, 0, 0, 1, 0, 0, 0, 0, 0, 0, 0, 1, 0, 0, 0, 0, 0, 0, 0, 0]\n",
      "[1, 1, 0, 1, 0, 0, 1, 0, 0, 0, 1, 0, 0, 0, 0, 1, 0, 0, 0, 0, 0, 1, 0, 0, 0, 0, 0, 0, 1, 0, 0, 0, 0, 0, 0, 0, 1, 0, 0, 0, 0, 0, 0, 0, 0, 1, 0, 0, 0, 0, 0, 0, 0, 0, 0]\n",
      "[1, 1, 0, 1, 0, 0, 1, 0, 0, 0, 1, 0, 0, 0, 0, 1, 0, 0, 0, 0, 0, 1, 0, 0, 0, 0, 0, 0, 1, 0, 0, 0, 0, 0, 0, 0, 1, 0, 0, 0, 0, 0, 0, 0, 0, 1, 0, 0, 0, 0, 0, 0, 0, 0, 0, 1, 0, 0, 0, 0, 0, 0, 0, 0, 0, 0]\n"
     ]
    }
   ],
   "source": [
    "#11. Patterned List of Ones and Zeroes\n",
    "#Using a for loop, create the list [1, 1, 0, 1, 0, 0, 1, 0, 0, 0, 1, 0, 0, 0, 0, 1, ...] that ends with 10 zeroes\n",
    "#between the last two ones.\n",
    "list=[]\n",
    "gap=0\n",
    "for i in range(11):\n",
    "    list.append(1)\n",
    "    list.extend([0]*gap)\n",
    "    gap+=1\n",
    "    print(list)"
   ]
  },
  {
   "cell_type": "code",
   "execution_count": 15,
   "id": "39620c3d-3544-4ff5-a957-4de431cbb69c",
   "metadata": {},
   "outputs": [
    {
     "name": "stdout",
     "output_type": "stream",
     "text": [
      "generate list:\n",
      "[1, 1, 1, 1, 0, 1, 0, 1, 0, 1, 1, 1, 0, 1, 0, 1, 1, 1, 1, 1, 0, 0, 1, 1, 1, 1, 0, 1, 1, 0, 0, 0, 0, 1, 0, 0, 0, 1, 1, 0, 0, 1, 1, 1, 1, 1, 0, 1, 1, 0, 0, 1, 1, 0, 0, 1, 0, 1, 1, 0, 1, 1, 1, 0, 0, 0, 1, 0, 1, 0, 0, 1, 0, 0, 1, 0, 1, 0, 0, 1, 1, 0, 1, 1, 0, 1, 1, 0, 1, 1, 0, 0, 0, 0, 0, 1, 1, 1, 1, 1]\n",
      "\n",
      "longest run of zeroes: 5\n"
     ]
    }
   ],
   "source": [
    "#12. Longest Run of Zeroes\n",
    "#Write a program that generates 100 random integers (either 0 or 1). Find the longest run of zeroes,\n",
    "#which is the largest number of consecutive zeroes in the list.\n",
    "\n",
    "import random\n",
    "list=[random.randint(0,1) for i in range(100)]\n",
    "print('generate list:')\n",
    "print(list)\n",
    "max_zeroes=0\n",
    "current_zeroes=0\n",
    "for num in list:\n",
    "    if num == 0:\n",
    "        current_zeroes +=1\n",
    "        max_zeroes=max(max_zeroes,current_zeroes)\n",
    "    else:\n",
    "        current_zeroes=0\n",
    "print('\\nlongest run of zeroes:',max_zeroes)"
   ]
  },
  {
   "cell_type": "code",
   "execution_count": 21,
   "id": "d1badef4-ac0c-462a-b211-fbaedc6a0d59",
   "metadata": {},
   "outputs": [
    {
     "name": "stdout",
     "output_type": "stream",
     "text": [
      "list without duplicates: [1, 2, 3, 4, 0]\n"
     ]
    }
   ],
   "source": [
    "#13. Remove Duplicates\n",
    "#Write a program that removes any repeated items from a list so that each item appears at most\n",
    "#once. For instance, the list [1, 1, 2, 3, 4, 3, 0, 0] would become [1, 2, 3, 4, 0].\n",
    "\n",
    "list=[1,1,2,3,4,3,0,0]\n",
    "new_list=[]\n",
    "for num in list:\n",
    "    if num not in new_list:\n",
    "        new_list.append(num)\n",
    "\n",
    "print('list without duplicates:',new_list)"
   ]
  },
  {
   "cell_type": "code",
   "execution_count": 1,
   "id": "922408ae-dbe0-4c65-91e1-49a19b854e69",
   "metadata": {},
   "outputs": [
    {
     "name": "stdin",
     "output_type": "stream",
     "text": [
      "enter length in feet: 39\n"
     ]
    },
    {
     "name": "stdout",
     "output_type": "stream",
     "text": [
      "choose a unit to convert to:\n",
      "1.Inches\n"
     ]
    },
    {
     "name": "stdin",
     "output_type": "stream",
     "text": [
      "enter your choice(1 - 7) 1\n"
     ]
    },
    {
     "name": "stdout",
     "output_type": "stream",
     "text": [
      "39.0 feet is equal to 468.0000Inches\n",
      "2.Yards\n"
     ]
    },
    {
     "name": "stdin",
     "output_type": "stream",
     "text": [
      "enter your choice(1 - 7) 2\n"
     ]
    },
    {
     "name": "stdout",
     "output_type": "stream",
     "text": [
      "39.0 feet is equal to 13.0000Yards\n",
      "3.Miles\n"
     ]
    },
    {
     "name": "stdin",
     "output_type": "stream",
     "text": [
      "enter your choice(1 - 7) 3\n"
     ]
    },
    {
     "name": "stdout",
     "output_type": "stream",
     "text": [
      "39.0 feet is equal to 0.0074Miles\n",
      "4.Millimeters\n"
     ]
    },
    {
     "name": "stdin",
     "output_type": "stream",
     "text": [
      "enter your choice(1 - 7) 4\n"
     ]
    },
    {
     "name": "stdout",
     "output_type": "stream",
     "text": [
      "39.0 feet is equal to 11887.2000Millimeters\n",
      "5.Centimeters\n"
     ]
    },
    {
     "name": "stdin",
     "output_type": "stream",
     "text": [
      "enter your choice(1 - 7) 5\n"
     ]
    },
    {
     "name": "stdout",
     "output_type": "stream",
     "text": [
      "39.0 feet is equal to 1188.7200Centimeters\n",
      "6.Meters\n"
     ]
    },
    {
     "name": "stdin",
     "output_type": "stream",
     "text": [
      "enter your choice(1 - 7) 6\n"
     ]
    },
    {
     "name": "stdout",
     "output_type": "stream",
     "text": [
      "39.0 feet is equal to 11.8872Meters\n",
      "7.Kilometers\n"
     ]
    },
    {
     "name": "stdin",
     "output_type": "stream",
     "text": [
      "enter your choice(1 - 7) 7\n"
     ]
    },
    {
     "name": "stdout",
     "output_type": "stream",
     "text": [
      "39.0 feet is equal to 0.0119Kilometers\n"
     ]
    }
   ],
   "source": [
    "#14. Unit Conversion\n",
    "#Write a program that asks the user to enter a length in feet. Provide the user with options to convert\n",
    "#from feet to:\n",
    "#1. Inches\n",
    "#2. Yards\n",
    "#3. Miles\n",
    "#4. Millimeters\n",
    "#5. Centimeters\n",
    "#6. Meters\n",
    "#7. Kilometers\n",
    "#Use lists to simplify the conversion\n",
    "\n",
    "units=['Inches','Yards','Miles','Millimeters','Centimeters','Meters','Kilometers']\n",
    "factors=[12,1/3,1/5280,304.8,30.48,0.3048,0.0003048]\n",
    "feet=float(input('enter length in feet:'))\n",
    "print('choose a unit to convert to:')\n",
    "for i,unit in enumerate(units,1):\n",
    "    print(f'{i}.{unit}')\n",
    "    choice=int(input('enter your choice(1 - 7)'))\n",
    "    if 1<= choice <= 7:\n",
    "        converted_value= feet * factors[choice-1]\n",
    "        print(f'{feet} feet is equal to {converted_value:.4f}{units[choice-1]}')\n",
    "    else:\n",
    "        print('invalid choice please enter a number b/w 1 and 7')"
   ]
  },
  {
   "cell_type": "code",
   "execution_count": null,
   "id": "865f5f1c-ec7f-4904-abd3-8caccacebcc8",
   "metadata": {},
   "outputs": [],
   "source": []
  }
 ],
 "metadata": {
  "kernelspec": {
   "display_name": "Python 3 (ipykernel)",
   "language": "python",
   "name": "python3"
  },
  "language_info": {
   "codemirror_mode": {
    "name": "ipython",
    "version": 3
   },
   "file_extension": ".py",
   "mimetype": "text/x-python",
   "name": "python",
   "nbconvert_exporter": "python",
   "pygments_lexer": "ipython3",
   "version": "3.12.7"
  }
 },
 "nbformat": 4,
 "nbformat_minor": 5
}
