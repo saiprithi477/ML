{
 "cells": [
  {
   "cell_type": "code",
   "execution_count": 6,
   "id": "9d770610-c04a-4004-af5b-0b9add13972a",
   "metadata": {},
   "outputs": [
    {
     "name": "stdin",
     "output_type": "stream",
     "text": [
      "enter a number 5\n"
     ]
    },
    {
     "name": "stdout",
     "output_type": "stream",
     "text": [
      "prime number\n"
     ]
    }
   ],
   "source": [
    "#1. Write a Python program to check if a given number is prime or not.\n",
    "\n",
    "num=eval(input('enter a number'))\n",
    "if num==1:\n",
    "    print('prime number')\n",
    "elif num >1:\n",
    "    for i in range(2,num):\n",
    "        if num %i==0:\n",
    "            print('not a prime number')\n",
    "            break\n",
    "    else:\n",
    "        print('prime number')"
   ]
  },
  {
   "cell_type": "code",
   "execution_count": 11,
   "id": "adeae92f-38d3-4d4e-b9b8-a2f96f671397",
   "metadata": {},
   "outputs": [
    {
     "name": "stdin",
     "output_type": "stream",
     "text": [
      "enter the n terms 12\n"
     ]
    },
    {
     "name": "stdout",
     "output_type": "stream",
     "text": [
      "fibonacci sequence:\n",
      "0 1 1 2 3 5 8 13 21 34 55 89 "
     ]
    }
   ],
   "source": [
    "# 2. Write a Python program to generate n Fibonacci series values.\n",
    "n_terms=eval(input('enter the n terms'))\n",
    "a1,b1=0,1\n",
    "if n_terms<0:\n",
    "    print('please enter positive number')\n",
    "elif n_terms==1:\n",
    "    print('fibonacci sequence starts:{a1}')\n",
    "else:\n",
    "    print('fibonacci sequence:')\n",
    "    for i in range (n_terms):\n",
    "            n_terms=a1+b1\n",
    "            print(a1,end=' ')\n",
    "            a1,b1=b1,a1+b1"
   ]
  },
  {
   "cell_type": "code",
   "execution_count": 15,
   "id": "8991d842-28a5-4c3b-b2e8-cd02c9869b4b",
   "metadata": {},
   "outputs": [
    {
     "name": "stdout",
     "output_type": "stream",
     "text": [
      "converted string: p y T H o N\n"
     ]
    }
   ],
   "source": [
    "#3. Write a Python program to convert characters at prime index to\n",
    "#uppercase. For example, given input: python, output: pyTHoN.\n",
    "\n",
    "def is_prime(n):\n",
    "    if n<=1:\n",
    "        return False\n",
    "    for i in range(2,int(n*0.5)+1):\n",
    "        if n%i==0:\n",
    "            return False\n",
    "    return True\n",
    "\n",
    "def convert_prime_indices(input_str):\n",
    "    result=list(input_str)\n",
    "    for i in range(len(result)):\n",
    "        if is_prime(i):\n",
    "            result[i]=result[i].upper()\n",
    "    return' '.join(result)\n",
    "input_str=\"python\"\n",
    "print('converted string:',convert_prime_indices(input_str))                                  "
   ]
  },
  {
   "cell_type": "code",
   "execution_count": 23,
   "id": "67f93525-aff8-4b2b-823e-07861708c460",
   "metadata": {},
   "outputs": [
    {
     "name": "stdin",
     "output_type": "stream",
     "text": [
      "enter a number: 1221\n"
     ]
    },
    {
     "name": "stdout",
     "output_type": "stream",
     "text": [
      "palindrom\n"
     ]
    }
   ],
   "source": [
    "#4. Write a Python program to check if a number is a palindrome without\n",
    "#converting it to a string (without using slicing).\n",
    "def is_palindrom(num):\n",
    "    \n",
    "    num=int(input('enter a number:'))\n",
    "    is_palindrome=False\n",
    "    original_num=num\n",
    "    reversed_num=0\n",
    "    num_digits=len(str(num))\n",
    "    for i in range(num_digits):\n",
    "        digit=num%10\n",
    "        reversed_num=reversed_num*10+digit\n",
    "        num=num//10\n",
    "    return original_num==reversed_num\n",
    "if is_palindrom(num):\n",
    "    print('palindrom')\n",
    "else:\n",
    "    print('not palindrom')"
   ]
  },
  {
   "cell_type": "code",
   "execution_count": 6,
   "id": "5556bc96-5da5-4763-95e8-ea3d832b9a83",
   "metadata": {},
   "outputs": [
    {
     "name": "stdout",
     "output_type": "stream",
     "text": [
      "length of list: 5\n",
      "length of string: 9\n"
     ]
    }
   ],
   "source": [
    "#5. Write a Python program to find the length of a list or string without\n",
    "#using the len() function.\n",
    "\n",
    "def find_length(iterable):\n",
    "    count=0\n",
    "    for i in iterable:\n",
    "        count+=1\n",
    "    return count\n",
    "my_list=[1,2,3,4,5]\n",
    "my_string=\"omkar sir\"\n",
    "print(\"length of list:\",find_length(my_list))\n",
    "print(\"length of string:\",find_length(my_string))"
   ]
  },
  {
   "cell_type": "code",
   "execution_count": 18,
   "id": "aa32bab6-3dba-4b76-ae9e-06a3f63aa045",
   "metadata": {},
   "outputs": [
    {
     "name": "stdin",
     "output_type": "stream",
     "text": [
      "enter the num: 9\n"
     ]
    },
    {
     "name": "stdout",
     "output_type": "stream",
     "text": [
      " 9X1=9\n",
      " 9X2=18\n",
      " 9X3=27\n",
      " 9X4=36\n",
      " 9X5=45\n",
      " 9X6=54\n",
      " 9X7=63\n",
      " 9X8=72\n",
      " 9X9=81\n",
      " 9X10=90\n"
     ]
    }
   ],
   "source": [
    "#6. Write a Python program that asks the user to enter a number and\n",
    "#prints its multiplication table using a while loop.\n",
    "\n",
    "num=int(input('enter the num:'))\n",
    "i=1\n",
    "while i<=10:\n",
    "    print(f\" {num}X{i}={num*i}\")\n",
    "    i+=1\n",
    "    "
   ]
  },
  {
   "cell_type": "code",
   "execution_count": 12,
   "id": "bddaab86-c893-4445-a460-2548416a62ba",
   "metadata": {},
   "outputs": [
    {
     "name": "stdout",
     "output_type": "stream",
     "text": [
      "the sum of natural numbers: 15\n"
     ]
    }
   ],
   "source": [
    "#7.Write a Python program to find the sum of a given list using a lambda\n",
    "#function.\n",
    "from functools import reduce\n",
    "number=[1,2,3,4,5]\n",
    "sum=list(number)\n",
    "sum_list = lambda lst: reduce(lambda x, y: x + y, lst)\n",
    "print('the sum of natural numbers:',sum_list(number))"
   ]
  },
  {
   "cell_type": "code",
   "execution_count": 3,
   "id": "b970622b-f76b-4930-9b92-3fc2b3cd69c6",
   "metadata": {},
   "outputs": [
    {
     "name": "stdin",
     "output_type": "stream",
     "text": [
      "enter the year 2024\n"
     ]
    },
    {
     "name": "stdout",
     "output_type": "stream",
     "text": [
      " leep year\n"
     ]
    }
   ],
   "source": [
    "#8. Write a Python program that asks the user to enter a year and\n",
    "#determines whether it is a leap year or not.\n",
    "\n",
    "year=eval(input('enter the year'))\n",
    "if (year % 400== 0) and (year % 100==0):\n",
    "    print('leep year')\n",
    "elif (year % 4==0) and (year % 100 != 0):\n",
    "    print(' leep year')\n",
    "else:\n",
    "    print('not a leap year')"
   ]
  },
  {
   "cell_type": "code",
   "execution_count": 16,
   "id": "67c4037c-07b6-4919-849f-dd8a2179918c",
   "metadata": {},
   "outputs": [
    {
     "name": "stdout",
     "output_type": "stream",
     "text": [
      "{1: 2, 2: 2, 3: 2, 4: 4, 5: 2}\n"
     ]
    }
   ],
   "source": [
    "#9. Write a Python program to count the frequency of each element in a\n",
    "#list.\n",
    "\n",
    "input_list=[1, 2, 3, 4, 2, 3, 4, 1, 4, 5, 5, 4]\n",
    "def counter(input_list):\n",
    "    frequence={}\n",
    "    for i in input_list:\n",
    "        frequence[i]=frequence.get(i,0)+1\n",
    "        \n",
    "    return frequence\n",
    "\n",
    "\n",
    "print(counter([1, 2, 3, 4, 2, 3, 4, 1, 4, 5, 5, 4]))"
   ]
  },
  {
   "cell_type": "code",
   "execution_count": 3,
   "id": "89455bf1-6730-43f9-a6a0-5aa2cea7a057",
   "metadata": {},
   "outputs": [
    {
     "name": "stdout",
     "output_type": "stream",
     "text": [
      "4\n"
     ]
    }
   ],
   "source": [
    "#10.Write a Python program to find the second largest number in a list that\n",
    "#contains duplicate values, without converting the list to a set. For\n",
    "#example, given the list [1, 2, 3, 4, 2, 3, 4, 1, 4, 5, 5, 4], the output should\n",
    "# be 4.\n",
    "a=[1, 2, 3, 4, 2, 3, 4, 1, 4, 5, 5, 4]\n",
    "max1=max2=float('-inf')\n",
    "for n in a:\n",
    "    if n >max1:\n",
    "        max2=max1\n",
    "        max1=n\n",
    "    elif n>max2 and n!=max1:\n",
    "        max2=n\n",
    "print(max2)"
   ]
  }
 ],
 "metadata": {
  "kernelspec": {
   "display_name": "Python 3 (ipykernel)",
   "language": "python",
   "name": "python3"
  },
  "language_info": {
   "codemirror_mode": {
    "name": "ipython",
    "version": 3
   },
   "file_extension": ".py",
   "mimetype": "text/x-python",
   "name": "python",
   "nbconvert_exporter": "python",
   "pygments_lexer": "ipython3",
   "version": "3.12.7"
  }
 },
 "nbformat": 4,
 "nbformat_minor": 5
}
