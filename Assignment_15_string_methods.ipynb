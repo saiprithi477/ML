{
 "cells": [
  {
   "cell_type": "markdown",
   "id": "af390b68-a514-430e-a51a-554dfdfc3e4c",
   "metadata": {},
   "source": [
    "**isalnum**"
   ]
  },
  {
   "cell_type": "code",
   "execution_count": 4,
   "id": "4d7325c6-dc3b-402e-ad93-0527ccf18873",
   "metadata": {},
   "outputs": [
    {
     "data": {
      "text/plain": [
       "True"
      ]
     },
     "execution_count": 4,
     "metadata": {},
     "output_type": "execute_result"
    }
   ],
   "source": [
    "name='sai'\n",
    "name.isalnum()"
   ]
  },
  {
   "cell_type": "code",
   "execution_count": 12,
   "id": "4d7fd89d-36c8-45f5-96bf-b7b349c10420",
   "metadata": {},
   "outputs": [
    {
     "data": {
      "text/plain": [
       "True"
      ]
     },
     "execution_count": 12,
     "metadata": {},
     "output_type": "execute_result"
    }
   ],
   "source": [
    "name='123'\n",
    "name.isalnum()"
   ]
  },
  {
   "cell_type": "code",
   "execution_count": 13,
   "id": "3ad13a4f-2740-4301-bf1a-f4f2b4617a3e",
   "metadata": {},
   "outputs": [
    {
     "data": {
      "text/plain": [
       "False"
      ]
     },
     "execution_count": 13,
     "metadata": {},
     "output_type": "execute_result"
    }
   ],
   "source": [
    "name='sai @123.com'\n",
    "name.isalnum()"
   ]
  },
  {
   "cell_type": "markdown",
   "id": "2c1e7e5b-467f-4f81-b2e7-62a4ac47f076",
   "metadata": {},
   "source": [
    "**isalpha**"
   ]
  },
  {
   "cell_type": "code",
   "execution_count": 1,
   "id": "8b1aa67a-005d-4d58-aebe-ed890a54f332",
   "metadata": {},
   "outputs": [
    {
     "data": {
      "text/plain": [
       "True"
      ]
     },
     "execution_count": 1,
     "metadata": {},
     "output_type": "execute_result"
    }
   ],
   "source": [
    "name='sai'\n",
    "name.isalpha()"
   ]
  },
  {
   "cell_type": "code",
   "execution_count": 14,
   "id": "24be986c-0133-4f6f-8b30-8091f1271ad4",
   "metadata": {},
   "outputs": [
    {
     "data": {
      "text/plain": [
       "False"
      ]
     },
     "execution_count": 14,
     "metadata": {},
     "output_type": "execute_result"
    }
   ],
   "source": [
    "name='123'\n",
    "name.isalpha()"
   ]
  },
  {
   "cell_type": "code",
   "execution_count": 15,
   "id": "c24e3c42-3cab-49a6-a7e1-f2fccc86f37b",
   "metadata": {},
   "outputs": [
    {
     "data": {
      "text/plain": [
       "False"
      ]
     },
     "execution_count": 15,
     "metadata": {},
     "output_type": "execute_result"
    }
   ],
   "source": [
    "name='sai @123.com'\n",
    "name.isalpha()"
   ]
  },
  {
   "cell_type": "markdown",
   "id": "8be0b690-e7dd-4482-8eec-b2bcc32d62dd",
   "metadata": {},
   "source": [
    "**isascii**"
   ]
  },
  {
   "cell_type": "code",
   "execution_count": 16,
   "id": "1dc3b686-9530-4ccc-8b9a-4921cb58096a",
   "metadata": {},
   "outputs": [
    {
     "data": {
      "text/plain": [
       "True"
      ]
     },
     "execution_count": 16,
     "metadata": {},
     "output_type": "execute_result"
    }
   ],
   "source": [
    "name='sai'\n",
    "name.isascii()"
   ]
  },
  {
   "cell_type": "code",
   "execution_count": 17,
   "id": "f88ed9e1-356f-414b-8675-eb0586388a46",
   "metadata": {},
   "outputs": [
    {
     "data": {
      "text/plain": [
       "True"
      ]
     },
     "execution_count": 17,
     "metadata": {},
     "output_type": "execute_result"
    }
   ],
   "source": [
    "name='123'\n",
    "name.isascii()"
   ]
  },
  {
   "cell_type": "code",
   "execution_count": 18,
   "id": "24e7a505-5ebe-436f-9419-e45e6a40e18c",
   "metadata": {},
   "outputs": [
    {
     "data": {
      "text/plain": [
       "True"
      ]
     },
     "execution_count": 18,
     "metadata": {},
     "output_type": "execute_result"
    }
   ],
   "source": [
    "name='sai @123.com'\n",
    "name.isascii()\n"
   ]
  },
  {
   "cell_type": "markdown",
   "id": "0247b6ba-9690-45fe-8844-d548650a9fe7",
   "metadata": {},
   "source": [
    "**isdecimal**"
   ]
  },
  {
   "cell_type": "code",
   "execution_count": 19,
   "id": "bc6c077f-31bc-4e9b-a0e7-159ee5f2480c",
   "metadata": {},
   "outputs": [
    {
     "data": {
      "text/plain": [
       "False"
      ]
     },
     "execution_count": 19,
     "metadata": {},
     "output_type": "execute_result"
    }
   ],
   "source": [
    "name='sai'\n",
    "name.isdecimal()"
   ]
  },
  {
   "cell_type": "code",
   "execution_count": 20,
   "id": "d110da2a-5d06-4d14-acdd-6883f8f25fe7",
   "metadata": {},
   "outputs": [
    {
     "data": {
      "text/plain": [
       "True"
      ]
     },
     "execution_count": 20,
     "metadata": {},
     "output_type": "execute_result"
    }
   ],
   "source": [
    "name='123'\n",
    "name.isdecimal()"
   ]
  },
  {
   "cell_type": "code",
   "execution_count": 21,
   "id": "f6da8626-3744-4aca-bbc4-f8802061c0d4",
   "metadata": {},
   "outputs": [
    {
     "data": {
      "text/plain": [
       "False"
      ]
     },
     "execution_count": 21,
     "metadata": {},
     "output_type": "execute_result"
    }
   ],
   "source": [
    "name='sai @123.com'\n",
    "name.isdecimal()\n"
   ]
  },
  {
   "cell_type": "markdown",
   "id": "f5eafe72-14a7-42af-a4d3-e8b8b002cd9b",
   "metadata": {},
   "source": [
    "**isdigit**"
   ]
  },
  {
   "cell_type": "code",
   "execution_count": 23,
   "id": "5aa9ae74-0720-4c24-a81f-e3bc77b105d3",
   "metadata": {},
   "outputs": [
    {
     "data": {
      "text/plain": [
       "False"
      ]
     },
     "execution_count": 23,
     "metadata": {},
     "output_type": "execute_result"
    }
   ],
   "source": [
    "name='sai'\n",
    "name.isdigit()"
   ]
  },
  {
   "cell_type": "code",
   "execution_count": 24,
   "id": "ed03c2bb-2d88-44cd-8d28-1f4f9ce84c00",
   "metadata": {},
   "outputs": [
    {
     "data": {
      "text/plain": [
       "True"
      ]
     },
     "execution_count": 24,
     "metadata": {},
     "output_type": "execute_result"
    }
   ],
   "source": [
    "name='123'\n",
    "name.isdigit()"
   ]
  },
  {
   "cell_type": "code",
   "execution_count": 25,
   "id": "9502e382-5208-4669-8de3-f3ef702bae3b",
   "metadata": {},
   "outputs": [
    {
     "data": {
      "text/plain": [
       "False"
      ]
     },
     "execution_count": 25,
     "metadata": {},
     "output_type": "execute_result"
    }
   ],
   "source": [
    "name='sai @123.com'\n",
    "name.isdecimal()\n"
   ]
  },
  {
   "cell_type": "markdown",
   "id": "2b68a566-b663-4a6c-b923-082043a2ea91",
   "metadata": {},
   "source": [
    "**isidentifier**"
   ]
  },
  {
   "cell_type": "code",
   "execution_count": 26,
   "id": "003edb9f-8c91-48c2-848c-353b75d604bd",
   "metadata": {},
   "outputs": [
    {
     "data": {
      "text/plain": [
       "True"
      ]
     },
     "execution_count": 26,
     "metadata": {},
     "output_type": "execute_result"
    }
   ],
   "source": [
    "name='sai'\n",
    "name.isidentifier()"
   ]
  },
  {
   "cell_type": "code",
   "execution_count": 27,
   "id": "e407d8ff-8e34-4480-b664-83662895972a",
   "metadata": {},
   "outputs": [
    {
     "data": {
      "text/plain": [
       "False"
      ]
     },
     "execution_count": 27,
     "metadata": {},
     "output_type": "execute_result"
    }
   ],
   "source": [
    "name='123'\n",
    "name.isidentifier()"
   ]
  },
  {
   "cell_type": "code",
   "execution_count": 28,
   "id": "f781b397-34a5-47cd-9c89-9dbd6fecf940",
   "metadata": {},
   "outputs": [
    {
     "data": {
      "text/plain": [
       "False"
      ]
     },
     "execution_count": 28,
     "metadata": {},
     "output_type": "execute_result"
    }
   ],
   "source": [
    "name='sai @123.com'\n",
    "name.isidentifier()\n"
   ]
  },
  {
   "cell_type": "markdown",
   "id": "ead0204e-df35-4667-8fe2-9f9fecfa2523",
   "metadata": {},
   "source": [
    "**islower**"
   ]
  },
  {
   "cell_type": "code",
   "execution_count": 29,
   "id": "cc22a984-989a-42a7-8176-c5ecb214ab0f",
   "metadata": {},
   "outputs": [
    {
     "data": {
      "text/plain": [
       "True"
      ]
     },
     "execution_count": 29,
     "metadata": {},
     "output_type": "execute_result"
    }
   ],
   "source": [
    "name='sai'\n",
    "name.islower()"
   ]
  },
  {
   "cell_type": "code",
   "execution_count": 30,
   "id": "62869c83-af7f-4a1c-b91b-90077fc890d3",
   "metadata": {},
   "outputs": [
    {
     "data": {
      "text/plain": [
       "False"
      ]
     },
     "execution_count": 30,
     "metadata": {},
     "output_type": "execute_result"
    }
   ],
   "source": [
    "name='123'\n",
    "name.islower()"
   ]
  },
  {
   "cell_type": "code",
   "execution_count": 31,
   "id": "1778dd4b-8bf7-4365-b05b-63ee05f76513",
   "metadata": {},
   "outputs": [
    {
     "data": {
      "text/plain": [
       "True"
      ]
     },
     "execution_count": 31,
     "metadata": {},
     "output_type": "execute_result"
    }
   ],
   "source": [
    "name='sai @123.com'\n",
    "name.islower()\n"
   ]
  },
  {
   "cell_type": "markdown",
   "id": "0f3667b8-6808-415d-aaa5-f9a3815fa03c",
   "metadata": {},
   "source": [
    "**isnumeric**"
   ]
  },
  {
   "cell_type": "code",
   "execution_count": 32,
   "id": "0769657a-0007-4f59-8dec-e854fbb36a47",
   "metadata": {},
   "outputs": [
    {
     "data": {
      "text/plain": [
       "False"
      ]
     },
     "execution_count": 32,
     "metadata": {},
     "output_type": "execute_result"
    }
   ],
   "source": [
    "name='sai'\n",
    "name.isnumeric()"
   ]
  },
  {
   "cell_type": "code",
   "execution_count": 33,
   "id": "6abc488e-a6a0-48ad-bfa1-c1f6e6a621ae",
   "metadata": {},
   "outputs": [
    {
     "data": {
      "text/plain": [
       "True"
      ]
     },
     "execution_count": 33,
     "metadata": {},
     "output_type": "execute_result"
    }
   ],
   "source": [
    "name='123'\n",
    "name.isnumeric()"
   ]
  },
  {
   "cell_type": "code",
   "execution_count": 34,
   "id": "cf1a9e05-ff9b-4382-9891-453351785da6",
   "metadata": {},
   "outputs": [
    {
     "data": {
      "text/plain": [
       "False"
      ]
     },
     "execution_count": 34,
     "metadata": {},
     "output_type": "execute_result"
    }
   ],
   "source": [
    "name='sai @123.com'\n",
    "name.isnumeric()\n"
   ]
  },
  {
   "cell_type": "code",
   "execution_count": 35,
   "id": "2b495f03-a96b-456e-9c3a-dccfb56ee3db",
   "metadata": {},
   "outputs": [
    {
     "data": {
      "text/plain": [
       "False"
      ]
     },
     "execution_count": 35,
     "metadata": {},
     "output_type": "execute_result"
    }
   ],
   "source": [
    "name='@_!'\n",
    "name.isnumeric()\n"
   ]
  },
  {
   "cell_type": "markdown",
   "id": "86ec55bd-0258-4064-8a7f-d7686e147980",
   "metadata": {},
   "source": [
    "**isprintable**"
   ]
  },
  {
   "cell_type": "code",
   "execution_count": 36,
   "id": "fb3f7b46-2f78-4bdc-86d5-8ffd9120662e",
   "metadata": {},
   "outputs": [
    {
     "data": {
      "text/plain": [
       "True"
      ]
     },
     "execution_count": 36,
     "metadata": {},
     "output_type": "execute_result"
    }
   ],
   "source": [
    "name='sai'\n",
    "name.isprintable()"
   ]
  },
  {
   "cell_type": "code",
   "execution_count": 37,
   "id": "d20513cc-945b-419e-a1e7-9f3474e30ce6",
   "metadata": {},
   "outputs": [
    {
     "data": {
      "text/plain": [
       "True"
      ]
     },
     "execution_count": 37,
     "metadata": {},
     "output_type": "execute_result"
    }
   ],
   "source": [
    "name='123'\n",
    "name.isprintable()"
   ]
  },
  {
   "cell_type": "code",
   "execution_count": 38,
   "id": "9cc47d55-9a78-478e-addb-b7f302c0a0fd",
   "metadata": {},
   "outputs": [
    {
     "data": {
      "text/plain": [
       "True"
      ]
     },
     "execution_count": 38,
     "metadata": {},
     "output_type": "execute_result"
    }
   ],
   "source": [
    "name='sai @123.com'\n",
    "name.isprintable()\n"
   ]
  },
  {
   "cell_type": "markdown",
   "id": "7a78ac6b-18b1-4cad-a5c4-c7b72239063f",
   "metadata": {},
   "source": [
    "**isspace**"
   ]
  },
  {
   "cell_type": "code",
   "execution_count": 40,
   "id": "56dcd581-fcea-448d-bf8b-6585d4d5b920",
   "metadata": {},
   "outputs": [
    {
     "data": {
      "text/plain": [
       "False"
      ]
     },
     "execution_count": 40,
     "metadata": {},
     "output_type": "execute_result"
    }
   ],
   "source": [
    "name='sai'\n",
    "name.isspace()"
   ]
  },
  {
   "cell_type": "code",
   "execution_count": 44,
   "id": "ebf037ef-d677-40cb-968b-cd485f6da05e",
   "metadata": {},
   "outputs": [
    {
     "data": {
      "text/plain": [
       "True"
      ]
     },
     "execution_count": 44,
     "metadata": {},
     "output_type": "execute_result"
    }
   ],
   "source": [
    "name='   '\n",
    "name.isspace()"
   ]
  },
  {
   "cell_type": "code",
   "execution_count": 42,
   "id": "8329393d-84c1-477e-9174-d2f6d42d4d89",
   "metadata": {},
   "outputs": [
    {
     "data": {
      "text/plain": [
       "False"
      ]
     },
     "execution_count": 42,
     "metadata": {},
     "output_type": "execute_result"
    }
   ],
   "source": [
    "name='sai @123.com'\n",
    "name.isspace()\n"
   ]
  },
  {
   "cell_type": "markdown",
   "id": "3ec609c4-5d72-491f-b02d-af4f8605c7fa",
   "metadata": {},
   "source": [
    "**istitle**"
   ]
  },
  {
   "cell_type": "code",
   "execution_count": 47,
   "id": "9ca92eff-82c4-42d9-971c-c93db572396d",
   "metadata": {},
   "outputs": [
    {
     "data": {
      "text/plain": [
       "False"
      ]
     },
     "execution_count": 47,
     "metadata": {},
     "output_type": "execute_result"
    }
   ],
   "source": [
    "name='sai'\n",
    "name.istitle()"
   ]
  },
  {
   "cell_type": "code",
   "execution_count": 48,
   "id": "7fec75ed-bbba-4ef7-9a5f-d1ea767754e4",
   "metadata": {},
   "outputs": [
    {
     "data": {
      "text/plain": [
       "False"
      ]
     },
     "execution_count": 48,
     "metadata": {},
     "output_type": "execute_result"
    }
   ],
   "source": [
    "name='123'\n",
    "name.istitle()"
   ]
  },
  {
   "cell_type": "code",
   "execution_count": 49,
   "id": "00054fe8-f3f6-4027-a572-f302e5d336bd",
   "metadata": {},
   "outputs": [
    {
     "data": {
      "text/plain": [
       "False"
      ]
     },
     "execution_count": 49,
     "metadata": {},
     "output_type": "execute_result"
    }
   ],
   "source": [
    "name='sai @123.com'\n",
    "name.istitle()\n"
   ]
  },
  {
   "cell_type": "markdown",
   "id": "61b623f7-c909-4d9c-a14d-95a1a6fadc5e",
   "metadata": {},
   "source": [
    "**isupper**"
   ]
  },
  {
   "cell_type": "code",
   "execution_count": 50,
   "id": "eb609b27-32ad-44bd-b808-082a1b192a78",
   "metadata": {},
   "outputs": [
    {
     "data": {
      "text/plain": [
       "False"
      ]
     },
     "execution_count": 50,
     "metadata": {},
     "output_type": "execute_result"
    }
   ],
   "source": [
    "name='sai'\n",
    "name.isupper()"
   ]
  },
  {
   "cell_type": "code",
   "execution_count": 51,
   "id": "d45adc02-d5b9-4546-9767-01f246b368d8",
   "metadata": {},
   "outputs": [
    {
     "data": {
      "text/plain": [
       "False"
      ]
     },
     "execution_count": 51,
     "metadata": {},
     "output_type": "execute_result"
    }
   ],
   "source": [
    "name='123'\n",
    "name.isupper()"
   ]
  },
  {
   "cell_type": "code",
   "execution_count": 52,
   "id": "f9ed4092-f4fe-4a73-87f6-74009202ee05",
   "metadata": {},
   "outputs": [
    {
     "data": {
      "text/plain": [
       "False"
      ]
     },
     "execution_count": 52,
     "metadata": {},
     "output_type": "execute_result"
    }
   ],
   "source": [
    "name='sai @123.com'\n",
    "name.isupper()\n"
   ]
  },
  {
   "cell_type": "code",
   "execution_count": null,
   "id": "b9af2744-91fe-4de8-937c-ccf385d2b459",
   "metadata": {},
   "outputs": [],
   "source": []
  }
 ],
 "metadata": {
  "kernelspec": {
   "display_name": "Python 3 (ipykernel)",
   "language": "python",
   "name": "python3"
  },
  "language_info": {
   "codemirror_mode": {
    "name": "ipython",
    "version": 3
   },
   "file_extension": ".py",
   "mimetype": "text/x-python",
   "name": "python",
   "nbconvert_exporter": "python",
   "pygments_lexer": "ipython3",
   "version": "3.12.7"
  }
 },
 "nbformat": 4,
 "nbformat_minor": 5
}
