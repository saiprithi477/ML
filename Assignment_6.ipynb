{
 "cells": [
  {
   "cell_type": "code",
   "execution_count": 2,
   "id": "03c569d7-0aea-476c-9e9e-95f52a652141",
   "metadata": {},
   "outputs": [
    {
     "name": "stdin",
     "output_type": "stream",
     "text": [
      "enter a length in centimeters: 23\n"
     ]
    },
    {
     "name": "stdout",
     "output_type": "stream",
     "text": [
      "convert the length in inches:9.055118\n"
     ]
    }
   ],
   "source": [
    "#### Problem-1(Use conditional statements)\n",
    "\n",
    "# Write a program that asks the user to enter a length in centimetres. If the user enters\n",
    "# a negative length, the program should tell the user that the entry is invalid. Otherwise,\n",
    "# the program should convert the length to inches and print out the result. There are\n",
    "# 2.54 centimetres in an inch.\n",
    "\n",
    "try:\n",
    "    length_cm=eval(input('enter a length in centimeters:'))\n",
    "    if length_cm<0:\n",
    "        print('that the entry is invalid')\n",
    "    else:\n",
    "        length_inch=length_cm/2.54\n",
    "        print(f'convert the length in inches:{length_inch:2f}')\n",
    "except Exception as e:\n",
    "    print(e)"
   ]
  },
  {
   "cell_type": "code",
   "execution_count": 3,
   "id": "61eb0b3d-d247-4a22-bd12-d29d3291327a",
   "metadata": {},
   "outputs": [
    {
     "name": "stdin",
     "output_type": "stream",
     "text": [
      "enter the temperature: 34\n",
      "is this celsius or fahrenheit? Enter 'C' for Celsius or 'F' for Fahrenheit C\n"
     ]
    },
    {
     "name": "stdout",
     "output_type": "stream",
     "text": [
      "the temperature of fahrenheit is:94.2\n"
     ]
    }
   ],
   "source": [
    "#### Problem-2(Use conditional statements)\n",
    "##Ask the user for a temperature. Then ask them what units, Celsius or Fahrenheit, the\n",
    "##temperature is in. Your program should convert the temperature to the other unit. The\n",
    "##conversions are F = 9/5 C +32 and C = 5/9 (F − 32).\n",
    "\n",
    "\n",
    "try:\n",
    "    temperature=float(input('enter the temperature:'))\n",
    "    unit=input(\"is this celsius or fahrenheit? Enter 'C' for Celsius or 'F' for Fahrenheit\").strip().upper()\n",
    "    if unit == 'C':\n",
    "        temperature_in_fahrenheit=(9/5)*temperature+33\n",
    "        print(f\"the temperature of fahrenheit is:{temperature_in_fahrenheit}\")\n",
    "    elif unit == 'F':\n",
    "        temperature_in_celsius=(5/9)*(temperature-32)\n",
    "        print(f\"the temperature in celsius:{temperature_in_celsius}\")\n",
    "    else:\n",
    "        print(\"Invalid unit. Please enter 'C' for Celsius or 'F' for Fahrenheit.\")\n",
    "except Exception as e:\n",
    "    print(e)"
   ]
  },
  {
   "cell_type": "code",
   "execution_count": 7,
   "id": "e641b21c-addb-41d7-80c1-49cd2a2ce43f",
   "metadata": {},
   "outputs": [
    {
     "name": "stdin",
     "output_type": "stream",
     "text": [
      "enter a temperature in celsius: 243\n"
     ]
    },
    {
     "name": "stdout",
     "output_type": "stream",
     "text": [
      "the temperature is above the boiling point:\n"
     ]
    }
   ],
   "source": [
    "# Problem-3(Use conditional statements)\n",
    "#Ask the user to enter a temperature in Celsius. The program should print a\n",
    "#message based on the temperature:\n",
    "#• If the temperature is less than -273.15, print that the temperature is invalid because it is\n",
    "#below absolute zero.\n",
    "#• If it is exactly -273.15, print that the temperature is absolute 0.\n",
    "#• If the temperature is between -273.15 and 0, print that the temperature is below\n",
    "#freezing. • If it is 0, print that the temperature is at the freezing point.\n",
    "#• If it is between 0 and 100, print that the temperature is in the normal\n",
    "#range. • If it is 100, print that the temperature is at the boiling point.\n",
    "#• If it is above 100, print that the temperature is above the boiling point.\n",
    "\n",
    "try: \n",
    "    temperature=float(input(\"enter a temperature in celsius:\"))\n",
    "    if temperature < -273.15:\n",
    "        print(\"the temperature is invalid becuse it is below absolute zero:\")\n",
    "    elif temperature ==-273.15:\n",
    "        print(\"the temperature is absolute 0:\")\n",
    "    elif -273.15>temperature <0:\n",
    "        print(\"the temperature is below freezing:\")\n",
    "    elif  temperature ==0:\n",
    "        print(\"the temperature is at the freezing point:\")\n",
    "    elif 0 > temperature < 100:\n",
    "        print(\"the temperature is in the normal range:\")\n",
    "    elif  0>temperature > 100:\n",
    "        print(\"the temperature is at the boiling point:\")\n",
    "    else:\n",
    "        print(\"the temperature is above the boiling point:\")\n",
    "        \n",
    "\n",
    "except Exception as e:\n",
    "    print(e)"
   ]
  },
  {
   "cell_type": "code",
   "execution_count": 12,
   "id": "17c88306-2714-4393-bcc8-5ab4ac763cae",
   "metadata": {},
   "outputs": [
    {
     "name": "stdin",
     "output_type": "stream",
     "text": [
      "enter the number of credits you have taken: 56\n"
     ]
    },
    {
     "name": "stdout",
     "output_type": "stream",
     "text": [
      "the student is a juniors:\n"
     ]
    }
   ],
   "source": [
    "#### Problem-4(Use conditional statements)\n",
    "# Write a program that asks the user how many credits they have taken. If they have taken 23 or\n",
    "# less, print that the student is a freshman. If they have taken between 24 and 53, print that they\n",
    "# are asophomore. The range for juniors is 54 to 83, and for seniors it is 84 and over.\n",
    "\n",
    "\n",
    "try:\n",
    "    credits=eval(input(\"enter the number of credits you have taken:\"))\n",
    "    if credits <= 23:\n",
    "        print(\"the student is a freshman:\")\n",
    "    elif 24 <= credits <= 53:\n",
    "        print(\"the student is a asophomore:\") \n",
    "     elif 54 <= credits <=83:\n",
    "        print(\"the student is a juniors:\")\n",
    "    else:\n",
    "        print(\"the student is a seniors:\")\n",
    "except Exception as e:\n",
    "    print(e)"
   ]
  },
  {
   "cell_type": "code",
   "execution_count": 14,
   "id": "b24572c6-6b3b-4c5b-934d-cdcbde2d509c",
   "metadata": {},
   "outputs": [
    {
     "name": "stdin",
     "output_type": "stream",
     "text": [
      "guess the number b/w 1 and 10: 9\n"
     ]
    },
    {
     "name": "stdout",
     "output_type": "stream",
     "text": [
      "sorry your guess is wrong. the number was 4:\n"
     ]
    }
   ],
   "source": [
    "#### Problem-5(Use conditional statements)\n",
    "# Generate a random number between 1 and 10. Ask the user to guess the number and print a\n",
    "# message based on whether they get it right or not.\n",
    "\n",
    "import random\n",
    "try:\n",
    "    random_number=random.randint(1,10)\n",
    "    guess=int(input(\"guess the number b/w 1 and 10:\"))\n",
    "    if guess == random_number:\n",
    "        print(\"yes your guess is correct. the number is right:\")\n",
    "    else:\n",
    "        print(f\"sorry your guess is wrong. the number was {random_number}:\")\n",
    "except Exception as e:\n",
    "    print(e)"
   ]
  },
  {
   "cell_type": "code",
   "execution_count": 8,
   "id": "78d2dde1-33ca-4732-99e6-79b3187f2f9a",
   "metadata": {},
   "outputs": [
    {
     "name": "stdin",
     "output_type": "stream",
     "text": [
      "enter the number of items you are buying: 54\n"
     ]
    },
    {
     "name": "stdout",
     "output_type": "stream",
     "text": [
      " the total cost for54 items is $540:\n"
     ]
    }
   ],
   "source": [
    "#### Problem-6(Use conditional statements)\n",
    "# A store charges $12 per item if you buy less than 10 items. If you buy between 10\n",
    "# and 99 items, the cost is $10 per item. If you buy 100 or more items, the cost is $7\n",
    "# per item. Write a program that asks the user how many items they are buying and\n",
    "# prints the total cost.\n",
    "\n",
    "\n",
    "try:\n",
    "    num_of_items=int(input(\"enter the number of items you are buying:\"))\n",
    "    if num_of_items < 10:\n",
    "        cost_per_item=12\n",
    "    elif 10 < num_of_items < 99:\n",
    "        cost_per_item=10\n",
    "    else:\n",
    "        cost_per_item=7\n",
    "    total_cost = num_of_items*cost_per_item\n",
    "    print (f\" the total cost for{num_of_items} items is ${total_cost}:\")\n",
    "except Exception as e:\n",
    "    print(e)"
   ]
  },
  {
   "cell_type": "code",
   "execution_count": 22,
   "id": "c9ca8380-545e-47c8-a878-16ed004a348c",
   "metadata": {},
   "outputs": [
    {
     "name": "stdin",
     "output_type": "stream",
     "text": [
      "enter the first number: 200\n",
      "enter the second number: 500\n"
     ]
    },
    {
     "name": "stdout",
     "output_type": "stream",
     "text": [
      "not close\n"
     ]
    }
   ],
   "source": [
    "#### Problem-7(Use conditional statements)\n",
    "# Write a program that asks the user for two numbers and prints Close if the\n",
    "# numbers are within 0.001 of each other  and Not close otherwise.\n",
    "\n",
    "\n",
    "try:\n",
    "    num1=eval(input(\"enter the first number:\"))\n",
    "    num2=eval(input(\"enter the second number:\"))\n",
    "    if abs(num1 - num2) < 0.001:\n",
    "        print(\"close\")\n",
    "    else:\n",
    "        print(\"not close\")\n",
    "except Exception as e:\n",
    "    print(e)"
   ]
  },
  {
   "cell_type": "code",
   "execution_count": 29,
   "id": "c9ad72ef-3585-42d1-8ae3-0078839fd6a6",
   "metadata": {},
   "outputs": [
    {
     "name": "stdin",
     "output_type": "stream",
     "text": [
      "enter a year:   10\n"
     ]
    },
    {
     "name": "stdout",
     "output_type": "stream",
     "text": [
      "10 is not a leap year:\n"
     ]
    }
   ],
   "source": [
    "#### Problem-8(Use conditional statements)\n",
    "# A year is a leap year if it is divisible by 4, except that years divisible by 100 are not leap years unless\n",
    "# they are also divisible by 400. Write a program that asks the user for a year and prints out whether\n",
    "# it is a leap year or not.\n",
    "\n",
    "try:\n",
    "    year=int(input(\"enter a year:  \"))\n",
    "    if (year % 4 == 0 and year % 100 !=0) or (year % 400 == 0):\n",
    "        print(f\"{year}is a leap year:\")\n",
    "    else:\n",
    "        print(f\"{year} is not a leap year:\")\n",
    "\n",
    "except Exception as e:\n",
    "    print(e)"
   ]
  },
  {
   "cell_type": "code",
   "execution_count": 11,
   "id": "fa7242b4-b43a-4dd2-a133-fc91e1aa49c9",
   "metadata": {},
   "outputs": [
    {
     "name": "stdin",
     "output_type": "stream",
     "text": [
      "enter a number: 32\n"
     ]
    },
    {
     "name": "stdout",
     "output_type": "stream",
     "text": [
      "the divisors of 32 are:\n",
      "1\n",
      "2\n",
      "4\n",
      "8\n",
      "16\n",
      "32\n"
     ]
    }
   ],
   "source": [
    "#### Problem-9(Use conditional statements)\n",
    "# Write a program that asks the user to enter a number and prints out all the divisors of that\n",
    "# number. [Hint: the % operator is used to tell if a number is divisible by something.\n",
    "try:\n",
    "    num=int(input(\"enter a number:\"))\n",
    "    print(f\"the divisors of {num} are:\")\n",
    "    for i in range(1,num +1):\n",
    "        if num % i ==0:\n",
    "            print(i)\n",
    "except Exception as e:\n",
    "    print(e)\n",
    "\n"
   ]
  },
  {
   "cell_type": "code",
   "execution_count": 10,
   "id": "db49fb4b-9000-48aa-977a-4f80433a7d14",
   "metadata": {},
   "outputs": [
    {
     "name": "stdin",
     "output_type": "stream",
     "text": [
      "enter the hour between 1 and 12: 4\n",
      "entr am(1) pm(2) 1\n",
      "enter how many hours ahead: 4\n"
     ]
    },
    {
     "name": "stdout",
     "output_type": "stream",
     "text": [
      "8am \n"
     ]
    }
   ],
   "source": [
    "#### Problem-10(Use conditional statements)\n",
    "# Write a program that asks the user for an hour between 1 and 12, asks them to\n",
    "# enter am or pm, and asks them how many hours into the future they want to go.\n",
    "# Print out what the hour will be that many hours into the future, printing am or pm as\n",
    "# appropriate. An example is shown below.\n",
    "# Enter hour: 8\n",
    "# am (1) or pm (2)? 1\n",
    "# How many hours ahead? 5\n",
    "# New hour: 1 pm\n",
    "\n",
    "\n",
    "current_hour=eval(input(\"enter the hour between 1 and 12:\"))\n",
    "time=eval(input(\"entr am(1) pm(2)\"))\n",
    "hour_ahead=eval(input(\"enter how many hours you want go into the future:\"))\n",
    "new_hour=(current_hour+hour_ahead)%12\n",
    "if new_hour==0:\n",
    "    new_hour=12\n",
    "if (current_hour+hour_ahead)//12%2==0:\n",
    "    if time==1:\n",
    "        print(f\"{new_hour}am \")\n",
    "    else:\n",
    "        print(f\"{new_hour}pm\")\n",
    "else:\n",
    "    if time==1:\n",
    "        print(f\"{new_hour}am \")\n",
    "    else:\n",
    "        print(f\"{new_hour}pm\")\n",
    "\n",
    "\n",
    "        \n",
    "\n"
   ]
  },
  {
   "cell_type": "markdown",
   "id": "cb246187-d4a7-4c53-a3a4-9df55cd2c565",
   "metadata": {},
   "source": [
    "Write a Python function that checks whether\n",
    "a given string is a palindrome. A palindrome\n",
    "is a word, phrase, or sequence that reads the\n",
    "same backward as forward (e.g.,\n",
    "\n",
    "\"madam\" or\n",
    "\n",
    "\"racecar\").\n"
   ]
  }
 ],
 "metadata": {
  "kernelspec": {
   "display_name": "Python 3 (ipykernel)",
   "language": "python",
   "name": "python3"
  },
  "language_info": {
   "codemirror_mode": {
    "name": "ipython",
    "version": 3
   },
   "file_extension": ".py",
   "mimetype": "text/x-python",
   "name": "python",
   "nbconvert_exporter": "python",
   "pygments_lexer": "ipython3",
   "version": "3.12.7"
  }
 },
 "nbformat": 4,
 "nbformat_minor": 5
}
