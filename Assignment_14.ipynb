{
 "cells": [
  {
   "cell_type": "code",
   "execution_count": 1,
   "id": "251ef13f-c135-47af-9dc4-118fa6e68158",
   "metadata": {},
   "outputs": [
    {
     "name": "stdout",
     "output_type": "stream",
     "text": [
      "even num: [10, 12]\n",
      "odd num: [47, 53, 27]\n"
     ]
    }
   ],
   "source": [
    "#Q2) i already have a list of numbers\n",
    "l=[10,47,53,12,27]\n",
    "\n",
    "l1=[]\n",
    "l2=[]\n",
    "for i in l:\n",
    "    if i % 2 ==0:\n",
    "        l1.append(i)\n",
    "    else:\n",
    "        l2.append(i)\n",
    "print(f'even num:',l1)\n",
    "print(f'odd num:',l2)"
   ]
  },
  {
   "cell_type": "code",
   "execution_count": 1,
   "id": "5679b694-e738-4826-9757-47f961c786a3",
   "metadata": {},
   "outputs": [
    {
     "name": "stdout",
     "output_type": "stream",
     "text": [
      "['Hyd', 'Bengaluru', 'Pune', 'Mumbai']\n"
     ]
    }
   ],
   "source": [
    "# Q3) input=['hyd','bengaluru','pune','mumbai']\n",
    "#     output=['Hyd','Bengaluru','Pune','Mumbai']\n",
    "\n",
    "input=['hyd','bengaluru','pune','mumbai']\n",
    "output = []\n",
    "for i in input:\n",
    "    output.append(i.capitalize())\n",
    "    \n",
    "print(output)\n",
    "    "
   ]
  },
  {
   "cell_type": "code",
   "execution_count": 3,
   "id": "e1748273-bb73-4819-a722-07981e37280b",
   "metadata": {},
   "outputs": [
    {
     "name": "stdout",
     "output_type": "stream",
     "text": [
      "['HYD', 'BENGALURU', 'PUNE', 'MUMBAI']\n"
     ]
    }
   ],
   "source": [
    "# Q4) input=['hyd','bengaluru','pune','mumbai']\n",
    "#     output=['HYD','BENGALURU','PUNE','MUMBAI']\n",
    "input=['hyd','bengaluru','pune','mumbai']\n",
    "output = []\n",
    "for i in input:\n",
    "    output.append(i.upper())\n",
    "print(output)"
   ]
  },
  {
   "cell_type": "code",
   "execution_count": 7,
   "id": "a28a4340-e65b-4ef5-afd2-6f09f9e70c97",
   "metadata": {},
   "outputs": [
    {
     "name": "stdout",
     "output_type": "stream",
     "text": [
      "['ben#galuru', 'mu#mbai']\n"
     ]
    }
   ],
   "source": [
    "# Q5) input=['hyd','ben#galuru','pune','mu#mbai']\n",
    "#     output=[ben#galuru',mu#mbai']\n",
    "input=['hyd','ben#galuru','pune','mu#mbai']\n",
    "output = []\n",
    "for i in input:\n",
    "    if '#' in i:\n",
    "        output.append(i)\n",
    "print(output)"
   ]
  },
  {
   "cell_type": "code",
   "execution_count": 9,
   "id": "1318fab7-7974-4047-a2b4-606ad53fed3b",
   "metadata": {},
   "outputs": [
    {
     "name": "stdout",
     "output_type": "stream",
     "text": [
      "['hyd', 'pune']\n"
     ]
    }
   ],
   "source": [
    "# Q6) input=['hyd','ben#galuru','pune','mu#mbai']\n",
    "#     output=[hyd,pune]\n",
    "input=['hyd','ben#galuru','pune','mu#mbai']\n",
    "output = []\n",
    "for i in input:\n",
    "    if '#' not in i:\n",
    "        output.append(i)\n",
    "print(output)"
   ]
  },
  {
   "cell_type": "code",
   "execution_count": 15,
   "id": "42d906eb-1792-4d64-8c72-e33c265a2b67",
   "metadata": {},
   "outputs": [
    {
     "name": "stdout",
     "output_type": "stream",
     "text": [
      "['HAI', 'HOW', 'ARE', 'YOU']\n"
     ]
    }
   ],
   "source": [
    "# Q7) input = 'hai how are you'\n",
    "#     output=['HAI','HOW','ARE','YOU']\n",
    "input = 'hai how are you'\n",
    "output = []\n",
    "for i in input.split():\n",
    "    output.append(i.upper())\n",
    "print(output)"
   ]
  },
  {
   "cell_type": "code",
   "execution_count": 65,
   "id": "663476d2-5c5d-41b7-80dd-a9ba552d41d0",
   "metadata": {},
   "outputs": [
    {
     "name": "stdout",
     "output_type": "stream",
     "text": [
      "virat kohli rcb\n",
      "first name ['virat']\n",
      "second name ['kohli']\n",
      "company name ['rcb']\n",
      "rohit sharma mi\n",
      "first name ['virat', 'rohit']\n",
      "second name ['kohli', 'sharma']\n",
      "company name ['rcb', 'mi']\n",
      "ms dhoni csk\n",
      "first name ['virat', 'rohit', 'ms']\n",
      "second name ['kohli', 'sharma', 'dhoni']\n",
      "company name ['rcb', 'mi', 'csk']\n"
     ]
    }
   ],
   "source": [
    "\n",
    "# Q8) input='virat.kohli@rcb.com;rohit.sharma@mi.com;ms.dhoni@csk.com'\n",
    "#     fname=['virat','rohit'.'ms']\n",
    "#     sname=['kohli','sharma','dhoni']\n",
    "#     cname=['rcb','mi','csk']\n",
    "input='virat.kohli@rcb.com;rohit.sharma@mi.com;ms.dhoni@csk.com'\n",
    "semi_colom=input.split(';')\n",
    "fname=[]\n",
    "sname=[]\n",
    "cname=[]\n",
    "\n",
    "for i in semi_colom:\n",
    "        \n",
    "        first_part,second_part=i.split('@')\n",
    "        first_name,second_name=first_part.split('.')\n",
    "        company_name=second_part.split('.')[0]\n",
    "        print(first_name,second_name,company_name)\n",
    "        fname.append(first_name)\n",
    "        sname.append(second_name)\n",
    "        cname.append(company_name)\n",
    "        print(f'first name',fname)\n",
    "        print(f'second name',sname)\n",
    "        print(f'company name',cname)\n"
   ]
  },
  {
   "cell_type": "markdown",
   "id": "f934ce4e-d37d-46c6-ad84-2ec14d38dd70",
   "metadata": {},
   "source": [
    "**word frequence**"
   ]
  },
  {
   "cell_type": "code",
   "execution_count": 49,
   "id": "bced98ca-110d-4973-aebc-bbc0ccc5bbe5",
   "metadata": {},
   "outputs": [
    {
     "name": "stdout",
     "output_type": "stream",
     "text": [
      "['can-4', 'canner-3', 'you-3', 'not-1', 'with-1', 'but-1', 'the-1']\n"
     ]
    }
   ],
   "source": [
    "# Q9) input='can canner can you can not canner with you but you can the canner'\n",
    "#     output=['can'-4,'canner'-3,'you'-3,'not'-1,'with'-1,'but'-1,'the'-1]\n",
    "\n",
    "input='can canner can you can not canner with you but you can the canner'\n",
    "l=input.split()\n",
    "output=[]\n",
    "count=0\n",
    "for i in l:\n",
    "    if i not in output:\n",
    "        output.append(i)\n",
    "        \n",
    "output2=[]\n",
    "for i in output:\n",
    "    output2.append(f'{i}-{l.count(i)}')\n",
    "print(output2)"
   ]
  },
  {
   "cell_type": "markdown",
   "id": "ac87e092-55f8-4d5e-b06d-b01af636737e",
   "metadata": {},
   "source": [
    "**' '.join()** # join words"
   ]
  },
  {
   "cell_type": "code",
   "execution_count": 57,
   "id": "d00c12e6-9d7d-464b-8e3f-faadc52271f0",
   "metadata": {},
   "outputs": [
    {
     "name": "stdout",
     "output_type": "stream",
     "text": [
      "can canner can can canner can the canner\n"
     ]
    }
   ],
   "source": [
    "# Q10) input = 'can canner can you can not canner with you but you can the canner'\n",
    "#      stopwords=['not','you','but','with']\n",
    "#      using stopwords remove those words from input\n",
    "#     output='can canner can can canner can canner'\n",
    "input = 'can canner can you can not canner with you but you can the canner'\n",
    "stopwords=['not','you','but','with']\n",
    "output=[]\n",
    "words=input.split()\n",
    "remove_words=[]\n",
    "for i in words:\n",
    "    if i not in stopwords:\n",
    "        remove_words.append(i)\n",
    "        output=' '.join(remove_words)\n",
    "print(output)\n",
    "        "
   ]
  },
  {
   "cell_type": "code",
   "execution_count": 2,
   "id": "ef27fd14-83ef-4e27-a25c-4eb2e172e311",
   "metadata": {},
   "outputs": [
    {
     "name": "stdout",
     "output_type": "stream",
     "text": [
      "canner:3\n"
     ]
    }
   ],
   "source": [
    "# Q11) take a string find the most repeated word from string\n",
    "input = 'can canner can you can not canner with you but you can the canner'\n",
    "output=input.split()\n",
    "max=0\n",
    "for i in output:\n",
    "    count=output.count(i)\n",
    "    max=count\n",
    "    word=i\n",
    "print(f'{word}:{max}')"
   ]
  },
  {
   "cell_type": "code",
   "execution_count": 3,
   "id": "e7c3bacc-6859-45b2-9a47-803c18c70df5",
   "metadata": {},
   "outputs": [
    {
     "name": "stdout",
     "output_type": "stream",
     "text": [
      "longest length[]:14\n"
     ]
    }
   ],
   "source": [
    "# Q12) take a string find the longest length of the word from string\n",
    "input = 'can canner can you can not canner with you but you can the canner'\n",
    "words=input.split()\n",
    "max_length=0\n",
    "longest_words=[]\n",
    "for i in words:\n",
    "    word_length=len(words)\n",
    "    if word_length>max_length:\n",
    "        max_length=word_length\n",
    "for i in words:\n",
    "    if len(word)==max_length:\n",
    "        longest_words.append(word)\n",
    "print(f'longest length{longest_words}:{max_length}')"
   ]
  },
  {
   "cell_type": "code",
   "execution_count": 88,
   "id": "d50904b1-d47a-4fdb-8c72-bee08b6717fd",
   "metadata": {},
   "outputs": [
    {
     "name": "stdout",
     "output_type": "stream",
     "text": [
      "['can', 'you', 'not', 'but', 'the']\n"
     ]
    }
   ],
   "source": [
    "# Q13) take a string find the lowest length of the word from string\n",
    "input = 'can canner can you can not canner with you but you can the canner'\n",
    "sai=input.split()\n",
    "min_length=len(sai[0])\n",
    "lowest_words=[]\n",
    "for i in sai:\n",
    "    word_length=len(i)\n",
    "    if word_length<min_length:\n",
    "        min_length=word_length\n",
    "        lowest_words=[i]\n",
    "    elif word_length==min_length and i not in lowest_words:\n",
    "        lowest_words.append(i)\n",
    "print(lowest_words)"
   ]
  },
  {
   "cell_type": "code",
   "execution_count": 2,
   "id": "ab2db658-9d08-48c9-bf9b-5053bc0df4a7",
   "metadata": {},
   "outputs": [
    {
     "name": "stdin",
     "output_type": "stream",
     "text": [
      "Who is the PM of India?: Modi\n",
      "What is the capital of India?: Delhi\n",
      "Who is the ICT MENS captain?: Rohit\n"
     ]
    },
    {
     "name": "stdout",
     "output_type": "stream",
     "text": [
      "your score is 20\n"
     ]
    }
   ],
   "source": [
    "# Q14) you have some qns list is there\n",
    "#      also you have answers list also there\n",
    "#     qns=['who is PM of india',\n",
    "#       'what is the capital of india', who is ICT MENS captain]\n",
    "#    ans=['Modi','Delhi','Rohit']\n",
    "#    whenerver correct answer marks +10\n",
    "#    print you got total\n",
    "# List of questions and answers\n",
    "# List of questions and answers\n",
    "# List of questions and answers\n",
    "qns = ['Who is the PM of India?','What is the capital of India?','Who is the ICT MENS captain?']\n",
    "ans = ['Modi', 'New Delhi', 'Rohit']\n",
    "user_ans=[]\n",
    "for i in range(len(qns)):\n",
    "    user_ans.append(input(f\"{qns[i]}:\").strip().lower())\n",
    "marks=0\n",
    "for i in range(len(user_ans)):\n",
    "    if user_ans[i]==ans[i].lower():\n",
    "        marks+=10\n",
    "print(f'your score is {marks}')"
   ]
  },
  {
   "cell_type": "code",
   "execution_count": null,
   "id": "ea4682a2-d7ea-4f86-926a-bc97b4a4a267",
   "metadata": {},
   "outputs": [],
   "source": []
  }
 ],
 "metadata": {
  "kernelspec": {
   "display_name": "Python 3 (ipykernel)",
   "language": "python",
   "name": "python3"
  },
  "language_info": {
   "codemirror_mode": {
    "name": "ipython",
    "version": 3
   },
   "file_extension": ".py",
   "mimetype": "text/x-python",
   "name": "python",
   "nbconvert_exporter": "python",
   "pygments_lexer": "ipython3",
   "version": "3.12.7"
  }
 },
 "nbformat": 4,
 "nbformat_minor": 5
}
