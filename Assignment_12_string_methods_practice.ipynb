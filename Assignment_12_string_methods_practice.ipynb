{
 "cells": [
  {
   "cell_type": "markdown",
   "id": "43eba1eb-a76c-4556-936a-2b76bfcf5596",
   "metadata": {},
   "source": [
    "**upper**"
   ]
  },
  {
   "cell_type": "code",
   "execution_count": 3,
   "id": "c7de95a1-3f29-4a53-9e32-efb1cec3459d",
   "metadata": {},
   "outputs": [
    {
     "data": {
      "text/plain": [
       "'MY NAME IS SAI PRITHI I AM COMING FROM ANDRAPRDDESH'"
      ]
     },
     "execution_count": 3,
     "metadata": {},
     "output_type": "execute_result"
    }
   ],
   "source": [
    "my_self='my name is sai prithi i am coming from andraprddesh'\n",
    "my_self.upper()"
   ]
  },
  {
   "cell_type": "markdown",
   "id": "1f0d386b-e866-4d9a-b54f-79c43729a187",
   "metadata": {},
   "source": [
    "**lower**"
   ]
  },
  {
   "cell_type": "code",
   "execution_count": 5,
   "id": "3155b402-f2e7-4540-90e0-a6272c201763",
   "metadata": {},
   "outputs": [
    {
     "data": {
      "text/plain": [
       "'my name is sai prithi i am coming from andraprddesh'"
      ]
     },
     "execution_count": 5,
     "metadata": {},
     "output_type": "execute_result"
    }
   ],
   "source": [
    "my_self='My name is Sai Prithi i am coming from Andraprddesh'\n",
    "my_self.lower()"
   ]
  },
  {
   "cell_type": "markdown",
   "id": "8d838f17-fe80-4f05-a857-dec1c4f47b6a",
   "metadata": {},
   "source": [
    "**title**"
   ]
  },
  {
   "cell_type": "code",
   "execution_count": 7,
   "id": "f2e0e4fc-21e7-4b76-891e-0f56a8f2422d",
   "metadata": {},
   "outputs": [
    {
     "data": {
      "text/plain": [
       "'My Name Is Sai Prithi I Am Coming From Andraprddesh'"
      ]
     },
     "execution_count": 7,
     "metadata": {},
     "output_type": "execute_result"
    }
   ],
   "source": [
    "my_self='my name is sai prithi i am coming from andraprddesh'\n",
    "my_self.title()"
   ]
  },
  {
   "cell_type": "markdown",
   "id": "d67b45a1-dbba-47cd-b873-5ec2190f101f",
   "metadata": {},
   "source": [
    "**capitalize**\n"
   ]
  },
  {
   "cell_type": "code",
   "execution_count": 8,
   "id": "948b256e-b21d-4267-8696-acfa3f2c470b",
   "metadata": {},
   "outputs": [
    {
     "data": {
      "text/plain": [
       "'My name is sai prithi i am coming from andraprddesh'"
      ]
     },
     "execution_count": 8,
     "metadata": {},
     "output_type": "execute_result"
    }
   ],
   "source": [
    "my_self='my name is sai prithi i am coming from andraprddesh'\n",
    "my_self.capitalize()"
   ]
  },
  {
   "cell_type": "markdown",
   "id": "c7ec4e74-f554-412c-a827-ac18f9ef21b4",
   "metadata": {},
   "source": [
    "**casefold**"
   ]
  },
  {
   "cell_type": "code",
   "execution_count": 9,
   "id": "fbb4fc9e-4ac6-411a-9899-742d8061a331",
   "metadata": {},
   "outputs": [
    {
     "data": {
      "text/plain": [
       "'my name is sai prithi i am coming from andraprddesh'"
      ]
     },
     "execution_count": 9,
     "metadata": {},
     "output_type": "execute_result"
    }
   ],
   "source": [
    "my_self='my name is sai prithi i am coming from andraprddesh'\n",
    "my_self.casefold()"
   ]
  },
  {
   "cell_type": "markdown",
   "id": "6cd2cef7-5e33-4570-b05b-a5f52d830032",
   "metadata": {},
   "source": [
    "**center**"
   ]
  },
  {
   "cell_type": "code",
   "execution_count": 14,
   "id": "34e431ab-0251-4ccb-acb7-42d1af332bef",
   "metadata": {},
   "outputs": [
    {
     "data": {
      "text/plain": [
       "'***my name is sai prithi i am coming from andraprddesh****'"
      ]
     },
     "execution_count": 14,
     "metadata": {},
     "output_type": "execute_result"
    }
   ],
   "source": [
    "my_self='my name is sai prithi i am coming from andraprddesh'\n",
    "len(my_self)\n",
    "my_self.center(58,'*')\n"
   ]
  },
  {
   "cell_type": "markdown",
   "id": "ac7a70ef-7ca1-48ae-8067-92cbfc25f537",
   "metadata": {},
   "source": [
    "**strip-lstrip-rstrip**"
   ]
  },
  {
   "cell_type": "code",
   "execution_count": 37,
   "id": "b14e8ebf-b72a-4763-b1bb-626282283acf",
   "metadata": {},
   "outputs": [
    {
     "data": {
      "text/plain": [
       "'my name is sai prithi i am coming from andraprddesh'"
      ]
     },
     "execution_count": 37,
     "metadata": {},
     "output_type": "execute_result"
    }
   ],
   "source": [
    "my_self='    my name is sai prithi i am coming from andraprddesh    '\n",
    "my_self1='******my name is sai prithi i am coming from andraprddesh***'\n",
    "my_self2='    my name is sai prithi i am coming from andraprddesh*******'\n",
    "len(my_self)\n",
    "my_self.strip('').rstrip().lstrip()\n",
    "\n"
   ]
  },
  {
   "cell_type": "code",
   "execution_count": 46,
   "id": "c7016b4c-041f-43ae-93af-68d48d0d6efd",
   "metadata": {},
   "outputs": [
    {
     "data": {
      "text/plain": [
       "'my name is sai prithi i am coming from andraprddesh'"
      ]
     },
     "execution_count": 46,
     "metadata": {},
     "output_type": "execute_result"
    }
   ],
   "source": [
    "my_self1.strip('').lstrip('*').rstrip('*')"
   ]
  },
  {
   "cell_type": "code",
   "execution_count": 34,
   "id": "2abf6f09-e0d0-486b-ade0-d1a9b38b6410",
   "metadata": {},
   "outputs": [
    {
     "data": {
      "text/plain": [
       "'my name is sai prithi i am coming from andraprddesh'"
      ]
     },
     "execution_count": 34,
     "metadata": {},
     "output_type": "execute_result"
    }
   ],
   "source": [
    "my_self2.strip('').lstrip().rstrip('*')"
   ]
  },
  {
   "cell_type": "markdown",
   "id": "14c09e12-514a-49f6-b522-96a2c178af69",
   "metadata": {},
   "source": [
    "**startswith**"
   ]
  },
  {
   "cell_type": "code",
   "execution_count": 41,
   "id": "6628e271-d28f-4805-a36e-e769fbaf7d92",
   "metadata": {},
   "outputs": [
    {
     "data": {
      "text/plain": [
       "True"
      ]
     },
     "execution_count": 41,
     "metadata": {},
     "output_type": "execute_result"
    }
   ],
   "source": [
    "str1='hello'\n",
    "str1.startswith('h')"
   ]
  },
  {
   "cell_type": "markdown",
   "id": "4d4fe048-5141-435e-91cf-875e09032e02",
   "metadata": {},
   "source": [
    "**endswith**"
   ]
  },
  {
   "cell_type": "code",
   "execution_count": 44,
   "id": "d9786546-ef12-43b3-842d-0c8a2d607423",
   "metadata": {},
   "outputs": [
    {
     "data": {
      "text/plain": [
       "True"
      ]
     },
     "execution_count": 44,
     "metadata": {},
     "output_type": "execute_result"
    }
   ],
   "source": [
    "str1='hello'\n",
    "str1.endswith('o')"
   ]
  },
  {
   "cell_type": "code",
   "execution_count": null,
   "id": "ca0ed610-bd54-4131-b971-e2e242650e8a",
   "metadata": {},
   "outputs": [],
   "source": []
  },
  {
   "cell_type": "code",
   "execution_count": null,
   "id": "a51a39db-cddd-45db-8a82-187018bc46bc",
   "metadata": {},
   "outputs": [],
   "source": []
  }
 ],
 "metadata": {
  "kernelspec": {
   "display_name": "Python 3 (ipykernel)",
   "language": "python",
   "name": "python3"
  },
  "language_info": {
   "codemirror_mode": {
    "name": "ipython",
    "version": 3
   },
   "file_extension": ".py",
   "mimetype": "text/x-python",
   "name": "python",
   "nbconvert_exporter": "python",
   "pygments_lexer": "ipython3",
   "version": "3.12.7"
  }
 },
 "nbformat": 4,
 "nbformat_minor": 5
}
